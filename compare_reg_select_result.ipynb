{
 "cells": [
  {
   "cell_type": "code",
   "execution_count": 2,
   "metadata": {},
   "outputs": [],
   "source": [
    "import pandas as pd \n",
    "from prophet import Prophet\n",
    "import matplotlib.pyplot as plt\n",
    "import numpy as np\n",
    "from prophet.plot import plot_plotly, plot_components_plotly\n",
    "from sklearn.metrics import mean_absolute_error,mean_absolute_percentage_error\n",
    "import seaborn as sns\n",
    "sns.set()\n",
    "sns.set_style(\"whitegrid\")\n",
    "\n",
    "from datetime import datetime"
   ]
  },
  {
   "cell_type": "code",
   "execution_count": 3,
   "metadata": {},
   "outputs": [],
   "source": [
    "from sklearn.feature_selection import SelectFromModel\n",
    "from prophet.utilities import regressor_coefficients\n",
    "\n",
    "from sklearn.ensemble import RandomForestRegressor\n",
    "from sklearn.model_selection import train_test_split\n",
    "\n",
    "from sklearn.tree import DecisionTreeRegressor\n",
    "\n",
    "import xgboost as xgb"
   ]
  },
  {
   "cell_type": "markdown",
   "metadata": {},
   "source": [
    "# Importing DATA"
   ]
  },
  {
   "cell_type": "code",
   "execution_count": 4,
   "metadata": {},
   "outputs": [],
   "source": [
    "#group = ['Banking','United states','United states Banking']\n",
    "group = ['Banking']\n",
    "\n",
    "if group == ['Banking']:\n",
    "    df_b_cluster = pd.read_csv(r'.\\Banking\\clusters_result.csv')\n",
    "    df_b_outliers = pd.read_csv(r'.\\Banking\\df_outliers_results.csv')\n",
    "    #Banking cluster\n",
    "    df_cluster0 = list(df_b_cluster['Busns Id'][(df_b_cluster['gmm_3'] == 0)])\n",
    "    df_cluster1 = list(df_b_cluster['Busns Id'][(df_b_cluster['gmm_3'] == 1)])\n",
    "    df_cluster2 = list(df_b_cluster['Busns Id'][(df_b_cluster['gmm_3'] == 2)])\n",
    "    #Banking outliers\n",
    "    df_outliers = list(df_b_outliers['Busns Id'][(df_b_outliers['ecod'] == True)])\n",
    "elif group == ['United states']:\n",
    "    df_us_cluster = pd.read_csv(r'.\\United States\\clusters_result.csv')\n",
    "    df_us_outliers = pd.read_csv(r'.\\United States\\df_outliers_results.csv')\n",
    "    #United states clusters\n",
    "    df_cluster0 = list(df_us_cluster['Busns Id'][(df_us_cluster['gmm_3'] == 0)])\n",
    "    df_cluster1 = list(df_us_cluster['Busns Id'][(df_us_cluster['gmm_3'] == 1)])\n",
    "    df_cluster2 = list(df_us_cluster['Busns Id'][(df_us_cluster['gmm_3'] == 2)])\n",
    "    #United states outliers\n",
    "    df_outliers = list(df_us_outliers['Busns Id'][(df_us_outliers['ecod'] == True)])\n",
    "elif group == ['United states Banking']:\n",
    "    df_usb_cluster = pd.read_csv(r'.\\United States Banking\\clusters_result.csv')\n",
    "    df_usb_outliers = pd.read_csv(r'.\\\\United States Banking\\\\df_outliers_results.csv')\n",
    "    #United states Banking clusters\n",
    "    df_cluster0 = list(df_usb_cluster['Busns Id'][(df_usb_cluster['gmm_3'] == 0)])\n",
    "    df_cluster1 = list(df_usb_cluster['Busns Id'][(df_usb_cluster['gmm_3'] == 1)])\n",
    "    df_cluster2 = list(df_usb_cluster['Busns Id'][(df_usb_cluster['gmm_3'] == 2)])\n",
    "    #United states Banking outliers\n",
    "    df_outliers = list(df_usb_outliers['Busns Id'][(df_usb_outliers['ecod'] == True)])\n",
    "    "
   ]
  },
  {
   "cell_type": "markdown",
   "metadata": {},
   "source": [
    "## Cluster allocation"
   ]
  },
  {
   "cell_type": "code",
   "execution_count": 5,
   "metadata": {},
   "outputs": [],
   "source": [
    "#cluster = ['0' , '1' , '2' , 'outlier' , 'all']\n",
    "cluster = ['all']\n",
    "if cluster == ['0']:\n",
    "    sep_acc = df_cluster0\n",
    "elif cluster == ['1']:\n",
    "    sep_acc = df_cluster1\n",
    "elif cluster == ['2']:\n",
    "    sep_acc = df_cluster2\n",
    "elif cluster == ['outlier']:\n",
    "    sep_acc = df_outliers\n",
    "elif cluster == ['all']:\n",
    "    sep_acc = df_outliers + df_cluster0 + df_cluster1 + df_cluster2"
   ]
  },
  {
   "cell_type": "code",
   "execution_count": 6,
   "metadata": {},
   "outputs": [
    {
     "data": {
      "text/plain": [
       "395"
      ]
     },
     "execution_count": 6,
     "metadata": {},
     "output_type": "execute_result"
    }
   ],
   "source": [
    "#sep_acc = ['EARLY_WARN_S','TD_BANK_NA']\n",
    "final_list = sep_acc\n",
    "len(final_list)"
   ]
  },
  {
   "cell_type": "code",
   "execution_count": 7,
   "metadata": {},
   "outputs": [
    {
     "name": "stderr",
     "output_type": "stream",
     "text": [
      "C:\\Users\\AishaniSanjayPatil\\AppData\\Local\\Temp\\ipykernel_13128\\2532084808.py:2: DtypeWarning: Columns (12,16) have mixed types. Specify dtype option on import or set low_memory=False.\n",
      "  df = pd.read_csv('all_factors_matrix_in_time.csv')\n"
     ]
    }
   ],
   "source": [
    "#loading the data\n",
    "df = pd.read_csv('all_factors_matrix_in_time.csv')\n",
    "df['DATE'] = pd.to_datetime(df[['YEAR','MONTH']].assign(DAY = 1))"
   ]
  },
  {
   "cell_type": "code",
   "execution_count": 8,
   "metadata": {},
   "outputs": [],
   "source": [
    "regressor_list =  ['profit_per_fte','labor_charge_hourly','labor_cost','vended_services_cost','inhouse_labor_ratio','labor_band','profit_per_labor_dolar',\n",
    "                         'managed_contracts_rev','consult_contracts_rev','managed_contracts_cost','consult_contracts_cost']\n",
    "\n",
    "#regressor_list = ['profit_per_fte','vended_services_cost','profit_per_labor_dolar','managed_contracts_cost','consult_contracts_cost']"
   ]
  },
  {
   "cell_type": "markdown",
   "metadata": {},
   "source": [
    "## Final dataframe"
   ]
  },
  {
   "cell_type": "code",
   "execution_count": 9,
   "metadata": {},
   "outputs": [],
   "source": [
    "#extract required data for prediction from the available data\n",
    "df1 = df[['Busns Id','DATE','gross_profit_margin'] + regressor_list]\n",
    "#drop unwanted values\n",
    "df2 = df1.replace(['Nan','nan','#NAME?','NaN','inf','-inf','', ' ',np.inf, -np.inf], None)\n",
    "\n",
    "#df2[['DATE','gross_profit_margin'] + regressor_list] = df2.groupby('Busns Id').fillna(method = 'ffill')\n",
    "#df2[['DATE','gross_profit_margin'] + regressor_list] = df2.groupby('Busns Id').fillna(method = 'bfill')\n",
    "\n",
    "df2['gross_profit_margin'] = df2['gross_profit_margin'].astype(float).round(decimals = 2)"
   ]
  },
  {
   "cell_type": "markdown",
   "metadata": {},
   "source": [
    "# Function for predicting regressors and using models to find out the best fitting subsets of regressors"
   ]
  },
  {
   "cell_type": "code",
   "execution_count": 16,
   "metadata": {},
   "outputs": [],
   "source": [
    "def compare_diff_models(df_func, acc_list,regressor_list):\n",
    "    #df_func = df_func.set_index('Busns Id' , inplace= True)\n",
    "    for acc in acc_list:\n",
    "        \n",
    "        print(acc)\n",
    "        df_acc = df_func.loc[df_func['Busns Id'] == acc]\n",
    "        remove_column = df_acc.columns[df_acc.isna().all()]\n",
    "        for col in remove_column:\n",
    "            if col in regressor_list:\n",
    "                regressor_list.remove(col)\n",
    "        df_acc = df_acc.sort_values('DATE')\n",
    "        df_acc.reset_index()\n",
    "        #print(df_acc)\n",
    "        #predicting values of regressors\n",
    "        df_sub = df_acc[['DATE','gross_profit_margin']]\n",
    "        df_sub = df_sub.reset_index()\n",
    "        df_sub = df_sub.drop(['index'],axis = 1)\n",
    "        for i in regressor_list:\n",
    "            df_reg_i = df_acc[['DATE',i]]\n",
    "            df_reg_i.columns = ['ds' , 'y']\n",
    "            train_reg_i = df_reg_i.iloc[:8]\n",
    "            model_reg_i = Prophet()\n",
    "            model_reg_i.fit(train_reg_i)\n",
    "            future_reg_i = pd.DataFrame(df_acc['DATE'].iloc[8:])\n",
    "            future_reg_i.columns = ['ds']\n",
    "            future_reg_i['ds'] = pd.to_datetime(future_reg_i['ds'])\n",
    "            forecast_reg_i = model_reg_i.predict(future_reg_i)\n",
    "            predicted_reg_i = pd.DataFrame()\n",
    "            predicted_reg_i[i] = forecast_reg_i['yhat']\n",
    "            df_sub[i] = pd.concat([df_acc[i].iloc[:8] , predicted_reg_i[i]] , axis = 0, ignore_index = True)\n",
    "        \n",
    "        #prophet model to find the best regressors\n",
    "        df_sub_pr = df_sub.rename(columns = {'DATE' : 'ds','gross_profit_margin' : 'y'})\n",
    "        #print(df_sub)\n",
    "        train_pr = df_sub_pr.iloc[:8]\n",
    "        test_pr = df_sub_pr.iloc[8:]\n",
    "        model_pr = Prophet(interval_width = 0.3) #call the object  \n",
    "        for j in regressor_list: #add regressor\n",
    "            model_pr.add_regressor(j)\n",
    "        #fit the model_pr\n",
    "        model_pr.fit(train_pr)\n",
    "        regressor_coef_pr = regressor_coefficients(model_pr)\n",
    "        regressor_coef_pr['coef'] = regressor_coef_pr['coef'].abs()\n",
    "        regressor_coef_pr = regressor_coef_pr[['regressor','coef']].sort_values('coef',ascending=False).reset_index()\n",
    "        important_features_pr = list(regressor_coef_pr['regressor'].loc[:3])\n",
    "        \n",
    "        #Train test data split\n",
    "        df_sub_reg = df_sub.copy()\n",
    "        df_sub_reg['y'] = df_sub_reg['gross_profit_margin'].shift(1)\n",
    "        df_sub_reg['y'] = df_sub_reg['y'].bfill()\n",
    "        #print(df_sub_reg)\n",
    "        regressor_list_new = regressor_list + ['gross_profit_margin']\n",
    "        df_sub_reg[regressor_list_new] = df_sub_reg[regressor_list_new].apply(pd.to_numeric, errors='coerce')      \n",
    "        df_sub_reg.set_index('DATE', inplace=True)\n",
    "        X = df_sub_reg[regressor_list_new]\n",
    "        y = df_sub_reg['y']\n",
    "        X_train, X_test, y_train, y_test = train_test_split(X, y, test_size=0.2, shuffle = False)\n",
    "        #print(X)\n",
    "        #print(X_train)\n",
    "\n",
    "        #Random forest regressor\n",
    "        rf_model = RandomForestRegressor(n_estimators=100)\n",
    "        rf_model.fit(X_train, y_train)\n",
    "        sfm_rfr = SelectFromModel(rf_model)\n",
    "        sfm_rfr.fit(X_train, y_train)\n",
    "        important_features_RFR_1 = list(X.columns[sfm_rfr.get_support()])\n",
    "        feature_importance_df = pd.DataFrame({'Feature': regressor_list_new,'Importance': rf_model.feature_importances_})\n",
    "        important_features_RFR_2 = feature_importance_df.head(5)['Feature'].tolist()\n",
    "\n",
    "        #Decision Tree\n",
    "        reg_dt = DecisionTreeRegressor(random_state=42)\n",
    "        reg_dt.fit(X_train, y_train)\n",
    "        sfm_dt = SelectFromModel(reg_dt)\n",
    "        sfm_dt.fit(X_train, y_train)\n",
    "        important_features_dt = list(X.columns[sfm_dt.get_support()])\n",
    "\n",
    "        #XG Boost\n",
    "        model_xg = xgb.XGBRegressor()\n",
    "        model_xg.fit(X_train, y_train)\n",
    "        sfm_xg = SelectFromModel(model_xg)\n",
    "        sfm_xg.fit(X_train, y_train)\n",
    "        important_features_xg_1 = list(X.columns[sfm_xg.get_support()])\n",
    "        importances_xg = model_xg.get_booster().get_score(importance_type='weight')\n",
    "        importances_xg = sorted(importances_xg.items(), key=lambda x: x[1], reverse=True)\n",
    "        important_features_xg_2 = [feature for feature, _ in importances_xg]\n",
    "        #if 'gross_profit_margin' in important_features_xg_2:\n",
    "        #    important_features_xg_2.remove('gross_profit_margin')\n",
    "        best_fit_dict = {'Prophet':important_features_pr, 'Random Forest 1': important_features_RFR_1, 'Random Forest 2': important_features_RFR_2,\n",
    "                         'Decision Tree':important_features_dt,'XG Boost 1': important_features_xg_1,'XG Boost 2': important_features_xg_2}\n",
    "\n",
    "        #best_fit_list = [important_features_pr,important_features_RFR_1,important_features_RFR_2,important_features_dt,important_features_xg_1,important_features_xg_2]\n",
    "        print(f'Prophet: {important_features_pr}\\nRandom forest (Select from model){important_features_RFR_1}\\nRandom forest (feature importance function): {important_features_RFR_2}\\nDecision Tree (Select from model): {important_features_dt}\\nXG Boost (Select from model):{important_features_xg_1}\\nXG Boost (Get booster function): {important_features_xg_2}')\n",
    "\n",
    "        for model,best_fit_list in best_fit_dict.items():\n",
    "            #print(type)\n",
    "            if df_sub['gross_profit_margin'].iloc[8:].values.all() is not np.isnan(df_sub['gross_profit_margin'].iloc[8:]).any():\n",
    "\n",
    "                list_init = [acc , model , best_fit_list]\n",
    "\n",
    "                make_forecast(df_sub , best_fit_list , acc , list_init)\n",
    "\n",
    "                all_metric_df.loc[len(all_metric_df)] = list_init\n",
    "        "
   ]
  },
  {
   "cell_type": "markdown",
   "metadata": {},
   "source": [
    "# Prophet function"
   ]
  },
  {
   "cell_type": "code",
   "execution_count": 11,
   "metadata": {},
   "outputs": [],
   "source": [
    "def make_forecast(df_account , regressor_best_list , acc , list_init):\n",
    "\n",
    "    if 'gross_profit_margin' in regressor_best_list:\n",
    "        regressor_best_list.remove('gross_profit_margin')\n",
    "\n",
    "    df_acc = df_account.rename(columns = {'DATE' : 'ds','gross_profit_margin' : 'y'})\n",
    "    train = df_acc.iloc[:8]\n",
    "    test = df_acc.iloc[8:]\n",
    "    model = Prophet(interval_width = 0.3)\n",
    "    for i in regressor_best_list:\n",
    "        model.add_regressor(i)\n",
    "    model.fit(train)\n",
    "    #make future dataframe\n",
    "    future = pd.DataFrame(test.ds)\n",
    "    future.columns = ['ds']\n",
    "    future['ds'] = pd.to_datetime(future['ds'])\n",
    "    #defining future regressor dataframe\n",
    "    for k in regressor_best_list:\n",
    "        future[k] = df_acc[k].iloc[8:]\n",
    "    forecast = model.predict(future)\n",
    "    \n",
    "    y_pred = forecast.iloc[-4:]['yhat']\n",
    "    y_true = test['y']\n",
    "    if y_true.values.all() is not np.isnan(y_true).any():\n",
    "        #mae_dict = {'Business Id' : acc}\n",
    "        for m in range(1,len(y_pred)+1):\n",
    "            y_pred_m = y_pred[:m]\n",
    "            y_true_m = y_true[:m]\n",
    "            #print(y_true_m,y_pred_m)\n",
    "            mae = mean_absolute_error(y_true_m,y_pred_m).round()\n",
    "            #mae_dict[f'MAE_for_month_{m}'] = mae\n",
    "            list_init.append(mae)\n",
    "            #print(f'For {i} account:\\nMean absolute error for {m} month/s prediction: {mae} (GPM %)')\n",
    "            mape = mean_absolute_percentage_error(y_true_m,y_pred_m).round(decimals = 2)\n",
    "            #mae_dict[f'MAPE_for_month_{m}'] = mape\n",
    "            list_init.append(mape)\n",
    "            #print(f'For {i} account:\\nMean absolute percentage error for {j} month/s prediction: {mape} (GPM %)')\n",
    "        #print(list_init)\n",
    "        return list_init\n"
   ]
  },
  {
   "cell_type": "code",
   "execution_count": 113,
   "metadata": {},
   "outputs": [
    {
     "data": {
      "text/html": [
       "<div>\n",
       "<style scoped>\n",
       "    .dataframe tbody tr th:only-of-type {\n",
       "        vertical-align: middle;\n",
       "    }\n",
       "\n",
       "    .dataframe tbody tr th {\n",
       "        vertical-align: top;\n",
       "    }\n",
       "\n",
       "    .dataframe thead th {\n",
       "        text-align: right;\n",
       "    }\n",
       "</style>\n",
       "<table border=\"1\" class=\"dataframe\">\n",
       "  <thead>\n",
       "    <tr style=\"text-align: right;\">\n",
       "      <th></th>\n",
       "      <th>Account</th>\n",
       "      <th>Feature_select_model</th>\n",
       "      <th>list_of_regressors</th>\n",
       "      <th>MAE1</th>\n",
       "      <th>MAPE1</th>\n",
       "      <th>MAE2</th>\n",
       "      <th>MAPE2</th>\n",
       "      <th>MAE3</th>\n",
       "      <th>MAPE3</th>\n",
       "      <th>MAE4</th>\n",
       "      <th>MAPE4</th>\n",
       "    </tr>\n",
       "  </thead>\n",
       "  <tbody>\n",
       "    <tr>\n",
       "      <th>0</th>\n",
       "      <td>BANCO_SANT_C</td>\n",
       "      <td>Prophet</td>\n",
       "      <td>[managed_contracts_cost, managed_contracts_rev...</td>\n",
       "      <td>11.0</td>\n",
       "      <td>0.22</td>\n",
       "      <td>12.0</td>\n",
       "      <td>0.22</td>\n",
       "      <td>19.0</td>\n",
       "      <td>0.27</td>\n",
       "      <td>36.0</td>\n",
       "      <td>0.93</td>\n",
       "    </tr>\n",
       "    <tr>\n",
       "      <th>1</th>\n",
       "      <td>BANCO_SANT_C</td>\n",
       "      <td>Random Forest 1</td>\n",
       "      <td>[labor_band, profit_per_labor_dolar, consult_c...</td>\n",
       "      <td>10.0</td>\n",
       "      <td>0.20</td>\n",
       "      <td>11.0</td>\n",
       "      <td>0.20</td>\n",
       "      <td>18.0</td>\n",
       "      <td>0.25</td>\n",
       "      <td>36.0</td>\n",
       "      <td>0.93</td>\n",
       "    </tr>\n",
       "    <tr>\n",
       "      <th>2</th>\n",
       "      <td>BANCO_SANT_C</td>\n",
       "      <td>Random Forest 2</td>\n",
       "      <td>[profit_per_fte, labor_charge_hourly, labor_co...</td>\n",
       "      <td>11.0</td>\n",
       "      <td>0.22</td>\n",
       "      <td>12.0</td>\n",
       "      <td>0.22</td>\n",
       "      <td>19.0</td>\n",
       "      <td>0.27</td>\n",
       "      <td>36.0</td>\n",
       "      <td>0.93</td>\n",
       "    </tr>\n",
       "    <tr>\n",
       "      <th>3</th>\n",
       "      <td>BANCO_SANT_C</td>\n",
       "      <td>Decision Tree</td>\n",
       "      <td>[labor_band, consult_contracts_rev]</td>\n",
       "      <td>11.0</td>\n",
       "      <td>0.22</td>\n",
       "      <td>12.0</td>\n",
       "      <td>0.22</td>\n",
       "      <td>19.0</td>\n",
       "      <td>0.27</td>\n",
       "      <td>36.0</td>\n",
       "      <td>0.93</td>\n",
       "    </tr>\n",
       "    <tr>\n",
       "      <th>4</th>\n",
       "      <td>BANCO_SANT_C</td>\n",
       "      <td>XG Boost 1</td>\n",
       "      <td>[labor_band, profit_per_labor_dolar]</td>\n",
       "      <td>11.0</td>\n",
       "      <td>0.22</td>\n",
       "      <td>12.0</td>\n",
       "      <td>0.22</td>\n",
       "      <td>19.0</td>\n",
       "      <td>0.27</td>\n",
       "      <td>37.0</td>\n",
       "      <td>0.93</td>\n",
       "    </tr>\n",
       "    <tr>\n",
       "      <th>5</th>\n",
       "      <td>BANCO_SANT_C</td>\n",
       "      <td>XG Boost 2</td>\n",
       "      <td>[profit_per_fte, profit_per_labor_dolar, labor...</td>\n",
       "      <td>12.0</td>\n",
       "      <td>0.22</td>\n",
       "      <td>13.0</td>\n",
       "      <td>0.23</td>\n",
       "      <td>19.0</td>\n",
       "      <td>0.28</td>\n",
       "      <td>37.0</td>\n",
       "      <td>0.93</td>\n",
       "    </tr>\n",
       "    <tr>\n",
       "      <th>6</th>\n",
       "      <td>BK_AMER_NAT</td>\n",
       "      <td>Prophet</td>\n",
       "      <td>[managed_contracts_rev, vended_services_cost, ...</td>\n",
       "      <td>155.0</td>\n",
       "      <td>161.64</td>\n",
       "      <td>203.0</td>\n",
       "      <td>91.25</td>\n",
       "      <td>254.0</td>\n",
       "      <td>63.99</td>\n",
       "      <td>321.0</td>\n",
       "      <td>49.00</td>\n",
       "    </tr>\n",
       "    <tr>\n",
       "      <th>7</th>\n",
       "      <td>BK_AMER_NAT</td>\n",
       "      <td>Random Forest 1</td>\n",
       "      <td>[profit_per_fte, managed_contracts_rev, manage...</td>\n",
       "      <td>6.0</td>\n",
       "      <td>5.84</td>\n",
       "      <td>16.0</td>\n",
       "      <td>4.05</td>\n",
       "      <td>31.0</td>\n",
       "      <td>3.24</td>\n",
       "      <td>64.0</td>\n",
       "      <td>2.74</td>\n",
       "    </tr>\n",
       "    <tr>\n",
       "      <th>8</th>\n",
       "      <td>BK_AMER_NAT</td>\n",
       "      <td>Random Forest 2</td>\n",
       "      <td>[profit_per_fte, labor_charge_hourly, labor_co...</td>\n",
       "      <td>16.0</td>\n",
       "      <td>16.86</td>\n",
       "      <td>28.0</td>\n",
       "      <td>10.05</td>\n",
       "      <td>43.0</td>\n",
       "      <td>7.36</td>\n",
       "      <td>76.0</td>\n",
       "      <td>5.86</td>\n",
       "    </tr>\n",
       "    <tr>\n",
       "      <th>9</th>\n",
       "      <td>BK_AMER_NAT</td>\n",
       "      <td>Decision Tree</td>\n",
       "      <td>[profit_per_labor_dolar, managed_contracts_rev...</td>\n",
       "      <td>6.0</td>\n",
       "      <td>6.47</td>\n",
       "      <td>17.0</td>\n",
       "      <td>4.40</td>\n",
       "      <td>32.0</td>\n",
       "      <td>3.48</td>\n",
       "      <td>65.0</td>\n",
       "      <td>2.92</td>\n",
       "    </tr>\n",
       "    <tr>\n",
       "      <th>10</th>\n",
       "      <td>BK_AMER_NAT</td>\n",
       "      <td>XG Boost 1</td>\n",
       "      <td>[managed_contracts_rev]</td>\n",
       "      <td>6.0</td>\n",
       "      <td>6.19</td>\n",
       "      <td>17.0</td>\n",
       "      <td>4.24</td>\n",
       "      <td>32.0</td>\n",
       "      <td>3.38</td>\n",
       "      <td>64.0</td>\n",
       "      <td>2.84</td>\n",
       "    </tr>\n",
       "    <tr>\n",
       "      <th>11</th>\n",
       "      <td>BK_AMER_NAT</td>\n",
       "      <td>XG Boost 2</td>\n",
       "      <td>[profit_per_fte, profit_per_labor_dolar, labor...</td>\n",
       "      <td>13.0</td>\n",
       "      <td>13.68</td>\n",
       "      <td>25.0</td>\n",
       "      <td>8.36</td>\n",
       "      <td>41.0</td>\n",
       "      <td>6.21</td>\n",
       "      <td>74.0</td>\n",
       "      <td>5.00</td>\n",
       "    </tr>\n",
       "    <tr>\n",
       "      <th>12</th>\n",
       "      <td>MASTER_TECH</td>\n",
       "      <td>Prophet</td>\n",
       "      <td>[consult_contracts_rev, consult_contracts_cost...</td>\n",
       "      <td>510.0</td>\n",
       "      <td>3.01</td>\n",
       "      <td>476.0</td>\n",
       "      <td>11.38</td>\n",
       "      <td>457.0</td>\n",
       "      <td>9.40</td>\n",
       "      <td>461.0</td>\n",
       "      <td>8.25</td>\n",
       "    </tr>\n",
       "    <tr>\n",
       "      <th>13</th>\n",
       "      <td>MASTER_TECH</td>\n",
       "      <td>Random Forest 1</td>\n",
       "      <td>[vended_services_cost, inhouse_labor_ratio]</td>\n",
       "      <td>512.0</td>\n",
       "      <td>3.02</td>\n",
       "      <td>478.0</td>\n",
       "      <td>11.44</td>\n",
       "      <td>460.0</td>\n",
       "      <td>9.46</td>\n",
       "      <td>464.0</td>\n",
       "      <td>8.30</td>\n",
       "    </tr>\n",
       "    <tr>\n",
       "      <th>14</th>\n",
       "      <td>MASTER_TECH</td>\n",
       "      <td>Random Forest 2</td>\n",
       "      <td>[profit_per_fte, labor_charge_hourly, labor_co...</td>\n",
       "      <td>543.0</td>\n",
       "      <td>3.20</td>\n",
       "      <td>514.0</td>\n",
       "      <td>12.47</td>\n",
       "      <td>502.0</td>\n",
       "      <td>10.37</td>\n",
       "      <td>511.0</td>\n",
       "      <td>9.15</td>\n",
       "    </tr>\n",
       "    <tr>\n",
       "      <th>15</th>\n",
       "      <td>MASTER_TECH</td>\n",
       "      <td>Decision Tree</td>\n",
       "      <td>[inhouse_labor_ratio]</td>\n",
       "      <td>515.0</td>\n",
       "      <td>3.04</td>\n",
       "      <td>481.0</td>\n",
       "      <td>11.54</td>\n",
       "      <td>464.0</td>\n",
       "      <td>9.54</td>\n",
       "      <td>468.0</td>\n",
       "      <td>8.38</td>\n",
       "    </tr>\n",
       "    <tr>\n",
       "      <th>16</th>\n",
       "      <td>MASTER_TECH</td>\n",
       "      <td>XG Boost 1</td>\n",
       "      <td>[vended_services_cost]</td>\n",
       "      <td>511.0</td>\n",
       "      <td>3.02</td>\n",
       "      <td>477.0</td>\n",
       "      <td>11.42</td>\n",
       "      <td>459.0</td>\n",
       "      <td>9.44</td>\n",
       "      <td>463.0</td>\n",
       "      <td>8.29</td>\n",
       "    </tr>\n",
       "    <tr>\n",
       "      <th>17</th>\n",
       "      <td>MASTER_TECH</td>\n",
       "      <td>XG Boost 2</td>\n",
       "      <td>[profit_per_fte, vended_services_cost, labor_c...</td>\n",
       "      <td>511.0</td>\n",
       "      <td>3.02</td>\n",
       "      <td>477.0</td>\n",
       "      <td>11.42</td>\n",
       "      <td>459.0</td>\n",
       "      <td>9.44</td>\n",
       "      <td>463.0</td>\n",
       "      <td>8.29</td>\n",
       "    </tr>\n",
       "    <tr>\n",
       "      <th>18</th>\n",
       "      <td>NAVY_FED_CRE</td>\n",
       "      <td>Prophet</td>\n",
       "      <td>[vended_services_cost, inhouse_labor_ratio, co...</td>\n",
       "      <td>31.0</td>\n",
       "      <td>1.75</td>\n",
       "      <td>32.0</td>\n",
       "      <td>1.71</td>\n",
       "      <td>25.0</td>\n",
       "      <td>1.29</td>\n",
       "      <td>20.0</td>\n",
       "      <td>1.01</td>\n",
       "    </tr>\n",
       "    <tr>\n",
       "      <th>19</th>\n",
       "      <td>NAVY_FED_CRE</td>\n",
       "      <td>Random Forest 1</td>\n",
       "      <td>[profit_per_fte, vended_services_cost, profit_...</td>\n",
       "      <td>26.0</td>\n",
       "      <td>1.47</td>\n",
       "      <td>27.0</td>\n",
       "      <td>1.44</td>\n",
       "      <td>24.0</td>\n",
       "      <td>1.19</td>\n",
       "      <td>19.0</td>\n",
       "      <td>0.99</td>\n",
       "    </tr>\n",
       "    <tr>\n",
       "      <th>20</th>\n",
       "      <td>NAVY_FED_CRE</td>\n",
       "      <td>Random Forest 2</td>\n",
       "      <td>[profit_per_fte, labor_charge_hourly, labor_co...</td>\n",
       "      <td>25.0</td>\n",
       "      <td>1.42</td>\n",
       "      <td>26.0</td>\n",
       "      <td>1.37</td>\n",
       "      <td>24.0</td>\n",
       "      <td>1.17</td>\n",
       "      <td>20.0</td>\n",
       "      <td>1.03</td>\n",
       "    </tr>\n",
       "    <tr>\n",
       "      <th>21</th>\n",
       "      <td>NAVY_FED_CRE</td>\n",
       "      <td>Decision Tree</td>\n",
       "      <td>[profit_per_fte, consult_contracts_cost]</td>\n",
       "      <td>26.0</td>\n",
       "      <td>1.47</td>\n",
       "      <td>27.0</td>\n",
       "      <td>1.44</td>\n",
       "      <td>24.0</td>\n",
       "      <td>1.19</td>\n",
       "      <td>19.0</td>\n",
       "      <td>0.99</td>\n",
       "    </tr>\n",
       "    <tr>\n",
       "      <th>22</th>\n",
       "      <td>NAVY_FED_CRE</td>\n",
       "      <td>XG Boost 1</td>\n",
       "      <td>[profit_per_fte, vended_services_cost, labor_b...</td>\n",
       "      <td>24.0</td>\n",
       "      <td>1.35</td>\n",
       "      <td>25.0</td>\n",
       "      <td>1.30</td>\n",
       "      <td>24.0</td>\n",
       "      <td>1.15</td>\n",
       "      <td>20.0</td>\n",
       "      <td>1.05</td>\n",
       "    </tr>\n",
       "    <tr>\n",
       "      <th>23</th>\n",
       "      <td>NAVY_FED_CRE</td>\n",
       "      <td>XG Boost 2</td>\n",
       "      <td>[profit_per_fte, profit_per_labor_dolar, consu...</td>\n",
       "      <td>26.0</td>\n",
       "      <td>1.49</td>\n",
       "      <td>28.0</td>\n",
       "      <td>1.46</td>\n",
       "      <td>24.0</td>\n",
       "      <td>1.19</td>\n",
       "      <td>19.0</td>\n",
       "      <td>0.97</td>\n",
       "    </tr>\n",
       "    <tr>\n",
       "      <th>24</th>\n",
       "      <td>RBC_CAPI_MAR</td>\n",
       "      <td>Prophet</td>\n",
       "      <td>[managed_contracts_cost, managed_contracts_rev...</td>\n",
       "      <td>85.0</td>\n",
       "      <td>1.42</td>\n",
       "      <td>75.0</td>\n",
       "      <td>1.04</td>\n",
       "      <td>81.0</td>\n",
       "      <td>1.29</td>\n",
       "      <td>82.0</td>\n",
       "      <td>1.55</td>\n",
       "    </tr>\n",
       "    <tr>\n",
       "      <th>25</th>\n",
       "      <td>RBC_CAPI_MAR</td>\n",
       "      <td>Random Forest 1</td>\n",
       "      <td>[labor_charge_hourly, vended_services_cost, in...</td>\n",
       "      <td>84.0</td>\n",
       "      <td>1.42</td>\n",
       "      <td>75.0</td>\n",
       "      <td>1.04</td>\n",
       "      <td>81.0</td>\n",
       "      <td>1.29</td>\n",
       "      <td>82.0</td>\n",
       "      <td>1.54</td>\n",
       "    </tr>\n",
       "    <tr>\n",
       "      <th>26</th>\n",
       "      <td>RBC_CAPI_MAR</td>\n",
       "      <td>Random Forest 2</td>\n",
       "      <td>[profit_per_fte, labor_charge_hourly, labor_co...</td>\n",
       "      <td>84.0</td>\n",
       "      <td>1.42</td>\n",
       "      <td>75.0</td>\n",
       "      <td>1.04</td>\n",
       "      <td>81.0</td>\n",
       "      <td>1.28</td>\n",
       "      <td>82.0</td>\n",
       "      <td>1.54</td>\n",
       "    </tr>\n",
       "    <tr>\n",
       "      <th>27</th>\n",
       "      <td>RBC_CAPI_MAR</td>\n",
       "      <td>Decision Tree</td>\n",
       "      <td>[profit_per_fte, inhouse_labor_ratio]</td>\n",
       "      <td>84.0</td>\n",
       "      <td>1.42</td>\n",
       "      <td>75.0</td>\n",
       "      <td>1.04</td>\n",
       "      <td>81.0</td>\n",
       "      <td>1.29</td>\n",
       "      <td>82.0</td>\n",
       "      <td>1.54</td>\n",
       "    </tr>\n",
       "    <tr>\n",
       "      <th>28</th>\n",
       "      <td>RBC_CAPI_MAR</td>\n",
       "      <td>XG Boost 1</td>\n",
       "      <td>[profit_per_fte, labor_charge_hourly]</td>\n",
       "      <td>84.0</td>\n",
       "      <td>1.42</td>\n",
       "      <td>75.0</td>\n",
       "      <td>1.04</td>\n",
       "      <td>81.0</td>\n",
       "      <td>1.28</td>\n",
       "      <td>82.0</td>\n",
       "      <td>1.54</td>\n",
       "    </tr>\n",
       "    <tr>\n",
       "      <th>29</th>\n",
       "      <td>RBC_CAPI_MAR</td>\n",
       "      <td>XG Boost 2</td>\n",
       "      <td>[profit_per_fte, labor_charge_hourly, labor_ba...</td>\n",
       "      <td>80.0</td>\n",
       "      <td>1.34</td>\n",
       "      <td>76.0</td>\n",
       "      <td>1.04</td>\n",
       "      <td>79.0</td>\n",
       "      <td>1.23</td>\n",
       "      <td>78.0</td>\n",
       "      <td>1.43</td>\n",
       "    </tr>\n",
       "    <tr>\n",
       "      <th>30</th>\n",
       "      <td>US_WELLSFARG</td>\n",
       "      <td>Prophet</td>\n",
       "      <td>[managed_contracts_cost, vended_services_cost,...</td>\n",
       "      <td>323.0</td>\n",
       "      <td>1.20</td>\n",
       "      <td>191.0</td>\n",
       "      <td>6.22</td>\n",
       "      <td>128.0</td>\n",
       "      <td>4.15</td>\n",
       "      <td>104.0</td>\n",
       "      <td>3.54</td>\n",
       "    </tr>\n",
       "    <tr>\n",
       "      <th>31</th>\n",
       "      <td>US_WELLSFARG</td>\n",
       "      <td>Random Forest 1</td>\n",
       "      <td>[labor_band, consult_contracts_rev, managed_co...</td>\n",
       "      <td>333.0</td>\n",
       "      <td>1.24</td>\n",
       "      <td>205.0</td>\n",
       "      <td>7.91</td>\n",
       "      <td>145.0</td>\n",
       "      <td>5.44</td>\n",
       "      <td>125.0</td>\n",
       "      <td>4.91</td>\n",
       "    </tr>\n",
       "    <tr>\n",
       "      <th>32</th>\n",
       "      <td>US_WELLSFARG</td>\n",
       "      <td>Random Forest 2</td>\n",
       "      <td>[profit_per_fte, labor_charge_hourly, labor_co...</td>\n",
       "      <td>335.0</td>\n",
       "      <td>1.25</td>\n",
       "      <td>207.0</td>\n",
       "      <td>8.16</td>\n",
       "      <td>148.0</td>\n",
       "      <td>5.63</td>\n",
       "      <td>128.0</td>\n",
       "      <td>5.11</td>\n",
       "    </tr>\n",
       "    <tr>\n",
       "      <th>33</th>\n",
       "      <td>US_WELLSFARG</td>\n",
       "      <td>Decision Tree</td>\n",
       "      <td>[consult_contracts_rev, managed_contracts_cost]</td>\n",
       "      <td>333.0</td>\n",
       "      <td>1.24</td>\n",
       "      <td>205.0</td>\n",
       "      <td>7.91</td>\n",
       "      <td>145.0</td>\n",
       "      <td>5.44</td>\n",
       "      <td>125.0</td>\n",
       "      <td>4.91</td>\n",
       "    </tr>\n",
       "    <tr>\n",
       "      <th>34</th>\n",
       "      <td>US_WELLSFARG</td>\n",
       "      <td>XG Boost 1</td>\n",
       "      <td>[inhouse_labor_ratio, consult_contracts_rev, m...</td>\n",
       "      <td>333.0</td>\n",
       "      <td>1.24</td>\n",
       "      <td>205.0</td>\n",
       "      <td>7.92</td>\n",
       "      <td>145.0</td>\n",
       "      <td>5.45</td>\n",
       "      <td>125.0</td>\n",
       "      <td>4.92</td>\n",
       "    </tr>\n",
       "    <tr>\n",
       "      <th>35</th>\n",
       "      <td>US_WELLSFARG</td>\n",
       "      <td>XG Boost 2</td>\n",
       "      <td>[profit_per_fte, managed_contracts_cost, profi...</td>\n",
       "      <td>311.0</td>\n",
       "      <td>1.16</td>\n",
       "      <td>174.0</td>\n",
       "      <td>4.09</td>\n",
       "      <td>126.0</td>\n",
       "      <td>2.93</td>\n",
       "      <td>97.0</td>\n",
       "      <td>2.31</td>\n",
       "    </tr>\n",
       "  </tbody>\n",
       "</table>\n",
       "</div>"
      ],
      "text/plain": [
       "         Account Feature_select_model  \\\n",
       "0   BANCO_SANT_C              Prophet   \n",
       "1   BANCO_SANT_C      Random Forest 1   \n",
       "2   BANCO_SANT_C      Random Forest 2   \n",
       "3   BANCO_SANT_C        Decision Tree   \n",
       "4   BANCO_SANT_C           XG Boost 1   \n",
       "5   BANCO_SANT_C           XG Boost 2   \n",
       "6    BK_AMER_NAT              Prophet   \n",
       "7    BK_AMER_NAT      Random Forest 1   \n",
       "8    BK_AMER_NAT      Random Forest 2   \n",
       "9    BK_AMER_NAT        Decision Tree   \n",
       "10   BK_AMER_NAT           XG Boost 1   \n",
       "11   BK_AMER_NAT           XG Boost 2   \n",
       "12   MASTER_TECH              Prophet   \n",
       "13   MASTER_TECH      Random Forest 1   \n",
       "14   MASTER_TECH      Random Forest 2   \n",
       "15   MASTER_TECH        Decision Tree   \n",
       "16   MASTER_TECH           XG Boost 1   \n",
       "17   MASTER_TECH           XG Boost 2   \n",
       "18  NAVY_FED_CRE              Prophet   \n",
       "19  NAVY_FED_CRE      Random Forest 1   \n",
       "20  NAVY_FED_CRE      Random Forest 2   \n",
       "21  NAVY_FED_CRE        Decision Tree   \n",
       "22  NAVY_FED_CRE           XG Boost 1   \n",
       "23  NAVY_FED_CRE           XG Boost 2   \n",
       "24  RBC_CAPI_MAR              Prophet   \n",
       "25  RBC_CAPI_MAR      Random Forest 1   \n",
       "26  RBC_CAPI_MAR      Random Forest 2   \n",
       "27  RBC_CAPI_MAR        Decision Tree   \n",
       "28  RBC_CAPI_MAR           XG Boost 1   \n",
       "29  RBC_CAPI_MAR           XG Boost 2   \n",
       "30  US_WELLSFARG              Prophet   \n",
       "31  US_WELLSFARG      Random Forest 1   \n",
       "32  US_WELLSFARG      Random Forest 2   \n",
       "33  US_WELLSFARG        Decision Tree   \n",
       "34  US_WELLSFARG           XG Boost 1   \n",
       "35  US_WELLSFARG           XG Boost 2   \n",
       "\n",
       "                                   list_of_regressors   MAE1   MAPE1   MAE2  \\\n",
       "0   [managed_contracts_cost, managed_contracts_rev...   11.0    0.22   12.0   \n",
       "1   [labor_band, profit_per_labor_dolar, consult_c...   10.0    0.20   11.0   \n",
       "2   [profit_per_fte, labor_charge_hourly, labor_co...   11.0    0.22   12.0   \n",
       "3                 [labor_band, consult_contracts_rev]   11.0    0.22   12.0   \n",
       "4                [labor_band, profit_per_labor_dolar]   11.0    0.22   12.0   \n",
       "5   [profit_per_fte, profit_per_labor_dolar, labor...   12.0    0.22   13.0   \n",
       "6   [managed_contracts_rev, vended_services_cost, ...  155.0  161.64  203.0   \n",
       "7   [profit_per_fte, managed_contracts_rev, manage...    6.0    5.84   16.0   \n",
       "8   [profit_per_fte, labor_charge_hourly, labor_co...   16.0   16.86   28.0   \n",
       "9   [profit_per_labor_dolar, managed_contracts_rev...    6.0    6.47   17.0   \n",
       "10                            [managed_contracts_rev]    6.0    6.19   17.0   \n",
       "11  [profit_per_fte, profit_per_labor_dolar, labor...   13.0   13.68   25.0   \n",
       "12  [consult_contracts_rev, consult_contracts_cost...  510.0    3.01  476.0   \n",
       "13        [vended_services_cost, inhouse_labor_ratio]  512.0    3.02  478.0   \n",
       "14  [profit_per_fte, labor_charge_hourly, labor_co...  543.0    3.20  514.0   \n",
       "15                              [inhouse_labor_ratio]  515.0    3.04  481.0   \n",
       "16                             [vended_services_cost]  511.0    3.02  477.0   \n",
       "17  [profit_per_fte, vended_services_cost, labor_c...  511.0    3.02  477.0   \n",
       "18  [vended_services_cost, inhouse_labor_ratio, co...   31.0    1.75   32.0   \n",
       "19  [profit_per_fte, vended_services_cost, profit_...   26.0    1.47   27.0   \n",
       "20  [profit_per_fte, labor_charge_hourly, labor_co...   25.0    1.42   26.0   \n",
       "21           [profit_per_fte, consult_contracts_cost]   26.0    1.47   27.0   \n",
       "22  [profit_per_fte, vended_services_cost, labor_b...   24.0    1.35   25.0   \n",
       "23  [profit_per_fte, profit_per_labor_dolar, consu...   26.0    1.49   28.0   \n",
       "24  [managed_contracts_cost, managed_contracts_rev...   85.0    1.42   75.0   \n",
       "25  [labor_charge_hourly, vended_services_cost, in...   84.0    1.42   75.0   \n",
       "26  [profit_per_fte, labor_charge_hourly, labor_co...   84.0    1.42   75.0   \n",
       "27              [profit_per_fte, inhouse_labor_ratio]   84.0    1.42   75.0   \n",
       "28              [profit_per_fte, labor_charge_hourly]   84.0    1.42   75.0   \n",
       "29  [profit_per_fte, labor_charge_hourly, labor_ba...   80.0    1.34   76.0   \n",
       "30  [managed_contracts_cost, vended_services_cost,...  323.0    1.20  191.0   \n",
       "31  [labor_band, consult_contracts_rev, managed_co...  333.0    1.24  205.0   \n",
       "32  [profit_per_fte, labor_charge_hourly, labor_co...  335.0    1.25  207.0   \n",
       "33    [consult_contracts_rev, managed_contracts_cost]  333.0    1.24  205.0   \n",
       "34  [inhouse_labor_ratio, consult_contracts_rev, m...  333.0    1.24  205.0   \n",
       "35  [profit_per_fte, managed_contracts_cost, profi...  311.0    1.16  174.0   \n",
       "\n",
       "    MAPE2   MAE3  MAPE3   MAE4  MAPE4  \n",
       "0    0.22   19.0   0.27   36.0   0.93  \n",
       "1    0.20   18.0   0.25   36.0   0.93  \n",
       "2    0.22   19.0   0.27   36.0   0.93  \n",
       "3    0.22   19.0   0.27   36.0   0.93  \n",
       "4    0.22   19.0   0.27   37.0   0.93  \n",
       "5    0.23   19.0   0.28   37.0   0.93  \n",
       "6   91.25  254.0  63.99  321.0  49.00  \n",
       "7    4.05   31.0   3.24   64.0   2.74  \n",
       "8   10.05   43.0   7.36   76.0   5.86  \n",
       "9    4.40   32.0   3.48   65.0   2.92  \n",
       "10   4.24   32.0   3.38   64.0   2.84  \n",
       "11   8.36   41.0   6.21   74.0   5.00  \n",
       "12  11.38  457.0   9.40  461.0   8.25  \n",
       "13  11.44  460.0   9.46  464.0   8.30  \n",
       "14  12.47  502.0  10.37  511.0   9.15  \n",
       "15  11.54  464.0   9.54  468.0   8.38  \n",
       "16  11.42  459.0   9.44  463.0   8.29  \n",
       "17  11.42  459.0   9.44  463.0   8.29  \n",
       "18   1.71   25.0   1.29   20.0   1.01  \n",
       "19   1.44   24.0   1.19   19.0   0.99  \n",
       "20   1.37   24.0   1.17   20.0   1.03  \n",
       "21   1.44   24.0   1.19   19.0   0.99  \n",
       "22   1.30   24.0   1.15   20.0   1.05  \n",
       "23   1.46   24.0   1.19   19.0   0.97  \n",
       "24   1.04   81.0   1.29   82.0   1.55  \n",
       "25   1.04   81.0   1.29   82.0   1.54  \n",
       "26   1.04   81.0   1.28   82.0   1.54  \n",
       "27   1.04   81.0   1.29   82.0   1.54  \n",
       "28   1.04   81.0   1.28   82.0   1.54  \n",
       "29   1.04   79.0   1.23   78.0   1.43  \n",
       "30   6.22  128.0   4.15  104.0   3.54  \n",
       "31   7.91  145.0   5.44  125.0   4.91  \n",
       "32   8.16  148.0   5.63  128.0   5.11  \n",
       "33   7.91  145.0   5.44  125.0   4.91  \n",
       "34   7.92  145.0   5.45  125.0   4.92  \n",
       "35   4.09  126.0   2.93   97.0   2.31  "
      ]
     },
     "execution_count": 113,
     "metadata": {},
     "output_type": "execute_result"
    }
   ],
   "source": [
    "all_metric_df"
   ]
  },
  {
   "cell_type": "code",
   "execution_count": null,
   "metadata": {},
   "outputs": [],
   "source": [
    "save_test_result = "
   ]
  },
  {
   "cell_type": "code",
   "execution_count": 118,
   "metadata": {},
   "outputs": [
    {
     "data": {
      "text/html": [
       "<div>\n",
       "<style scoped>\n",
       "    .dataframe tbody tr th:only-of-type {\n",
       "        vertical-align: middle;\n",
       "    }\n",
       "\n",
       "    .dataframe tbody tr th {\n",
       "        vertical-align: top;\n",
       "    }\n",
       "\n",
       "    .dataframe thead th {\n",
       "        text-align: right;\n",
       "    }\n",
       "</style>\n",
       "<table border=\"1\" class=\"dataframe\">\n",
       "  <thead>\n",
       "    <tr style=\"text-align: right;\">\n",
       "      <th></th>\n",
       "      <th>Account</th>\n",
       "      <th>Feature_select_model</th>\n",
       "      <th>list_of_regressors</th>\n",
       "      <th>MAE1</th>\n",
       "      <th>MAPE1</th>\n",
       "      <th>MAE2</th>\n",
       "      <th>MAPE2</th>\n",
       "      <th>MAE3</th>\n",
       "      <th>MAPE3</th>\n",
       "      <th>MAE4</th>\n",
       "      <th>MAPE4</th>\n",
       "    </tr>\n",
       "  </thead>\n",
       "  <tbody>\n",
       "    <tr>\n",
       "      <th>0</th>\n",
       "      <td>BANCO_SANT_C</td>\n",
       "      <td>Prophet</td>\n",
       "      <td>[managed_contracts_cost, managed_contracts_rev...</td>\n",
       "      <td>11.0</td>\n",
       "      <td>0.22</td>\n",
       "      <td>12.0</td>\n",
       "      <td>0.22</td>\n",
       "      <td>19.0</td>\n",
       "      <td>0.27</td>\n",
       "      <td>36.0</td>\n",
       "      <td>0.93</td>\n",
       "    </tr>\n",
       "    <tr>\n",
       "      <th>6</th>\n",
       "      <td>BK_AMER_NAT</td>\n",
       "      <td>Prophet</td>\n",
       "      <td>[managed_contracts_rev, vended_services_cost, ...</td>\n",
       "      <td>155.0</td>\n",
       "      <td>161.64</td>\n",
       "      <td>203.0</td>\n",
       "      <td>91.25</td>\n",
       "      <td>254.0</td>\n",
       "      <td>63.99</td>\n",
       "      <td>321.0</td>\n",
       "      <td>49.00</td>\n",
       "    </tr>\n",
       "    <tr>\n",
       "      <th>12</th>\n",
       "      <td>MASTER_TECH</td>\n",
       "      <td>Prophet</td>\n",
       "      <td>[consult_contracts_rev, consult_contracts_cost...</td>\n",
       "      <td>510.0</td>\n",
       "      <td>3.01</td>\n",
       "      <td>476.0</td>\n",
       "      <td>11.38</td>\n",
       "      <td>457.0</td>\n",
       "      <td>9.40</td>\n",
       "      <td>461.0</td>\n",
       "      <td>8.25</td>\n",
       "    </tr>\n",
       "    <tr>\n",
       "      <th>18</th>\n",
       "      <td>NAVY_FED_CRE</td>\n",
       "      <td>Prophet</td>\n",
       "      <td>[vended_services_cost, inhouse_labor_ratio, co...</td>\n",
       "      <td>31.0</td>\n",
       "      <td>1.75</td>\n",
       "      <td>32.0</td>\n",
       "      <td>1.71</td>\n",
       "      <td>25.0</td>\n",
       "      <td>1.29</td>\n",
       "      <td>20.0</td>\n",
       "      <td>1.01</td>\n",
       "    </tr>\n",
       "    <tr>\n",
       "      <th>24</th>\n",
       "      <td>RBC_CAPI_MAR</td>\n",
       "      <td>Prophet</td>\n",
       "      <td>[managed_contracts_cost, managed_contracts_rev...</td>\n",
       "      <td>85.0</td>\n",
       "      <td>1.42</td>\n",
       "      <td>75.0</td>\n",
       "      <td>1.04</td>\n",
       "      <td>81.0</td>\n",
       "      <td>1.29</td>\n",
       "      <td>82.0</td>\n",
       "      <td>1.55</td>\n",
       "    </tr>\n",
       "    <tr>\n",
       "      <th>30</th>\n",
       "      <td>US_WELLSFARG</td>\n",
       "      <td>Prophet</td>\n",
       "      <td>[managed_contracts_cost, vended_services_cost,...</td>\n",
       "      <td>323.0</td>\n",
       "      <td>1.20</td>\n",
       "      <td>191.0</td>\n",
       "      <td>6.22</td>\n",
       "      <td>128.0</td>\n",
       "      <td>4.15</td>\n",
       "      <td>104.0</td>\n",
       "      <td>3.54</td>\n",
       "    </tr>\n",
       "  </tbody>\n",
       "</table>\n",
       "</div>"
      ],
      "text/plain": [
       "         Account Feature_select_model  \\\n",
       "0   BANCO_SANT_C              Prophet   \n",
       "6    BK_AMER_NAT              Prophet   \n",
       "12   MASTER_TECH              Prophet   \n",
       "18  NAVY_FED_CRE              Prophet   \n",
       "24  RBC_CAPI_MAR              Prophet   \n",
       "30  US_WELLSFARG              Prophet   \n",
       "\n",
       "                                   list_of_regressors   MAE1   MAPE1   MAE2  \\\n",
       "0   [managed_contracts_cost, managed_contracts_rev...   11.0    0.22   12.0   \n",
       "6   [managed_contracts_rev, vended_services_cost, ...  155.0  161.64  203.0   \n",
       "12  [consult_contracts_rev, consult_contracts_cost...  510.0    3.01  476.0   \n",
       "18  [vended_services_cost, inhouse_labor_ratio, co...   31.0    1.75   32.0   \n",
       "24  [managed_contracts_cost, managed_contracts_rev...   85.0    1.42   75.0   \n",
       "30  [managed_contracts_cost, vended_services_cost,...  323.0    1.20  191.0   \n",
       "\n",
       "    MAPE2   MAE3  MAPE3   MAE4  MAPE4  \n",
       "0    0.22   19.0   0.27   36.0   0.93  \n",
       "6   91.25  254.0  63.99  321.0  49.00  \n",
       "12  11.38  457.0   9.40  461.0   8.25  \n",
       "18   1.71   25.0   1.29   20.0   1.01  \n",
       "24   1.04   81.0   1.29   82.0   1.55  \n",
       "30   6.22  128.0   4.15  104.0   3.54  "
      ]
     },
     "execution_count": 118,
     "metadata": {},
     "output_type": "execute_result"
    }
   ],
   "source": [
    "df_prophet = all_metric_df.loc[all_metric_df['Feature_select_model'] == 'Prophet']\n",
    "df_prophet"
   ]
  },
  {
   "cell_type": "code",
   "execution_count": 117,
   "metadata": {},
   "outputs": [
    {
     "name": "stderr",
     "output_type": "stream",
     "text": [
      "C:\\Users\\AishaniSanjayPatil\\AppData\\Local\\Temp\\ipykernel_52420\\1045645465.py:1: FutureWarning: The default value of numeric_only in DataFrame.mean is deprecated. In a future version, it will default to False. In addition, specifying 'numeric_only=None' is deprecated. Select only valid columns or specify the value of numeric_only to silence this warning.\n",
      "  df_prophet.mean()\n"
     ]
    },
    {
     "data": {
      "text/plain": [
       "MAE1     185.833333\n",
       "MAPE1     28.206667\n",
       "MAE2     164.833333\n",
       "MAPE2     18.636667\n",
       "MAE3     160.666667\n",
       "MAPE3     13.398333\n",
       "MAE4     170.666667\n",
       "MAPE4     10.713333\n",
       "dtype: float64"
      ]
     },
     "execution_count": 117,
     "metadata": {},
     "output_type": "execute_result"
    }
   ],
   "source": [
    "df_prophet.mean()"
   ]
  },
  {
   "cell_type": "markdown",
   "metadata": {},
   "source": [
    "# Final Run"
   ]
  },
  {
   "cell_type": "code",
   "execution_count": 17,
   "metadata": {},
   "outputs": [
    {
     "name": "stdout",
     "output_type": "stream",
     "text": [
      "AMEXPRESS\n"
     ]
    },
    {
     "name": "stderr",
     "output_type": "stream",
     "text": [
      "16:32:11 - cmdstanpy - INFO - Chain [1] start processing\n",
      "16:32:11 - cmdstanpy - INFO - Chain [1] done processing\n",
      "16:32:12 - cmdstanpy - INFO - Chain [1] start processing\n",
      "16:32:12 - cmdstanpy - INFO - Chain [1] done processing\n",
      "16:32:13 - cmdstanpy - INFO - Chain [1] start processing\n",
      "16:32:16 - cmdstanpy - INFO - Chain [1] done processing\n"
     ]
    },
    {
     "name": "stdout",
     "output_type": "stream",
     "text": [
      "Prophet: ['managed_contracts_cost', 'managed_contracts_rev', 'labor_charge_hourly', 'profit_per_labor_dolar']\n",
      "Random forest (Select from model)['managed_contracts_rev', 'managed_contracts_cost', 'gross_profit_margin']\n",
      "Random forest (feature importance function): ['profit_per_fte', 'labor_charge_hourly', 'labor_cost', 'vended_services_cost', 'inhouse_labor_ratio']\n",
      "Decision Tree (Select from model): ['managed_contracts_rev', 'managed_contracts_cost', 'gross_profit_margin']\n",
      "XG Boost (Select from model):['managed_contracts_rev', 'managed_contracts_cost']\n",
      "XG Boost (Get booster function): ['managed_contracts_rev', 'managed_contracts_cost', 'gross_profit_margin']\n"
     ]
    },
    {
     "name": "stderr",
     "output_type": "stream",
     "text": [
      "16:32:17 - cmdstanpy - INFO - Chain [1] start processing\n",
      "16:32:18 - cmdstanpy - INFO - Chain [1] done processing\n",
      "16:32:18 - cmdstanpy - INFO - Chain [1] start processing\n",
      "16:32:19 - cmdstanpy - INFO - Chain [1] done processing\n",
      "16:32:19 - cmdstanpy - INFO - Chain [1] start processing\n",
      "16:32:19 - cmdstanpy - INFO - Chain [1] done processing\n",
      "16:32:20 - cmdstanpy - INFO - Chain [1] start processing\n",
      "16:32:20 - cmdstanpy - INFO - Chain [1] done processing\n",
      "16:32:21 - cmdstanpy - INFO - Chain [1] start processing\n",
      "16:32:21 - cmdstanpy - INFO - Chain [1] done processing\n",
      "16:32:22 - cmdstanpy - INFO - Chain [1] start processing\n",
      "16:32:22 - cmdstanpy - INFO - Chain [1] done processing\n"
     ]
    },
    {
     "name": "stdout",
     "output_type": "stream",
     "text": [
      "ARGBANCOSANT\n"
     ]
    },
    {
     "name": "stderr",
     "output_type": "stream",
     "text": [
      "16:32:22 - cmdstanpy - INFO - Chain [1] start processing\n",
      "16:32:23 - cmdstanpy - INFO - Chain [1] done processing\n",
      "16:32:24 - cmdstanpy - INFO - Chain [1] start processing\n",
      "16:32:24 - cmdstanpy - INFO - Chain [1] done processing\n",
      "16:32:25 - cmdstanpy - INFO - Chain [1] start processing\n",
      "16:32:25 - cmdstanpy - INFO - Chain [1] done processing\n",
      "16:32:25 - cmdstanpy - INFO - Chain [1] start processing\n",
      "16:32:26 - cmdstanpy - INFO - Chain [1] done processing\n",
      "16:32:26 - cmdstanpy - INFO - Chain [1] start processing\n",
      "16:32:27 - cmdstanpy - INFO - Chain [1] done processing\n",
      "16:32:27 - cmdstanpy - INFO - Chain [1] start processing\n",
      "16:32:28 - cmdstanpy - INFO - Chain [1] done processing\n",
      "16:32:28 - cmdstanpy - INFO - Chain [1] start processing\n",
      "16:32:28 - cmdstanpy - INFO - Chain [1] done processing\n",
      "16:32:29 - cmdstanpy - INFO - Chain [1] start processing\n",
      "16:32:29 - cmdstanpy - INFO - Chain [1] done processing\n",
      "16:32:30 - cmdstanpy - INFO - Chain [1] start processing\n",
      "16:32:30 - cmdstanpy - INFO - Chain [1] done processing\n",
      "16:32:31 - cmdstanpy - INFO - Chain [1] start processing\n",
      "16:32:31 - cmdstanpy - INFO - Chain [1] done processing\n",
      "16:32:32 - cmdstanpy - INFO - Chain [1] start processing\n",
      "16:32:32 - cmdstanpy - INFO - Chain [1] done processing\n",
      "16:32:33 - cmdstanpy - INFO - Chain [1] start processing\n",
      "16:32:36 - cmdstanpy - INFO - Chain [1] done processing\n"
     ]
    },
    {
     "name": "stdout",
     "output_type": "stream",
     "text": [
      "Prophet: ['labor_band', 'vended_services_cost', 'inhouse_labor_ratio', 'consult_contracts_cost']\n",
      "Random forest (Select from model)['labor_cost', 'labor_band', 'managed_contracts_rev', 'managed_contracts_cost', 'consult_contracts_cost']\n",
      "Random forest (feature importance function): ['profit_per_fte', 'labor_charge_hourly', 'labor_cost', 'vended_services_cost', 'inhouse_labor_ratio']\n",
      "Decision Tree (Select from model): ['vended_services_cost', 'managed_contracts_rev']\n",
      "XG Boost (Select from model):['vended_services_cost', 'labor_band']\n",
      "XG Boost (Get booster function): ['profit_per_fte', 'profit_per_labor_dolar', 'consult_contracts_cost', 'labor_charge_hourly', 'labor_band', 'labor_cost', 'consult_contracts_rev', 'vended_services_cost']\n"
     ]
    },
    {
     "name": "stderr",
     "output_type": "stream",
     "text": [
      "16:32:37 - cmdstanpy - INFO - Chain [1] start processing\n",
      "16:32:37 - cmdstanpy - INFO - Chain [1] done processing\n",
      "16:32:38 - cmdstanpy - INFO - Chain [1] start processing\n",
      "16:32:38 - cmdstanpy - INFO - Chain [1] done processing\n",
      "16:32:39 - cmdstanpy - INFO - Chain [1] start processing\n",
      "16:32:39 - cmdstanpy - INFO - Chain [1] done processing\n",
      "16:32:40 - cmdstanpy - INFO - Chain [1] start processing\n",
      "16:32:40 - cmdstanpy - INFO - Chain [1] done processing\n",
      "16:32:41 - cmdstanpy - INFO - Chain [1] start processing\n",
      "16:32:41 - cmdstanpy - INFO - Chain [1] done processing\n",
      "16:32:41 - cmdstanpy - INFO - Chain [1] start processing\n",
      "16:32:56 - cmdstanpy - INFO - Chain [1] done processing\n"
     ]
    },
    {
     "name": "stdout",
     "output_type": "stream",
     "text": [
      "ARGZURICH\n"
     ]
    },
    {
     "name": "stderr",
     "output_type": "stream",
     "text": [
      "16:32:58 - cmdstanpy - INFO - Chain [1] start processing\n",
      "16:32:58 - cmdstanpy - INFO - Chain [1] done processing\n"
     ]
    },
    {
     "name": "stdout",
     "output_type": "stream",
     "text": [
      "Prophet: ['profit_per_fte', 'labor_charge_hourly', 'labor_cost', 'vended_services_cost']\n",
      "Random forest (Select from model)['profit_per_fte', 'labor_charge_hourly', 'labor_cost', 'vended_services_cost', 'inhouse_labor_ratio', 'labor_band', 'managed_contracts_rev', 'consult_contracts_rev', 'managed_contracts_cost', 'consult_contracts_cost', 'gross_profit_margin']\n",
      "Random forest (feature importance function): ['profit_per_fte', 'labor_charge_hourly', 'labor_cost', 'vended_services_cost', 'inhouse_labor_ratio']\n",
      "Decision Tree (Select from model): ['profit_per_fte', 'labor_charge_hourly', 'labor_cost', 'vended_services_cost', 'inhouse_labor_ratio', 'labor_band', 'managed_contracts_rev', 'consult_contracts_rev', 'managed_contracts_cost', 'consult_contracts_cost', 'gross_profit_margin']\n",
      "XG Boost (Select from model):['profit_per_fte', 'labor_charge_hourly', 'labor_cost', 'vended_services_cost', 'inhouse_labor_ratio', 'labor_band', 'managed_contracts_rev', 'consult_contracts_rev', 'managed_contracts_cost', 'consult_contracts_cost', 'gross_profit_margin']\n",
      "XG Boost (Get booster function): []\n",
      "BANCO_SANT_C\n"
     ]
    },
    {
     "name": "stderr",
     "output_type": "stream",
     "text": [
      "16:33:06 - cmdstanpy - INFO - Chain [1] start processing\n",
      "16:33:06 - cmdstanpy - INFO - Chain [1] done processing\n",
      "16:33:07 - cmdstanpy - INFO - Chain [1] start processing\n",
      "16:33:07 - cmdstanpy - INFO - Chain [1] done processing\n",
      "16:33:07 - cmdstanpy - INFO - Chain [1] start processing\n",
      "16:33:08 - cmdstanpy - INFO - Chain [1] done processing\n",
      "16:33:08 - cmdstanpy - INFO - Chain [1] start processing\n",
      "16:33:09 - cmdstanpy - INFO - Chain [1] done processing\n",
      "16:33:09 - cmdstanpy - INFO - Chain [1] start processing\n",
      "16:33:09 - cmdstanpy - INFO - Chain [1] done processing\n",
      "16:33:10 - cmdstanpy - INFO - Chain [1] start processing\n",
      "16:33:10 - cmdstanpy - INFO - Chain [1] done processing\n",
      "16:33:11 - cmdstanpy - INFO - Chain [1] start processing\n",
      "16:33:11 - cmdstanpy - INFO - Chain [1] done processing\n",
      "16:33:12 - cmdstanpy - INFO - Chain [1] start processing\n",
      "16:33:12 - cmdstanpy - INFO - Chain [1] done processing\n",
      "16:33:13 - cmdstanpy - INFO - Chain [1] start processing\n",
      "16:33:13 - cmdstanpy - INFO - Chain [1] done processing\n",
      "16:33:14 - cmdstanpy - INFO - Chain [1] start processing\n",
      "16:33:14 - cmdstanpy - INFO - Chain [1] done processing\n",
      "16:33:14 - cmdstanpy - INFO - Chain [1] start processing\n",
      "16:33:15 - cmdstanpy - INFO - Chain [1] done processing\n"
     ]
    },
    {
     "name": "stdout",
     "output_type": "stream",
     "text": [
      "Prophet: ['managed_contracts_cost', 'managed_contracts_rev', 'vended_services_cost', 'labor_cost']\n",
      "Random forest (Select from model)['labor_band', 'consult_contracts_rev', 'consult_contracts_cost']\n",
      "Random forest (feature importance function): ['profit_per_fte', 'labor_charge_hourly', 'labor_cost', 'vended_services_cost', 'inhouse_labor_ratio']\n",
      "Decision Tree (Select from model): ['labor_band', 'consult_contracts_cost']\n",
      "XG Boost (Select from model):['labor_band', 'consult_contracts_rev']\n",
      "XG Boost (Get booster function): ['profit_per_fte', 'consult_contracts_rev', 'labor_band', 'gross_profit_margin', 'labor_charge_hourly', 'vended_services_cost']\n"
     ]
    },
    {
     "name": "stderr",
     "output_type": "stream",
     "text": [
      "16:33:16 - cmdstanpy - INFO - Chain [1] start processing\n",
      "16:33:16 - cmdstanpy - INFO - Chain [1] done processing\n",
      "16:33:17 - cmdstanpy - INFO - Chain [1] start processing\n",
      "16:33:17 - cmdstanpy - INFO - Chain [1] done processing\n",
      "16:33:17 - cmdstanpy - INFO - Chain [1] start processing\n",
      "16:33:18 - cmdstanpy - INFO - Chain [1] done processing\n",
      "16:33:18 - cmdstanpy - INFO - Chain [1] start processing\n",
      "16:33:19 - cmdstanpy - INFO - Chain [1] done processing\n",
      "16:33:19 - cmdstanpy - INFO - Chain [1] start processing\n",
      "16:33:20 - cmdstanpy - INFO - Chain [1] done processing\n",
      "16:33:20 - cmdstanpy - INFO - Chain [1] start processing\n",
      "16:33:20 - cmdstanpy - INFO - Chain [1] done processing\n"
     ]
    },
    {
     "name": "stdout",
     "output_type": "stream",
     "text": [
      "BASABADELL\n"
     ]
    },
    {
     "name": "stderr",
     "output_type": "stream",
     "text": [
      "16:33:21 - cmdstanpy - INFO - Chain [1] start processing\n",
      "16:33:21 - cmdstanpy - INFO - Chain [1] done processing\n",
      "16:33:22 - cmdstanpy - INFO - Chain [1] start processing\n",
      "16:33:22 - cmdstanpy - INFO - Chain [1] done processing\n",
      "16:33:23 - cmdstanpy - INFO - Chain [1] start processing\n",
      "16:33:23 - cmdstanpy - INFO - Chain [1] done processing\n",
      "16:33:24 - cmdstanpy - INFO - Chain [1] start processing\n",
      "16:33:24 - cmdstanpy - INFO - Chain [1] done processing\n",
      "16:33:25 - cmdstanpy - INFO - Chain [1] start processing\n",
      "16:33:25 - cmdstanpy - INFO - Chain [1] done processing\n",
      "16:33:25 - cmdstanpy - INFO - Chain [1] start processing\n",
      "16:33:26 - cmdstanpy - INFO - Chain [1] done processing\n",
      "16:33:26 - cmdstanpy - INFO - Chain [1] start processing\n",
      "16:33:27 - cmdstanpy - INFO - Chain [1] done processing\n",
      "16:33:27 - cmdstanpy - INFO - Chain [1] start processing\n",
      "16:33:28 - cmdstanpy - INFO - Chain [1] done processing\n",
      "16:33:28 - cmdstanpy - INFO - Chain [1] start processing\n",
      "16:33:28 - cmdstanpy - INFO - Chain [1] done processing\n",
      "16:33:29 - cmdstanpy - INFO - Chain [1] start processing\n",
      "16:33:29 - cmdstanpy - INFO - Chain [1] done processing\n",
      "16:33:30 - cmdstanpy - INFO - Chain [1] start processing\n",
      "16:33:30 - cmdstanpy - INFO - Chain [1] done processing\n"
     ]
    },
    {
     "name": "stdout",
     "output_type": "stream",
     "text": [
      "Prophet: ['consult_contracts_cost', 'consult_contracts_rev', 'labor_cost', 'inhouse_labor_ratio']\n",
      "Random forest (Select from model)['labor_charge_hourly', 'inhouse_labor_ratio', 'managed_contracts_cost', 'gross_profit_margin']\n",
      "Random forest (feature importance function): ['profit_per_fte', 'labor_charge_hourly', 'labor_cost', 'vended_services_cost', 'inhouse_labor_ratio']\n",
      "Decision Tree (Select from model): ['labor_charge_hourly', 'inhouse_labor_ratio', 'gross_profit_margin']\n",
      "XG Boost (Select from model):['labor_charge_hourly', 'vended_services_cost', 'inhouse_labor_ratio', 'managed_contracts_cost']\n",
      "XG Boost (Get booster function): ['profit_per_fte', 'vended_services_cost', 'labor_band', 'labor_charge_hourly', 'inhouse_labor_ratio', 'consult_contracts_rev', 'managed_contracts_cost', 'labor_cost']\n"
     ]
    },
    {
     "name": "stderr",
     "output_type": "stream",
     "text": [
      "16:33:31 - cmdstanpy - INFO - Chain [1] start processing\n",
      "16:33:31 - cmdstanpy - INFO - Chain [1] done processing\n",
      "16:33:32 - cmdstanpy - INFO - Chain [1] start processing\n",
      "16:33:32 - cmdstanpy - INFO - Chain [1] done processing\n",
      "16:33:33 - cmdstanpy - INFO - Chain [1] start processing\n",
      "16:33:40 - cmdstanpy - INFO - Chain [1] done processing\n",
      "16:33:41 - cmdstanpy - INFO - Chain [1] start processing\n",
      "16:33:41 - cmdstanpy - INFO - Chain [1] done processing\n",
      "16:33:42 - cmdstanpy - INFO - Chain [1] start processing\n",
      "16:33:42 - cmdstanpy - INFO - Chain [1] done processing\n",
      "16:33:43 - cmdstanpy - INFO - Chain [1] start processing\n",
      "16:34:00 - cmdstanpy - INFO - Chain [1] done processing\n"
     ]
    },
    {
     "name": "stdout",
     "output_type": "stream",
     "text": [
      "BRA_SANTANDE\n"
     ]
    },
    {
     "name": "stderr",
     "output_type": "stream",
     "text": [
      "16:34:01 - cmdstanpy - INFO - Chain [1] start processing\n",
      "16:34:01 - cmdstanpy - INFO - Chain [1] done processing\n",
      "16:34:01 - cmdstanpy - INFO - Chain [1] start processing\n",
      "16:34:02 - cmdstanpy - INFO - Chain [1] done processing\n",
      "16:34:02 - cmdstanpy - INFO - Chain [1] start processing\n",
      "16:34:02 - cmdstanpy - INFO - Chain [1] done processing\n",
      "16:34:03 - cmdstanpy - INFO - Chain [1] start processing\n",
      "16:34:03 - cmdstanpy - INFO - Chain [1] done processing\n",
      "16:34:04 - cmdstanpy - INFO - Chain [1] start processing\n",
      "16:34:04 - cmdstanpy - INFO - Chain [1] done processing\n",
      "16:34:04 - cmdstanpy - INFO - Chain [1] start processing\n",
      "16:34:05 - cmdstanpy - INFO - Chain [1] done processing\n",
      "16:34:05 - cmdstanpy - INFO - Chain [1] start processing\n",
      "16:34:06 - cmdstanpy - INFO - Chain [1] done processing\n",
      "16:34:07 - cmdstanpy - INFO - Chain [1] start processing\n",
      "16:34:07 - cmdstanpy - INFO - Chain [1] done processing\n",
      "16:34:07 - cmdstanpy - INFO - Chain [1] start processing\n",
      "16:34:08 - cmdstanpy - INFO - Chain [1] done processing\n",
      "16:34:08 - cmdstanpy - INFO - Chain [1] start processing\n",
      "16:34:09 - cmdstanpy - INFO - Chain [1] done processing\n",
      "16:34:09 - cmdstanpy - INFO - Chain [1] start processing\n",
      "16:34:11 - cmdstanpy - INFO - Chain [1] done processing\n"
     ]
    },
    {
     "name": "stdout",
     "output_type": "stream",
     "text": [
      "Prophet: ['labor_band', 'inhouse_labor_ratio', 'vended_services_cost', 'labor_cost']\n",
      "Random forest (Select from model)['profit_per_fte', 'managed_contracts_cost', 'consult_contracts_cost']\n",
      "Random forest (feature importance function): ['profit_per_fte', 'labor_charge_hourly', 'labor_cost', 'vended_services_cost', 'inhouse_labor_ratio']\n",
      "Decision Tree (Select from model): ['profit_per_fte', 'consult_contracts_cost']\n",
      "XG Boost (Select from model):['consult_contracts_cost']\n",
      "XG Boost (Get booster function): ['profit_per_fte', 'vended_services_cost', 'consult_contracts_cost', 'labor_cost', 'labor_charge_hourly', 'managed_contracts_rev', 'consult_contracts_rev', 'managed_contracts_cost']\n"
     ]
    },
    {
     "name": "stderr",
     "output_type": "stream",
     "text": [
      "16:34:12 - cmdstanpy - INFO - Chain [1] start processing\n",
      "16:34:12 - cmdstanpy - INFO - Chain [1] done processing\n",
      "16:34:13 - cmdstanpy - INFO - Chain [1] start processing\n",
      "16:34:13 - cmdstanpy - INFO - Chain [1] done processing\n",
      "16:34:13 - cmdstanpy - INFO - Chain [1] start processing\n",
      "16:34:19 - cmdstanpy - INFO - Chain [1] done processing\n",
      "16:34:20 - cmdstanpy - INFO - Chain [1] start processing\n",
      "16:34:20 - cmdstanpy - INFO - Chain [1] done processing\n",
      "16:34:20 - cmdstanpy - INFO - Chain [1] start processing\n",
      "16:34:20 - cmdstanpy - INFO - Chain [1] done processing\n",
      "16:34:21 - cmdstanpy - INFO - Chain [1] start processing\n",
      "16:34:31 - cmdstanpy - INFO - Chain [1] done processing\n"
     ]
    },
    {
     "name": "stdout",
     "output_type": "stream",
     "text": [
      "CITIBANK_LA\n"
     ]
    },
    {
     "name": "stderr",
     "output_type": "stream",
     "text": [
      "16:34:31 - cmdstanpy - INFO - Chain [1] start processing\n",
      "16:34:32 - cmdstanpy - INFO - Chain [1] done processing\n",
      "16:34:32 - cmdstanpy - INFO - Chain [1] start processing\n",
      "16:34:32 - cmdstanpy - INFO - Chain [1] done processing\n",
      "16:34:32 - cmdstanpy - INFO - Chain [1] start processing\n",
      "16:34:32 - cmdstanpy - INFO - Chain [1] done processing\n",
      "16:34:33 - cmdstanpy - INFO - Chain [1] start processing\n",
      "16:34:33 - cmdstanpy - INFO - Chain [1] done processing\n",
      "16:34:33 - cmdstanpy - INFO - Chain [1] start processing\n",
      "16:34:33 - cmdstanpy - INFO - Chain [1] done processing\n",
      "16:34:33 - cmdstanpy - INFO - Chain [1] start processing\n",
      "16:34:33 - cmdstanpy - INFO - Chain [1] done processing\n",
      "16:34:34 - cmdstanpy - INFO - Chain [1] start processing\n",
      "16:34:34 - cmdstanpy - INFO - Chain [1] done processing\n",
      "16:34:34 - cmdstanpy - INFO - Chain [1] start processing\n",
      "16:34:34 - cmdstanpy - INFO - Chain [1] done processing\n",
      "16:34:35 - cmdstanpy - INFO - Chain [1] start processing\n",
      "16:34:35 - cmdstanpy - INFO - Chain [1] done processing\n",
      "16:34:36 - cmdstanpy - INFO - Chain [1] start processing\n"
     ]
    },
    {
     "name": "stdout",
     "output_type": "stream",
     "text": [
      "Prophet: ['vended_services_cost', 'labor_cost', 'inhouse_labor_ratio', 'managed_contracts_rev']\n",
      "Random forest (Select from model)['profit_per_fte', 'labor_charge_hourly', 'labor_cost', 'labor_band', 'managed_contracts_rev']\n",
      "Random forest (feature importance function): ['profit_per_fte', 'labor_charge_hourly', 'labor_cost', 'vended_services_cost', 'inhouse_labor_ratio']\n",
      "Decision Tree (Select from model): ['profit_per_fte', 'labor_charge_hourly', 'labor_cost']\n",
      "XG Boost (Select from model):['profit_per_fte', 'labor_charge_hourly', 'labor_cost']\n",
      "XG Boost (Get booster function): ['profit_per_fte', 'labor_charge_hourly', 'labor_cost', 'gross_profit_margin']\n"
     ]
    },
    {
     "name": "stderr",
     "output_type": "stream",
     "text": [
      "16:34:36 - cmdstanpy - INFO - Chain [1] done processing\n",
      "16:34:36 - cmdstanpy - INFO - Chain [1] start processing\n",
      "16:34:36 - cmdstanpy - INFO - Chain [1] done processing\n",
      "16:34:37 - cmdstanpy - INFO - Chain [1] start processing\n",
      "16:34:37 - cmdstanpy - INFO - Chain [1] done processing\n",
      "16:34:37 - cmdstanpy - INFO - Chain [1] start processing\n",
      "16:34:37 - cmdstanpy - INFO - Chain [1] done processing\n",
      "16:34:37 - cmdstanpy - INFO - Chain [1] start processing\n",
      "16:34:37 - cmdstanpy - INFO - Chain [1] done processing\n",
      "16:34:38 - cmdstanpy - INFO - Chain [1] start processing\n",
      "16:34:38 - cmdstanpy - INFO - Chain [1] done processing\n",
      "16:34:38 - cmdstanpy - INFO - Chain [1] start processing\n"
     ]
    },
    {
     "name": "stdout",
     "output_type": "stream",
     "text": [
      "CNBNS1\n"
     ]
    },
    {
     "name": "stderr",
     "output_type": "stream",
     "text": [
      "16:34:38 - cmdstanpy - INFO - Chain [1] done processing\n",
      "16:34:38 - cmdstanpy - INFO - Chain [1] start processing\n",
      "16:34:38 - cmdstanpy - INFO - Chain [1] done processing\n",
      "16:34:39 - cmdstanpy - INFO - Chain [1] start processing\n",
      "16:34:39 - cmdstanpy - INFO - Chain [1] done processing\n",
      "16:34:39 - cmdstanpy - INFO - Chain [1] start processing\n",
      "16:34:39 - cmdstanpy - INFO - Chain [1] done processing\n",
      "16:34:39 - cmdstanpy - INFO - Chain [1] start processing\n",
      "16:34:39 - cmdstanpy - INFO - Chain [1] done processing\n",
      "16:34:40 - cmdstanpy - INFO - Chain [1] start processing\n",
      "16:34:40 - cmdstanpy - INFO - Chain [1] done processing\n",
      "16:34:40 - cmdstanpy - INFO - Chain [1] start processing\n",
      "16:34:40 - cmdstanpy - INFO - Chain [1] done processing\n",
      "16:34:40 - cmdstanpy - INFO - Chain [1] start processing\n",
      "16:34:41 - cmdstanpy - INFO - Chain [1] done processing\n",
      "16:34:41 - cmdstanpy - INFO - Chain [1] start processing\n",
      "16:34:41 - cmdstanpy - INFO - Chain [1] done processing\n",
      "16:34:41 - cmdstanpy - INFO - Chain [1] start processing\n",
      "16:34:41 - cmdstanpy - INFO - Chain [1] done processing\n",
      "16:34:42 - cmdstanpy - INFO - Chain [1] start processing\n",
      "16:34:42 - cmdstanpy - INFO - Chain [1] done processing\n",
      "16:34:42 - cmdstanpy - INFO - Chain [1] start processing\n"
     ]
    },
    {
     "name": "stdout",
     "output_type": "stream",
     "text": [
      "Prophet: ['labor_band', 'inhouse_labor_ratio', 'consult_contracts_cost', 'vended_services_cost']\n",
      "Random forest (Select from model)['vended_services_cost', 'consult_contracts_rev', 'consult_contracts_cost']\n",
      "Random forest (feature importance function): ['profit_per_fte', 'labor_charge_hourly', 'labor_cost', 'vended_services_cost', 'inhouse_labor_ratio']\n",
      "Decision Tree (Select from model): ['consult_contracts_rev', 'managed_contracts_cost']\n",
      "XG Boost (Select from model):['vended_services_cost', 'inhouse_labor_ratio', 'consult_contracts_rev']\n",
      "XG Boost (Get booster function): ['labor_charge_hourly', 'profit_per_fte', 'consult_contracts_rev', 'vended_services_cost', 'managed_contracts_rev', 'labor_band', 'inhouse_labor_ratio']\n"
     ]
    },
    {
     "name": "stderr",
     "output_type": "stream",
     "text": [
      "16:34:42 - cmdstanpy - INFO - Chain [1] done processing\n",
      "16:34:43 - cmdstanpy - INFO - Chain [1] start processing\n",
      "16:34:43 - cmdstanpy - INFO - Chain [1] done processing\n",
      "16:34:43 - cmdstanpy - INFO - Chain [1] start processing\n",
      "16:34:43 - cmdstanpy - INFO - Chain [1] done processing\n",
      "16:34:43 - cmdstanpy - INFO - Chain [1] start processing\n",
      "16:34:43 - cmdstanpy - INFO - Chain [1] done processing\n",
      "16:34:44 - cmdstanpy - INFO - Chain [1] start processing\n",
      "16:34:44 - cmdstanpy - INFO - Chain [1] done processing\n",
      "16:34:44 - cmdstanpy - INFO - Chain [1] start processing\n",
      "16:34:47 - cmdstanpy - INFO - Chain [1] done processing\n"
     ]
    },
    {
     "name": "stdout",
     "output_type": "stream",
     "text": [
      "DEDTBANK\n"
     ]
    },
    {
     "name": "stderr",
     "output_type": "stream",
     "text": [
      "16:34:48 - cmdstanpy - INFO - Chain [1] start processing\n",
      "16:34:48 - cmdstanpy - INFO - Chain [1] done processing\n",
      "16:34:48 - cmdstanpy - INFO - Chain [1] start processing\n",
      "16:34:48 - cmdstanpy - INFO - Chain [1] done processing\n",
      "16:34:48 - cmdstanpy - INFO - Chain [1] start processing\n",
      "16:34:48 - cmdstanpy - INFO - Chain [1] done processing\n",
      "16:34:49 - cmdstanpy - INFO - Chain [1] start processing\n",
      "16:34:49 - cmdstanpy - INFO - Chain [1] done processing\n",
      "16:34:49 - cmdstanpy - INFO - Chain [1] start processing\n",
      "16:34:49 - cmdstanpy - INFO - Chain [1] done processing\n",
      "16:34:49 - cmdstanpy - INFO - Chain [1] start processing\n",
      "16:34:49 - cmdstanpy - INFO - Chain [1] done processing\n",
      "16:34:50 - cmdstanpy - INFO - Chain [1] start processing\n",
      "16:34:50 - cmdstanpy - INFO - Chain [1] done processing\n",
      "16:34:50 - cmdstanpy - INFO - Chain [1] start processing\n",
      "16:34:50 - cmdstanpy - INFO - Chain [1] done processing\n",
      "16:34:51 - cmdstanpy - INFO - Chain [1] start processing\n",
      "16:34:51 - cmdstanpy - INFO - Chain [1] done processing\n",
      "16:34:51 - cmdstanpy - INFO - Chain [1] start processing\n",
      "16:34:51 - cmdstanpy - INFO - Chain [1] done processing\n",
      "16:34:51 - cmdstanpy - INFO - Chain [1] start processing\n",
      "16:34:55 - cmdstanpy - INFO - Chain [1] done processing\n"
     ]
    },
    {
     "name": "stdout",
     "output_type": "stream",
     "text": [
      "Prophet: ['labor_band', 'inhouse_labor_ratio', 'vended_services_cost', 'consult_contracts_rev']\n",
      "Random forest (Select from model)['labor_charge_hourly', 'labor_cost', 'inhouse_labor_ratio', 'labor_band', 'managed_contracts_cost']\n",
      "Random forest (feature importance function): ['profit_per_fte', 'labor_charge_hourly', 'labor_cost', 'vended_services_cost', 'inhouse_labor_ratio']\n",
      "Decision Tree (Select from model): ['labor_charge_hourly', 'consult_contracts_cost']\n",
      "XG Boost (Select from model):['labor_charge_hourly', 'vended_services_cost', 'managed_contracts_cost']\n",
      "XG Boost (Get booster function): ['profit_per_fte', 'labor_charge_hourly', 'labor_cost', 'labor_band', 'vended_services_cost', 'managed_contracts_cost', 'consult_contracts_rev']\n"
     ]
    },
    {
     "name": "stderr",
     "output_type": "stream",
     "text": [
      "16:34:56 - cmdstanpy - INFO - Chain [1] start processing\n",
      "16:34:56 - cmdstanpy - INFO - Chain [1] done processing\n",
      "16:34:56 - cmdstanpy - INFO - Chain [1] start processing\n",
      "16:34:56 - cmdstanpy - INFO - Chain [1] done processing\n",
      "16:34:56 - cmdstanpy - INFO - Chain [1] start processing\n",
      "16:34:56 - cmdstanpy - INFO - Chain [1] done processing\n",
      "16:34:57 - cmdstanpy - INFO - Chain [1] start processing\n",
      "16:34:57 - cmdstanpy - INFO - Chain [1] done processing\n",
      "16:34:57 - cmdstanpy - INFO - Chain [1] start processing\n",
      "16:34:58 - cmdstanpy - INFO - Chain [1] done processing\n",
      "16:34:58 - cmdstanpy - INFO - Chain [1] start processing\n",
      "16:34:58 - cmdstanpy - INFO - Chain [1] done processing\n"
     ]
    },
    {
     "name": "stdout",
     "output_type": "stream",
     "text": [
      "ESOMEG1\n"
     ]
    },
    {
     "name": "stderr",
     "output_type": "stream",
     "text": [
      "16:34:59 - cmdstanpy - INFO - Chain [1] start processing\n",
      "16:34:59 - cmdstanpy - INFO - Chain [1] done processing\n",
      "16:34:59 - cmdstanpy - INFO - Chain [1] start processing\n",
      "16:34:59 - cmdstanpy - INFO - Chain [1] done processing\n",
      "16:35:00 - cmdstanpy - INFO - Chain [1] start processing\n",
      "16:35:00 - cmdstanpy - INFO - Chain [1] done processing\n",
      "16:35:00 - cmdstanpy - INFO - Chain [1] start processing\n",
      "16:35:00 - cmdstanpy - INFO - Chain [1] done processing\n",
      "16:35:00 - cmdstanpy - INFO - Chain [1] start processing\n",
      "16:35:01 - cmdstanpy - INFO - Chain [1] done processing\n",
      "16:35:01 - cmdstanpy - INFO - Chain [1] start processing\n",
      "16:35:01 - cmdstanpy - INFO - Chain [1] done processing\n",
      "16:35:01 - cmdstanpy - INFO - Chain [1] start processing\n",
      "16:35:01 - cmdstanpy - INFO - Chain [1] done processing\n",
      "16:35:02 - cmdstanpy - INFO - Chain [1] start processing\n",
      "16:35:02 - cmdstanpy - INFO - Chain [1] done processing\n",
      "16:35:02 - cmdstanpy - INFO - Chain [1] start processing\n",
      "16:35:02 - cmdstanpy - INFO - Chain [1] done processing\n",
      "16:35:03 - cmdstanpy - INFO - Chain [1] start processing\n",
      "16:35:03 - cmdstanpy - INFO - Chain [1] done processing\n",
      "16:35:03 - cmdstanpy - INFO - Chain [1] start processing\n",
      "16:35:03 - cmdstanpy - INFO - Chain [1] done processing\n"
     ]
    },
    {
     "name": "stdout",
     "output_type": "stream",
     "text": [
      "Prophet: ['labor_cost', 'consult_contracts_cost', 'inhouse_labor_ratio', 'labor_band']\n",
      "Random forest (Select from model)['labor_band', 'managed_contracts_rev', 'consult_contracts_rev']\n",
      "Random forest (feature importance function): ['profit_per_fte', 'labor_charge_hourly', 'labor_cost', 'vended_services_cost', 'inhouse_labor_ratio']\n",
      "Decision Tree (Select from model): ['managed_contracts_rev', 'managed_contracts_cost']\n",
      "XG Boost (Select from model):['managed_contracts_rev', 'consult_contracts_rev', 'managed_contracts_cost']\n",
      "XG Boost (Get booster function): ['profit_per_fte', 'labor_cost', 'labor_charge_hourly', 'labor_band', 'managed_contracts_rev', 'consult_contracts_rev', 'managed_contracts_cost', 'gross_profit_margin']\n"
     ]
    },
    {
     "name": "stderr",
     "output_type": "stream",
     "text": [
      "16:35:04 - cmdstanpy - INFO - Chain [1] start processing\n",
      "16:35:04 - cmdstanpy - INFO - Chain [1] done processing\n",
      "16:35:04 - cmdstanpy - INFO - Chain [1] start processing\n",
      "16:35:04 - cmdstanpy - INFO - Chain [1] done processing\n",
      "16:35:04 - cmdstanpy - INFO - Chain [1] start processing\n",
      "16:35:05 - cmdstanpy - INFO - Chain [1] done processing\n",
      "16:35:05 - cmdstanpy - INFO - Chain [1] start processing\n",
      "16:35:05 - cmdstanpy - INFO - Chain [1] done processing\n",
      "16:35:05 - cmdstanpy - INFO - Chain [1] start processing\n",
      "16:35:05 - cmdstanpy - INFO - Chain [1] done processing\n",
      "16:35:06 - cmdstanpy - INFO - Chain [1] start processing\n",
      "16:35:10 - cmdstanpy - INFO - Chain [1] done processing\n"
     ]
    },
    {
     "name": "stdout",
     "output_type": "stream",
     "text": [
      "GB001HR6\n"
     ]
    },
    {
     "name": "stderr",
     "output_type": "stream",
     "text": [
      "16:35:10 - cmdstanpy - INFO - Chain [1] start processing\n",
      "16:35:10 - cmdstanpy - INFO - Chain [1] done processing\n",
      "16:35:11 - cmdstanpy - INFO - Chain [1] start processing\n",
      "16:35:11 - cmdstanpy - INFO - Chain [1] done processing\n",
      "16:35:11 - cmdstanpy - INFO - Chain [1] start processing\n",
      "16:35:11 - cmdstanpy - INFO - Chain [1] done processing\n",
      "16:35:12 - cmdstanpy - INFO - Chain [1] start processing\n",
      "16:35:12 - cmdstanpy - INFO - Chain [1] done processing\n",
      "16:35:12 - cmdstanpy - INFO - Chain [1] start processing\n",
      "16:35:12 - cmdstanpy - INFO - Chain [1] done processing\n",
      "16:35:12 - cmdstanpy - INFO - Chain [1] start processing\n",
      "16:35:13 - cmdstanpy - INFO - Chain [1] done processing\n",
      "16:35:13 - cmdstanpy - INFO - Chain [1] start processing\n",
      "16:35:13 - cmdstanpy - INFO - Chain [1] done processing\n",
      "16:35:13 - cmdstanpy - INFO - Chain [1] start processing\n",
      "16:35:13 - cmdstanpy - INFO - Chain [1] done processing\n",
      "16:35:14 - cmdstanpy - INFO - Chain [1] start processing\n",
      "16:35:14 - cmdstanpy - INFO - Chain [1] done processing\n",
      "16:35:14 - cmdstanpy - INFO - Chain [1] start processing\n",
      "16:35:14 - cmdstanpy - INFO - Chain [1] done processing\n",
      "16:35:14 - cmdstanpy - INFO - Chain [1] start processing\n",
      "16:35:15 - cmdstanpy - INFO - Chain [1] done processing\n"
     ]
    },
    {
     "name": "stdout",
     "output_type": "stream",
     "text": [
      "Prophet: ['managed_contracts_cost', 'managed_contracts_rev', 'labor_cost', 'consult_contracts_rev']\n",
      "Random forest (Select from model)['labor_charge_hourly', 'vended_services_cost', 'managed_contracts_cost']\n",
      "Random forest (feature importance function): ['profit_per_fte', 'labor_charge_hourly', 'labor_cost', 'vended_services_cost', 'inhouse_labor_ratio']\n",
      "Decision Tree (Select from model): ['labor_charge_hourly', 'labor_cost', 'managed_contracts_cost']\n",
      "XG Boost (Select from model):['vended_services_cost', 'managed_contracts_cost']\n",
      "XG Boost (Get booster function): ['profit_per_fte', 'labor_cost', 'labor_charge_hourly', 'managed_contracts_cost', 'vended_services_cost']\n"
     ]
    },
    {
     "name": "stderr",
     "output_type": "stream",
     "text": [
      "16:35:15 - cmdstanpy - INFO - Chain [1] start processing\n",
      "16:35:16 - cmdstanpy - INFO - Chain [1] done processing\n",
      "16:35:16 - cmdstanpy - INFO - Chain [1] start processing\n",
      "16:35:16 - cmdstanpy - INFO - Chain [1] done processing\n",
      "16:35:16 - cmdstanpy - INFO - Chain [1] start processing\n",
      "16:35:16 - cmdstanpy - INFO - Chain [1] done processing\n",
      "16:35:17 - cmdstanpy - INFO - Chain [1] start processing\n",
      "16:35:17 - cmdstanpy - INFO - Chain [1] done processing\n",
      "16:35:17 - cmdstanpy - INFO - Chain [1] start processing\n",
      "16:35:17 - cmdstanpy - INFO - Chain [1] done processing\n",
      "16:35:18 - cmdstanpy - INFO - Chain [1] start processing\n",
      "16:35:18 - cmdstanpy - INFO - Chain [1] done processing\n"
     ]
    },
    {
     "name": "stdout",
     "output_type": "stream",
     "text": [
      "IBITNOWSPA\n"
     ]
    },
    {
     "name": "stderr",
     "output_type": "stream",
     "text": [
      "16:35:18 - cmdstanpy - INFO - Chain [1] start processing\n",
      "16:35:18 - cmdstanpy - INFO - Chain [1] done processing\n",
      "16:35:19 - cmdstanpy - INFO - Chain [1] start processing\n",
      "16:35:19 - cmdstanpy - INFO - Chain [1] done processing\n",
      "16:35:19 - cmdstanpy - INFO - Chain [1] start processing\n",
      "16:35:19 - cmdstanpy - INFO - Chain [1] done processing\n",
      "16:35:20 - cmdstanpy - INFO - Chain [1] start processing\n",
      "16:35:20 - cmdstanpy - INFO - Chain [1] done processing\n",
      "16:35:20 - cmdstanpy - INFO - Chain [1] start processing\n",
      "16:35:20 - cmdstanpy - INFO - Chain [1] done processing\n",
      "16:35:20 - cmdstanpy - INFO - Chain [1] start processing\n",
      "16:35:21 - cmdstanpy - INFO - Chain [1] done processing\n",
      "16:35:21 - cmdstanpy - INFO - Chain [1] start processing\n",
      "16:35:21 - cmdstanpy - INFO - Chain [1] done processing\n",
      "16:35:21 - cmdstanpy - INFO - Chain [1] start processing\n",
      "16:35:22 - cmdstanpy - INFO - Chain [1] done processing\n",
      "16:35:22 - cmdstanpy - INFO - Chain [1] start processing\n",
      "16:35:22 - cmdstanpy - INFO - Chain [1] done processing\n",
      "16:35:23 - cmdstanpy - INFO - Chain [1] start processing\n",
      "16:35:23 - cmdstanpy - INFO - Chain [1] done processing\n",
      "16:35:23 - cmdstanpy - INFO - Chain [1] start processing\n",
      "16:35:27 - cmdstanpy - INFO - Chain [1] done processing\n",
      "16:35:28 - cmdstanpy - INFO - Chain [1] start processing\n"
     ]
    },
    {
     "name": "stdout",
     "output_type": "stream",
     "text": [
      "Prophet: ['consult_contracts_rev', 'consult_contracts_cost', 'labor_band', 'managed_contracts_rev']\n",
      "Random forest (Select from model)['profit_per_fte', 'vended_services_cost', 'inhouse_labor_ratio', 'managed_contracts_rev']\n",
      "Random forest (feature importance function): ['profit_per_fte', 'labor_charge_hourly', 'labor_cost', 'vended_services_cost', 'inhouse_labor_ratio']\n",
      "Decision Tree (Select from model): ['vended_services_cost']\n",
      "XG Boost (Select from model):['profit_per_fte', 'vended_services_cost']\n",
      "XG Boost (Get booster function): ['vended_services_cost', 'labor_charge_hourly', 'profit_per_fte', 'labor_cost']\n"
     ]
    },
    {
     "name": "stderr",
     "output_type": "stream",
     "text": [
      "16:35:28 - cmdstanpy - INFO - Chain [1] done processing\n",
      "16:35:28 - cmdstanpy - INFO - Chain [1] start processing\n",
      "16:35:28 - cmdstanpy - INFO - Chain [1] done processing\n",
      "16:35:29 - cmdstanpy - INFO - Chain [1] start processing\n",
      "16:35:29 - cmdstanpy - INFO - Chain [1] done processing\n",
      "16:35:29 - cmdstanpy - INFO - Chain [1] start processing\n",
      "16:35:29 - cmdstanpy - INFO - Chain [1] done processing\n",
      "16:35:29 - cmdstanpy - INFO - Chain [1] start processing\n",
      "16:35:29 - cmdstanpy - INFO - Chain [1] done processing\n",
      "16:35:30 - cmdstanpy - INFO - Chain [1] start processing\n",
      "16:35:30 - cmdstanpy - INFO - Chain [1] done processing\n"
     ]
    },
    {
     "name": "stdout",
     "output_type": "stream",
     "text": [
      "ITBNPPARIBAS\n"
     ]
    },
    {
     "name": "stderr",
     "output_type": "stream",
     "text": [
      "16:35:30 - cmdstanpy - INFO - Chain [1] start processing\n",
      "16:35:30 - cmdstanpy - INFO - Chain [1] done processing\n",
      "16:35:30 - cmdstanpy - INFO - Chain [1] start processing\n",
      "16:35:31 - cmdstanpy - INFO - Chain [1] done processing\n",
      "16:35:31 - cmdstanpy - INFO - Chain [1] start processing\n",
      "16:35:31 - cmdstanpy - INFO - Chain [1] done processing\n",
      "16:35:31 - cmdstanpy - INFO - Chain [1] start processing\n",
      "16:35:31 - cmdstanpy - INFO - Chain [1] done processing\n",
      "16:35:32 - cmdstanpy - INFO - Chain [1] start processing\n",
      "16:35:32 - cmdstanpy - INFO - Chain [1] done processing\n",
      "16:35:32 - cmdstanpy - INFO - Chain [1] start processing\n",
      "16:35:32 - cmdstanpy - INFO - Chain [1] done processing\n",
      "16:35:32 - cmdstanpy - INFO - Chain [1] start processing\n",
      "16:35:32 - cmdstanpy - INFO - Chain [1] done processing\n",
      "16:35:33 - cmdstanpy - INFO - Chain [1] start processing\n",
      "16:35:33 - cmdstanpy - INFO - Chain [1] done processing\n",
      "16:35:33 - cmdstanpy - INFO - Chain [1] start processing\n",
      "16:35:37 - cmdstanpy - INFO - Chain [1] done processing\n"
     ]
    },
    {
     "name": "stdout",
     "output_type": "stream",
     "text": [
      "Prophet: ['managed_contracts_cost', 'managed_contracts_rev', 'labor_cost', 'inhouse_labor_ratio']\n",
      "Random forest (Select from model)['labor_charge_hourly', 'inhouse_labor_ratio', 'labor_band', 'gross_profit_margin']\n",
      "Random forest (feature importance function): ['profit_per_fte', 'labor_charge_hourly', 'labor_cost', 'vended_services_cost', 'inhouse_labor_ratio']\n",
      "Decision Tree (Select from model): ['inhouse_labor_ratio']\n",
      "XG Boost (Select from model):['inhouse_labor_ratio']\n",
      "XG Boost (Get booster function): ['profit_per_fte', 'inhouse_labor_ratio', 'labor_charge_hourly', 'managed_contracts_cost', 'labor_band', 'labor_cost', 'vended_services_cost']\n",
      "JPMORG_CHAS\n"
     ]
    },
    {
     "name": "stderr",
     "output_type": "stream",
     "text": [
      "16:35:38 - cmdstanpy - INFO - Chain [1] start processing\n",
      "16:35:38 - cmdstanpy - INFO - Chain [1] done processing\n",
      "16:35:38 - cmdstanpy - INFO - Chain [1] start processing\n",
      "16:35:38 - cmdstanpy - INFO - Chain [1] done processing\n",
      "16:35:38 - cmdstanpy - INFO - Chain [1] start processing\n",
      "16:35:39 - cmdstanpy - INFO - Chain [1] done processing\n",
      "16:35:39 - cmdstanpy - INFO - Chain [1] start processing\n",
      "16:35:39 - cmdstanpy - INFO - Chain [1] done processing\n",
      "16:35:39 - cmdstanpy - INFO - Chain [1] start processing\n",
      "16:35:39 - cmdstanpy - INFO - Chain [1] done processing\n",
      "16:35:39 - cmdstanpy - INFO - Chain [1] start processing\n",
      "16:35:40 - cmdstanpy - INFO - Chain [1] done processing\n",
      "16:35:40 - cmdstanpy - INFO - Chain [1] start processing\n",
      "16:35:40 - cmdstanpy - INFO - Chain [1] done processing\n",
      "16:35:40 - cmdstanpy - INFO - Chain [1] start processing\n",
      "16:35:40 - cmdstanpy - INFO - Chain [1] done processing\n",
      "16:35:41 - cmdstanpy - INFO - Chain [1] start processing\n",
      "16:35:41 - cmdstanpy - INFO - Chain [1] done processing\n",
      "16:35:41 - cmdstanpy - INFO - Chain [1] start processing\n",
      "16:35:41 - cmdstanpy - INFO - Chain [1] done processing\n",
      "16:35:41 - cmdstanpy - INFO - Chain [1] start processing\n",
      "16:35:42 - cmdstanpy - INFO - Chain [1] done processing\n",
      "16:35:42 - cmdstanpy - INFO - Chain [1] start processing\n"
     ]
    },
    {
     "name": "stdout",
     "output_type": "stream",
     "text": [
      "Prophet: ['vended_services_cost', 'consult_contracts_cost', 'labor_cost', 'labor_band']\n",
      "Random forest (Select from model)['labor_band', 'consult_contracts_cost', 'gross_profit_margin']\n",
      "Random forest (feature importance function): ['profit_per_fte', 'labor_charge_hourly', 'labor_cost', 'vended_services_cost', 'inhouse_labor_ratio']\n",
      "Decision Tree (Select from model): ['consult_contracts_cost', 'gross_profit_margin']\n",
      "XG Boost (Select from model):['labor_cost', 'gross_profit_margin']\n",
      "XG Boost (Get booster function): ['profit_per_fte', 'labor_band', 'labor_charge_hourly', 'labor_cost', 'managed_contracts_cost', 'gross_profit_margin', 'inhouse_labor_ratio']\n"
     ]
    },
    {
     "name": "stderr",
     "output_type": "stream",
     "text": [
      "16:35:42 - cmdstanpy - INFO - Chain [1] done processing\n",
      "16:35:42 - cmdstanpy - INFO - Chain [1] start processing\n",
      "16:35:43 - cmdstanpy - INFO - Chain [1] done processing\n",
      "16:35:43 - cmdstanpy - INFO - Chain [1] start processing\n",
      "16:35:43 - cmdstanpy - INFO - Chain [1] done processing\n",
      "16:35:43 - cmdstanpy - INFO - Chain [1] start processing\n",
      "16:35:43 - cmdstanpy - INFO - Chain [1] done processing\n",
      "16:35:44 - cmdstanpy - INFO - Chain [1] start processing\n",
      "16:35:44 - cmdstanpy - INFO - Chain [1] done processing\n",
      "16:35:44 - cmdstanpy - INFO - Chain [1] start processing\n",
      "16:35:44 - cmdstanpy - INFO - Chain [1] done processing\n",
      "16:35:44 - cmdstanpy - INFO - Chain [1] start processing\n"
     ]
    },
    {
     "name": "stdout",
     "output_type": "stream",
     "text": [
      "JP_CHANCE\n"
     ]
    },
    {
     "name": "stderr",
     "output_type": "stream",
     "text": [
      "16:35:45 - cmdstanpy - INFO - Chain [1] done processing\n",
      "16:35:45 - cmdstanpy - INFO - Chain [1] start processing\n",
      "16:35:45 - cmdstanpy - INFO - Chain [1] done processing\n",
      "16:35:45 - cmdstanpy - INFO - Chain [1] start processing\n",
      "16:35:45 - cmdstanpy - INFO - Chain [1] done processing\n",
      "16:35:46 - cmdstanpy - INFO - Chain [1] start processing\n",
      "16:35:46 - cmdstanpy - INFO - Chain [1] done processing\n",
      "16:35:46 - cmdstanpy - INFO - Chain [1] start processing\n",
      "16:35:46 - cmdstanpy - INFO - Chain [1] done processing\n",
      "16:35:46 - cmdstanpy - INFO - Chain [1] start processing\n",
      "16:35:46 - cmdstanpy - INFO - Chain [1] done processing\n",
      "16:35:47 - cmdstanpy - INFO - Chain [1] start processing\n",
      "16:35:47 - cmdstanpy - INFO - Chain [1] done processing\n",
      "16:35:47 - cmdstanpy - INFO - Chain [1] start processing\n",
      "16:35:47 - cmdstanpy - INFO - Chain [1] done processing\n",
      "16:35:48 - cmdstanpy - INFO - Chain [1] start processing\n",
      "16:35:48 - cmdstanpy - INFO - Chain [1] done processing\n",
      "16:35:48 - cmdstanpy - INFO - Chain [1] start processing\n",
      "16:35:48 - cmdstanpy - INFO - Chain [1] done processing\n",
      "16:35:48 - cmdstanpy - INFO - Chain [1] start processing\n",
      "16:35:49 - cmdstanpy - INFO - Chain [1] done processing\n",
      "16:35:49 - cmdstanpy - INFO - Chain [1] start processing\n"
     ]
    },
    {
     "name": "stdout",
     "output_type": "stream",
     "text": [
      "Prophet: ['inhouse_labor_ratio', 'consult_contracts_cost', 'consult_contracts_rev', 'managed_contracts_rev']\n",
      "Random forest (Select from model)['profit_per_fte', 'vended_services_cost', 'labor_band', 'managed_contracts_rev']\n",
      "Random forest (feature importance function): ['profit_per_fte', 'labor_charge_hourly', 'labor_cost', 'vended_services_cost', 'inhouse_labor_ratio']\n",
      "Decision Tree (Select from model): ['vended_services_cost', 'managed_contracts_rev']\n",
      "XG Boost (Select from model):['labor_charge_hourly', 'vended_services_cost', 'managed_contracts_rev', 'managed_contracts_cost']\n",
      "XG Boost (Get booster function): ['profit_per_fte', 'vended_services_cost', 'managed_contracts_rev', 'labor_charge_hourly', 'inhouse_labor_ratio', 'managed_contracts_cost', 'labor_cost']\n"
     ]
    },
    {
     "name": "stderr",
     "output_type": "stream",
     "text": [
      "16:35:49 - cmdstanpy - INFO - Chain [1] done processing\n",
      "16:35:49 - cmdstanpy - INFO - Chain [1] start processing\n",
      "16:35:50 - cmdstanpy - INFO - Chain [1] done processing\n",
      "16:35:50 - cmdstanpy - INFO - Chain [1] start processing\n",
      "16:35:50 - cmdstanpy - INFO - Chain [1] done processing\n",
      "16:35:50 - cmdstanpy - INFO - Chain [1] start processing\n",
      "16:35:50 - cmdstanpy - INFO - Chain [1] done processing\n",
      "16:35:50 - cmdstanpy - INFO - Chain [1] start processing\n",
      "16:35:53 - cmdstanpy - INFO - Chain [1] done processing\n",
      "16:35:54 - cmdstanpy - INFO - Chain [1] start processing\n",
      "16:35:56 - cmdstanpy - INFO - Chain [1] done processing\n"
     ]
    },
    {
     "name": "stdout",
     "output_type": "stream",
     "text": [
      "JP_DCS\n"
     ]
    },
    {
     "name": "stderr",
     "output_type": "stream",
     "text": [
      "16:35:57 - cmdstanpy - INFO - Chain [1] start processing\n",
      "16:35:57 - cmdstanpy - INFO - Chain [1] done processing\n",
      "16:35:57 - cmdstanpy - INFO - Chain [1] start processing\n",
      "16:35:57 - cmdstanpy - INFO - Chain [1] done processing\n",
      "16:35:57 - cmdstanpy - INFO - Chain [1] start processing\n",
      "16:35:57 - cmdstanpy - INFO - Chain [1] done processing\n",
      "16:35:58 - cmdstanpy - INFO - Chain [1] start processing\n",
      "16:35:58 - cmdstanpy - INFO - Chain [1] done processing\n",
      "16:35:58 - cmdstanpy - INFO - Chain [1] start processing\n",
      "16:35:58 - cmdstanpy - INFO - Chain [1] done processing\n",
      "16:35:59 - cmdstanpy - INFO - Chain [1] start processing\n",
      "16:35:59 - cmdstanpy - INFO - Chain [1] done processing\n",
      "16:35:59 - cmdstanpy - INFO - Chain [1] start processing\n",
      "16:35:59 - cmdstanpy - INFO - Chain [1] done processing\n",
      "16:35:59 - cmdstanpy - INFO - Chain [1] start processing\n",
      "16:35:59 - cmdstanpy - INFO - Chain [1] done processing\n",
      "16:36:00 - cmdstanpy - INFO - Chain [1] start processing\n",
      "16:36:00 - cmdstanpy - INFO - Chain [1] done processing\n",
      "16:36:00 - cmdstanpy - INFO - Chain [1] start processing\n",
      "16:36:00 - cmdstanpy - INFO - Chain [1] done processing\n",
      "16:36:00 - cmdstanpy - INFO - Chain [1] start processing\n",
      "16:36:01 - cmdstanpy - INFO - Chain [1] done processing\n",
      "16:36:01 - cmdstanpy - INFO - Chain [1] start processing\n"
     ]
    },
    {
     "name": "stdout",
     "output_type": "stream",
     "text": [
      "Prophet: ['managed_contracts_rev', 'vended_services_cost', 'labor_cost', 'inhouse_labor_ratio']\n",
      "Random forest (Select from model)['profit_per_fte', 'labor_charge_hourly', 'labor_band', 'managed_contracts_cost', 'gross_profit_margin']\n",
      "Random forest (feature importance function): ['profit_per_fte', 'labor_charge_hourly', 'labor_cost', 'vended_services_cost', 'inhouse_labor_ratio']\n",
      "Decision Tree (Select from model): ['managed_contracts_rev', 'managed_contracts_cost']\n",
      "XG Boost (Select from model):['profit_per_fte', 'labor_charge_hourly', 'vended_services_cost']\n",
      "XG Boost (Get booster function): ['profit_per_fte', 'labor_charge_hourly', 'labor_cost', 'inhouse_labor_ratio', 'consult_contracts_rev', 'vended_services_cost', 'labor_band', 'managed_contracts_rev', 'gross_profit_margin']\n"
     ]
    },
    {
     "name": "stderr",
     "output_type": "stream",
     "text": [
      "16:36:04 - cmdstanpy - INFO - Chain [1] done processing\n",
      "16:36:04 - cmdstanpy - INFO - Chain [1] start processing\n",
      "16:36:07 - cmdstanpy - INFO - Chain [1] done processing\n",
      "16:36:07 - cmdstanpy - INFO - Chain [1] start processing\n",
      "16:36:07 - cmdstanpy - INFO - Chain [1] done processing\n",
      "16:36:07 - cmdstanpy - INFO - Chain [1] start processing\n",
      "16:36:08 - cmdstanpy - INFO - Chain [1] done processing\n",
      "16:36:08 - cmdstanpy - INFO - Chain [1] start processing\n",
      "16:36:08 - cmdstanpy - INFO - Chain [1] done processing\n",
      "16:36:09 - cmdstanpy - INFO - Chain [1] start processing\n",
      "16:36:18 - cmdstanpy - INFO - Chain [1] done processing\n",
      "16:36:19 - cmdstanpy - INFO - Chain [1] start processing\n"
     ]
    },
    {
     "name": "stdout",
     "output_type": "stream",
     "text": [
      "JP_MIZUHO\n"
     ]
    },
    {
     "name": "stderr",
     "output_type": "stream",
     "text": [
      "16:36:19 - cmdstanpy - INFO - Chain [1] done processing\n",
      "16:36:19 - cmdstanpy - INFO - Chain [1] start processing\n",
      "16:36:19 - cmdstanpy - INFO - Chain [1] done processing\n",
      "16:36:19 - cmdstanpy - INFO - Chain [1] start processing\n",
      "16:36:19 - cmdstanpy - INFO - Chain [1] done processing\n",
      "16:36:20 - cmdstanpy - INFO - Chain [1] start processing\n",
      "16:36:20 - cmdstanpy - INFO - Chain [1] done processing\n",
      "16:36:20 - cmdstanpy - INFO - Chain [1] start processing\n",
      "16:36:20 - cmdstanpy - INFO - Chain [1] done processing\n",
      "16:36:20 - cmdstanpy - INFO - Chain [1] start processing\n",
      "16:36:21 - cmdstanpy - INFO - Chain [1] done processing\n",
      "16:36:21 - cmdstanpy - INFO - Chain [1] start processing\n",
      "16:36:21 - cmdstanpy - INFO - Chain [1] done processing\n",
      "16:36:21 - cmdstanpy - INFO - Chain [1] start processing\n",
      "16:36:21 - cmdstanpy - INFO - Chain [1] done processing\n",
      "16:36:22 - cmdstanpy - INFO - Chain [1] start processing\n",
      "16:36:22 - cmdstanpy - INFO - Chain [1] done processing\n",
      "16:36:22 - cmdstanpy - INFO - Chain [1] start processing\n",
      "16:36:22 - cmdstanpy - INFO - Chain [1] done processing\n",
      "16:36:22 - cmdstanpy - INFO - Chain [1] start processing\n",
      "16:36:24 - cmdstanpy - INFO - Chain [1] done processing\n",
      "16:36:24 - cmdstanpy - INFO - Chain [1] start processing\n"
     ]
    },
    {
     "name": "stdout",
     "output_type": "stream",
     "text": [
      "Prophet: ['inhouse_labor_ratio', 'managed_contracts_cost', 'managed_contracts_rev', 'labor_band']\n",
      "Random forest (Select from model)['vended_services_cost', 'managed_contracts_rev', 'consult_contracts_rev', 'managed_contracts_cost']\n",
      "Random forest (feature importance function): ['profit_per_fte', 'labor_charge_hourly', 'labor_cost', 'vended_services_cost', 'inhouse_labor_ratio']\n",
      "Decision Tree (Select from model): ['managed_contracts_rev', 'managed_contracts_cost']\n",
      "XG Boost (Select from model):['labor_charge_hourly', 'vended_services_cost', 'inhouse_labor_ratio', 'managed_contracts_rev', 'managed_contracts_cost']\n",
      "XG Boost (Get booster function): ['profit_per_fte', 'labor_cost', 'labor_band', 'consult_contracts_cost', 'labor_charge_hourly', 'vended_services_cost', 'managed_contracts_rev', 'managed_contracts_cost', 'inhouse_labor_ratio']\n"
     ]
    },
    {
     "name": "stderr",
     "output_type": "stream",
     "text": [
      "16:36:24 - cmdstanpy - INFO - Chain [1] done processing\n",
      "16:36:25 - cmdstanpy - INFO - Chain [1] start processing\n",
      "16:36:25 - cmdstanpy - INFO - Chain [1] done processing\n",
      "16:36:25 - cmdstanpy - INFO - Chain [1] start processing\n",
      "16:36:25 - cmdstanpy - INFO - Chain [1] done processing\n",
      "16:36:25 - cmdstanpy - INFO - Chain [1] start processing\n",
      "16:36:25 - cmdstanpy - INFO - Chain [1] done processing\n",
      "16:36:26 - cmdstanpy - INFO - Chain [1] start processing\n",
      "16:36:26 - cmdstanpy - INFO - Chain [1] done processing\n",
      "16:36:26 - cmdstanpy - INFO - Chain [1] start processing\n",
      "16:36:26 - cmdstanpy - INFO - Chain [1] done processing\n",
      "16:36:27 - cmdstanpy - INFO - Chain [1] start processing\n"
     ]
    },
    {
     "name": "stdout",
     "output_type": "stream",
     "text": [
      "JP_MUFGBK\n"
     ]
    },
    {
     "name": "stderr",
     "output_type": "stream",
     "text": [
      "16:36:27 - cmdstanpy - INFO - Chain [1] done processing\n",
      "16:36:27 - cmdstanpy - INFO - Chain [1] start processing\n",
      "16:36:27 - cmdstanpy - INFO - Chain [1] done processing\n",
      "16:36:27 - cmdstanpy - INFO - Chain [1] start processing\n",
      "16:36:27 - cmdstanpy - INFO - Chain [1] done processing\n",
      "16:36:28 - cmdstanpy - INFO - Chain [1] start processing\n",
      "16:36:28 - cmdstanpy - INFO - Chain [1] done processing\n",
      "16:36:28 - cmdstanpy - INFO - Chain [1] start processing\n",
      "16:36:28 - cmdstanpy - INFO - Chain [1] done processing\n",
      "16:36:28 - cmdstanpy - INFO - Chain [1] start processing\n",
      "16:36:29 - cmdstanpy - INFO - Chain [1] done processing\n",
      "16:36:29 - cmdstanpy - INFO - Chain [1] start processing\n",
      "16:36:29 - cmdstanpy - INFO - Chain [1] done processing\n",
      "16:36:29 - cmdstanpy - INFO - Chain [1] start processing\n",
      "16:36:29 - cmdstanpy - INFO - Chain [1] done processing\n",
      "16:36:30 - cmdstanpy - INFO - Chain [1] start processing\n",
      "16:36:30 - cmdstanpy - INFO - Chain [1] done processing\n",
      "16:36:30 - cmdstanpy - INFO - Chain [1] start processing\n",
      "16:36:30 - cmdstanpy - INFO - Chain [1] done processing\n",
      "16:36:30 - cmdstanpy - INFO - Chain [1] start processing\n",
      "16:36:34 - cmdstanpy - INFO - Chain [1] done processing\n",
      "16:36:35 - cmdstanpy - INFO - Chain [1] start processing\n"
     ]
    },
    {
     "name": "stdout",
     "output_type": "stream",
     "text": [
      "Prophet: ['managed_contracts_cost', 'consult_contracts_cost', 'labor_cost', 'managed_contracts_rev']\n",
      "Random forest (Select from model)['labor_cost', 'inhouse_labor_ratio', 'consult_contracts_rev', 'consult_contracts_cost']\n",
      "Random forest (feature importance function): ['profit_per_fte', 'labor_charge_hourly', 'labor_cost', 'vended_services_cost', 'inhouse_labor_ratio']\n",
      "Decision Tree (Select from model): ['inhouse_labor_ratio', 'consult_contracts_cost']\n",
      "XG Boost (Select from model):['consult_contracts_rev']\n",
      "XG Boost (Get booster function): ['profit_per_fte', 'consult_contracts_rev', 'vended_services_cost', 'labor_cost', 'labor_charge_hourly', 'inhouse_labor_ratio', 'gross_profit_margin', 'managed_contracts_rev', 'managed_contracts_cost']\n"
     ]
    },
    {
     "name": "stderr",
     "output_type": "stream",
     "text": [
      "16:36:37 - cmdstanpy - INFO - Chain [1] done processing\n",
      "16:36:37 - cmdstanpy - INFO - Chain [1] start processing\n",
      "16:36:37 - cmdstanpy - INFO - Chain [1] done processing\n",
      "16:36:37 - cmdstanpy - INFO - Chain [1] start processing\n",
      "16:36:40 - cmdstanpy - INFO - Chain [1] done processing\n",
      "16:36:40 - cmdstanpy - INFO - Chain [1] start processing\n",
      "16:36:41 - cmdstanpy - INFO - Chain [1] done processing\n",
      "16:36:41 - cmdstanpy - INFO - Chain [1] start processing\n",
      "16:36:41 - cmdstanpy - INFO - Chain [1] done processing\n",
      "16:36:41 - cmdstanpy - INFO - Chain [1] start processing\n",
      "16:36:42 - cmdstanpy - INFO - Chain [1] done processing\n",
      "16:36:43 - cmdstanpy - INFO - Chain [1] start processing\n"
     ]
    },
    {
     "name": "stdout",
     "output_type": "stream",
     "text": [
      "JP_NICOS\n"
     ]
    },
    {
     "name": "stderr",
     "output_type": "stream",
     "text": [
      "16:36:43 - cmdstanpy - INFO - Chain [1] done processing\n",
      "16:36:43 - cmdstanpy - INFO - Chain [1] start processing\n",
      "16:36:43 - cmdstanpy - INFO - Chain [1] done processing\n",
      "16:36:43 - cmdstanpy - INFO - Chain [1] start processing\n",
      "16:36:44 - cmdstanpy - INFO - Chain [1] done processing\n",
      "16:36:44 - cmdstanpy - INFO - Chain [1] start processing\n",
      "16:36:44 - cmdstanpy - INFO - Chain [1] done processing\n",
      "16:36:44 - cmdstanpy - INFO - Chain [1] start processing\n",
      "16:36:44 - cmdstanpy - INFO - Chain [1] done processing\n",
      "16:36:45 - cmdstanpy - INFO - Chain [1] start processing\n",
      "16:36:45 - cmdstanpy - INFO - Chain [1] done processing\n",
      "16:36:45 - cmdstanpy - INFO - Chain [1] start processing\n",
      "16:36:45 - cmdstanpy - INFO - Chain [1] done processing\n",
      "16:36:45 - cmdstanpy - INFO - Chain [1] start processing\n",
      "16:36:46 - cmdstanpy - INFO - Chain [1] done processing\n",
      "16:36:46 - cmdstanpy - INFO - Chain [1] start processing\n",
      "16:36:46 - cmdstanpy - INFO - Chain [1] done processing\n",
      "16:36:46 - cmdstanpy - INFO - Chain [1] start processing\n",
      "16:36:46 - cmdstanpy - INFO - Chain [1] done processing\n",
      "16:36:47 - cmdstanpy - INFO - Chain [1] start processing\n",
      "16:36:47 - cmdstanpy - INFO - Chain [1] done processing\n",
      "16:36:47 - cmdstanpy - INFO - Chain [1] start processing\n"
     ]
    },
    {
     "name": "stdout",
     "output_type": "stream",
     "text": [
      "Prophet: ['inhouse_labor_ratio', 'managed_contracts_cost', 'vended_services_cost', 'labor_band']\n",
      "Random forest (Select from model)['vended_services_cost', 'labor_band', 'consult_contracts_rev', 'managed_contracts_cost', 'gross_profit_margin']\n",
      "Random forest (feature importance function): ['profit_per_fte', 'labor_charge_hourly', 'labor_cost', 'vended_services_cost', 'inhouse_labor_ratio']\n",
      "Decision Tree (Select from model): ['vended_services_cost', 'managed_contracts_cost', 'gross_profit_margin']\n",
      "XG Boost (Select from model):['managed_contracts_cost']\n",
      "XG Boost (Get booster function): ['vended_services_cost', 'labor_band', 'labor_charge_hourly', 'profit_per_fte', 'managed_contracts_cost', 'labor_cost', 'consult_contracts_cost']\n"
     ]
    },
    {
     "name": "stderr",
     "output_type": "stream",
     "text": [
      "16:36:47 - cmdstanpy - INFO - Chain [1] done processing\n",
      "16:36:48 - cmdstanpy - INFO - Chain [1] start processing\n",
      "16:36:48 - cmdstanpy - INFO - Chain [1] done processing\n",
      "16:36:48 - cmdstanpy - INFO - Chain [1] start processing\n",
      "16:36:48 - cmdstanpy - INFO - Chain [1] done processing\n",
      "16:36:48 - cmdstanpy - INFO - Chain [1] start processing\n",
      "16:36:48 - cmdstanpy - INFO - Chain [1] done processing\n",
      "16:36:49 - cmdstanpy - INFO - Chain [1] start processing\n",
      "16:36:49 - cmdstanpy - INFO - Chain [1] done processing\n",
      "16:36:49 - cmdstanpy - INFO - Chain [1] start processing\n",
      "16:36:52 - cmdstanpy - INFO - Chain [1] done processing\n",
      "16:36:53 - cmdstanpy - INFO - Chain [1] start processing\n"
     ]
    },
    {
     "name": "stdout",
     "output_type": "stream",
     "text": [
      "JP_TIS\n"
     ]
    },
    {
     "name": "stderr",
     "output_type": "stream",
     "text": [
      "16:36:53 - cmdstanpy - INFO - Chain [1] done processing\n",
      "16:36:53 - cmdstanpy - INFO - Chain [1] start processing\n",
      "16:36:53 - cmdstanpy - INFO - Chain [1] done processing\n",
      "16:36:54 - cmdstanpy - INFO - Chain [1] start processing\n",
      "16:36:54 - cmdstanpy - INFO - Chain [1] done processing\n",
      "16:36:54 - cmdstanpy - INFO - Chain [1] start processing\n",
      "16:36:54 - cmdstanpy - INFO - Chain [1] done processing\n",
      "16:36:54 - cmdstanpy - INFO - Chain [1] start processing\n",
      "16:36:54 - cmdstanpy - INFO - Chain [1] done processing\n",
      "16:36:55 - cmdstanpy - INFO - Chain [1] start processing\n",
      "16:36:55 - cmdstanpy - INFO - Chain [1] done processing\n",
      "16:36:55 - cmdstanpy - INFO - Chain [1] start processing\n",
      "16:36:55 - cmdstanpy - INFO - Chain [1] done processing\n",
      "16:36:55 - cmdstanpy - INFO - Chain [1] start processing\n",
      "16:36:56 - cmdstanpy - INFO - Chain [1] done processing\n",
      "16:36:56 - cmdstanpy - INFO - Chain [1] start processing\n",
      "16:36:56 - cmdstanpy - INFO - Chain [1] done processing\n",
      "16:36:56 - cmdstanpy - INFO - Chain [1] start processing\n",
      "16:36:56 - cmdstanpy - INFO - Chain [1] done processing\n",
      "16:36:57 - cmdstanpy - INFO - Chain [1] start processing\n",
      "16:36:59 - cmdstanpy - INFO - Chain [1] done processing\n"
     ]
    },
    {
     "name": "stdout",
     "output_type": "stream",
     "text": [
      "Prophet: ['consult_contracts_rev', 'consult_contracts_cost', 'inhouse_labor_ratio', 'vended_services_cost']\n",
      "Random forest (Select from model)['profit_per_fte', 'labor_band']\n",
      "Random forest (feature importance function): ['profit_per_fte', 'labor_charge_hourly', 'labor_cost', 'vended_services_cost', 'inhouse_labor_ratio']\n",
      "Decision Tree (Select from model): ['profit_per_fte', 'labor_band']\n",
      "XG Boost (Select from model):['profit_per_fte', 'labor_band']\n",
      "XG Boost (Get booster function): ['profit_per_fte', 'labor_band', 'labor_charge_hourly', 'labor_cost', 'vended_services_cost', 'inhouse_labor_ratio']\n"
     ]
    },
    {
     "name": "stderr",
     "output_type": "stream",
     "text": [
      "16:36:59 - cmdstanpy - INFO - Chain [1] start processing\n",
      "16:36:59 - cmdstanpy - INFO - Chain [1] done processing\n",
      "16:36:59 - cmdstanpy - INFO - Chain [1] start processing\n",
      "16:37:00 - cmdstanpy - INFO - Chain [1] done processing\n",
      "16:37:00 - cmdstanpy - INFO - Chain [1] start processing\n",
      "16:37:03 - cmdstanpy - INFO - Chain [1] done processing\n",
      "16:37:03 - cmdstanpy - INFO - Chain [1] start processing\n",
      "16:37:03 - cmdstanpy - INFO - Chain [1] done processing\n",
      "16:37:03 - cmdstanpy - INFO - Chain [1] start processing\n",
      "16:37:04 - cmdstanpy - INFO - Chain [1] done processing\n",
      "16:37:04 - cmdstanpy - INFO - Chain [1] start processing\n",
      "16:37:07 - cmdstanpy - INFO - Chain [1] done processing\n",
      "16:37:07 - cmdstanpy - INFO - Chain [1] start processing\n"
     ]
    },
    {
     "name": "stdout",
     "output_type": "stream",
     "text": [
      "JP_TOHOBK\n"
     ]
    },
    {
     "name": "stderr",
     "output_type": "stream",
     "text": [
      "16:37:07 - cmdstanpy - INFO - Chain [1] done processing\n",
      "16:37:08 - cmdstanpy - INFO - Chain [1] start processing\n",
      "16:37:08 - cmdstanpy - INFO - Chain [1] done processing\n",
      "16:37:08 - cmdstanpy - INFO - Chain [1] start processing\n",
      "16:37:08 - cmdstanpy - INFO - Chain [1] done processing\n",
      "16:37:08 - cmdstanpy - INFO - Chain [1] start processing\n",
      "16:37:08 - cmdstanpy - INFO - Chain [1] done processing\n",
      "16:37:09 - cmdstanpy - INFO - Chain [1] start processing\n",
      "16:37:09 - cmdstanpy - INFO - Chain [1] done processing\n",
      "16:37:09 - cmdstanpy - INFO - Chain [1] start processing\n",
      "16:37:09 - cmdstanpy - INFO - Chain [1] done processing\n",
      "16:37:09 - cmdstanpy - INFO - Chain [1] start processing\n",
      "16:37:10 - cmdstanpy - INFO - Chain [1] done processing\n",
      "16:37:10 - cmdstanpy - INFO - Chain [1] start processing\n",
      "16:37:10 - cmdstanpy - INFO - Chain [1] done processing\n",
      "16:37:10 - cmdstanpy - INFO - Chain [1] start processing\n",
      "16:37:10 - cmdstanpy - INFO - Chain [1] done processing\n",
      "16:37:11 - cmdstanpy - INFO - Chain [1] start processing\n",
      "16:37:11 - cmdstanpy - INFO - Chain [1] done processing\n",
      "16:37:11 - cmdstanpy - INFO - Chain [1] start processing\n",
      "16:37:11 - cmdstanpy - INFO - Chain [1] done processing\n",
      "16:37:11 - cmdstanpy - INFO - Chain [1] start processing\n"
     ]
    },
    {
     "name": "stdout",
     "output_type": "stream",
     "text": [
      "Prophet: ['labor_cost', 'inhouse_labor_ratio', 'consult_contracts_cost', 'vended_services_cost']\n",
      "Random forest (Select from model)['labor_band', 'consult_contracts_rev', 'consult_contracts_cost']\n",
      "Random forest (feature importance function): ['profit_per_fte', 'labor_charge_hourly', 'labor_cost', 'vended_services_cost', 'inhouse_labor_ratio']\n",
      "Decision Tree (Select from model): ['consult_contracts_cost']\n",
      "XG Boost (Select from model):['profit_per_fte']\n",
      "XG Boost (Get booster function): ['profit_per_fte', 'vended_services_cost', 'labor_charge_hourly', 'labor_cost', 'labor_band', 'managed_contracts_rev', 'consult_contracts_rev']\n"
     ]
    },
    {
     "name": "stderr",
     "output_type": "stream",
     "text": [
      "16:37:12 - cmdstanpy - INFO - Chain [1] done processing\n",
      "16:37:12 - cmdstanpy - INFO - Chain [1] start processing\n",
      "16:37:12 - cmdstanpy - INFO - Chain [1] done processing\n",
      "16:37:12 - cmdstanpy - INFO - Chain [1] start processing\n",
      "16:37:12 - cmdstanpy - INFO - Chain [1] done processing\n",
      "16:37:13 - cmdstanpy - INFO - Chain [1] start processing\n",
      "16:37:13 - cmdstanpy - INFO - Chain [1] done processing\n",
      "16:37:13 - cmdstanpy - INFO - Chain [1] start processing\n",
      "16:37:13 - cmdstanpy - INFO - Chain [1] done processing\n",
      "16:37:13 - cmdstanpy - INFO - Chain [1] start processing\n",
      "16:37:17 - cmdstanpy - INFO - Chain [1] done processing\n",
      "16:37:17 - cmdstanpy - INFO - Chain [1] start processing\n"
     ]
    },
    {
     "name": "stdout",
     "output_type": "stream",
     "text": [
      "JP_UN_PORTFO\n"
     ]
    },
    {
     "name": "stderr",
     "output_type": "stream",
     "text": [
      "16:37:17 - cmdstanpy - INFO - Chain [1] done processing\n",
      "16:37:17 - cmdstanpy - INFO - Chain [1] start processing\n",
      "16:37:17 - cmdstanpy - INFO - Chain [1] done processing\n",
      "16:37:18 - cmdstanpy - INFO - Chain [1] start processing\n",
      "16:37:18 - cmdstanpy - INFO - Chain [1] done processing\n",
      "16:37:19 - cmdstanpy - INFO - Chain [1] start processing\n",
      "16:37:19 - cmdstanpy - INFO - Chain [1] done processing\n",
      "16:37:19 - cmdstanpy - INFO - Chain [1] start processing\n",
      "16:37:19 - cmdstanpy - INFO - Chain [1] done processing\n",
      "16:37:20 - cmdstanpy - INFO - Chain [1] start processing\n",
      "16:37:20 - cmdstanpy - INFO - Chain [1] done processing\n",
      "16:37:20 - cmdstanpy - INFO - Chain [1] start processing\n",
      "16:37:21 - cmdstanpy - INFO - Chain [1] done processing\n",
      "16:37:21 - cmdstanpy - INFO - Chain [1] start processing\n"
     ]
    },
    {
     "name": "stdout",
     "output_type": "stream",
     "text": [
      "Prophet: ['managed_contracts_rev', 'consult_contracts_cost', 'consult_contracts_rev', 'labor_cost']\n",
      "Random forest (Select from model)['profit_per_fte', 'labor_charge_hourly', 'labor_band', 'consult_contracts_rev', 'consult_contracts_cost']\n",
      "Random forest (feature importance function): ['profit_per_fte', 'labor_charge_hourly', 'labor_cost', 'vended_services_cost', 'inhouse_labor_ratio']\n",
      "Decision Tree (Select from model): ['consult_contracts_cost']\n",
      "XG Boost (Select from model):['profit_per_fte']\n",
      "XG Boost (Get booster function): ['profit_per_fte', 'managed_contracts_rev', 'consult_contracts_cost', 'gross_profit_margin', 'consult_contracts_rev']\n"
     ]
    },
    {
     "name": "stderr",
     "output_type": "stream",
     "text": [
      "16:37:24 - cmdstanpy - INFO - Chain [1] done processing\n",
      "16:37:24 - cmdstanpy - INFO - Chain [1] start processing\n",
      "16:37:25 - cmdstanpy - INFO - Chain [1] done processing\n",
      "16:37:25 - cmdstanpy - INFO - Chain [1] start processing\n",
      "16:37:25 - cmdstanpy - INFO - Chain [1] done processing\n",
      "16:37:25 - cmdstanpy - INFO - Chain [1] start processing\n",
      "16:37:26 - cmdstanpy - INFO - Chain [1] done processing\n",
      "16:37:26 - cmdstanpy - INFO - Chain [1] start processing\n",
      "16:37:26 - cmdstanpy - INFO - Chain [1] done processing\n",
      "16:37:26 - cmdstanpy - INFO - Chain [1] start processing\n",
      "16:37:28 - cmdstanpy - INFO - Chain [1] done processing\n"
     ]
    },
    {
     "name": "stdout",
     "output_type": "stream",
     "text": [
      "KRNBNYMELLON\n"
     ]
    },
    {
     "name": "stderr",
     "output_type": "stream",
     "text": [
      "16:37:29 - cmdstanpy - INFO - Chain [1] start processing\n",
      "16:37:29 - cmdstanpy - INFO - Chain [1] done processing\n",
      "16:37:30 - cmdstanpy - INFO - Chain [1] start processing\n",
      "16:37:30 - cmdstanpy - INFO - Chain [1] done processing\n",
      "16:37:31 - cmdstanpy - INFO - Chain [1] start processing\n",
      "16:37:31 - cmdstanpy - INFO - Chain [1] done processing\n",
      "16:37:31 - cmdstanpy - INFO - Chain [1] start processing\n",
      "16:37:32 - cmdstanpy - INFO - Chain [1] done processing\n"
     ]
    },
    {
     "name": "stdout",
     "output_type": "stream",
     "text": [
      "Prophet: ['managed_contracts_cost', 'inhouse_labor_ratio', 'labor_band', 'managed_contracts_rev']\n",
      "Random forest (Select from model)['labor_cost', 'managed_contracts_rev', 'managed_contracts_cost', 'gross_profit_margin']\n",
      "Random forest (feature importance function): ['profit_per_fte', 'labor_charge_hourly', 'labor_cost', 'vended_services_cost', 'inhouse_labor_ratio']\n",
      "Decision Tree (Select from model): ['managed_contracts_rev', 'managed_contracts_cost']\n",
      "XG Boost (Select from model):['managed_contracts_rev', 'managed_contracts_cost']\n",
      "XG Boost (Get booster function): ['managed_contracts_rev', 'managed_contracts_cost', 'labor_cost']\n"
     ]
    },
    {
     "name": "stderr",
     "output_type": "stream",
     "text": [
      "16:37:32 - cmdstanpy - INFO - Chain [1] start processing\n",
      "16:37:33 - cmdstanpy - INFO - Chain [1] done processing\n",
      "16:37:33 - cmdstanpy - INFO - Chain [1] start processing\n",
      "16:37:36 - cmdstanpy - INFO - Chain [1] done processing\n",
      "16:37:36 - cmdstanpy - INFO - Chain [1] start processing\n",
      "16:37:37 - cmdstanpy - INFO - Chain [1] done processing\n",
      "16:37:37 - cmdstanpy - INFO - Chain [1] start processing\n",
      "16:37:39 - cmdstanpy - INFO - Chain [1] done processing\n",
      "16:37:39 - cmdstanpy - INFO - Chain [1] start processing\n",
      "16:37:40 - cmdstanpy - INFO - Chain [1] done processing\n",
      "16:37:41 - cmdstanpy - INFO - Chain [1] start processing\n",
      "16:37:43 - cmdstanpy - INFO - Chain [1] done processing\n",
      "16:37:44 - cmdstanpy - INFO - Chain [1] start processing\n"
     ]
    },
    {
     "name": "stdout",
     "output_type": "stream",
     "text": [
      "MEXAMEX\n"
     ]
    },
    {
     "name": "stderr",
     "output_type": "stream",
     "text": [
      "16:37:44 - cmdstanpy - INFO - Chain [1] done processing\n",
      "16:37:44 - cmdstanpy - INFO - Chain [1] start processing\n",
      "16:37:44 - cmdstanpy - INFO - Chain [1] done processing\n",
      "16:37:44 - cmdstanpy - INFO - Chain [1] start processing\n",
      "16:37:44 - cmdstanpy - INFO - Chain [1] done processing\n",
      "16:37:45 - cmdstanpy - INFO - Chain [1] start processing\n",
      "16:37:45 - cmdstanpy - INFO - Chain [1] done processing\n",
      "16:37:45 - cmdstanpy - INFO - Chain [1] start processing\n",
      "16:37:45 - cmdstanpy - INFO - Chain [1] done processing\n",
      "16:37:45 - cmdstanpy - INFO - Chain [1] start processing\n",
      "16:37:46 - cmdstanpy - INFO - Chain [1] done processing\n",
      "16:37:46 - cmdstanpy - INFO - Chain [1] start processing\n",
      "16:37:46 - cmdstanpy - INFO - Chain [1] done processing\n",
      "16:37:46 - cmdstanpy - INFO - Chain [1] start processing\n",
      "16:37:46 - cmdstanpy - INFO - Chain [1] done processing\n",
      "16:37:47 - cmdstanpy - INFO - Chain [1] start processing\n",
      "16:37:51 - cmdstanpy - INFO - Chain [1] done processing\n"
     ]
    },
    {
     "name": "stdout",
     "output_type": "stream",
     "text": [
      "Prophet: ['managed_contracts_rev', 'labor_cost', 'vended_services_cost', 'managed_contracts_cost']\n",
      "Random forest (Select from model)['labor_cost', 'labor_band', 'managed_contracts_rev']\n",
      "Random forest (feature importance function): ['profit_per_fte', 'labor_charge_hourly', 'labor_cost', 'vended_services_cost', 'inhouse_labor_ratio']\n",
      "Decision Tree (Select from model): ['labor_cost', 'managed_contracts_rev']\n",
      "XG Boost (Select from model):['labor_charge_hourly', 'labor_cost', 'labor_band', 'managed_contracts_rev']\n",
      "XG Boost (Get booster function): ['labor_cost', 'profit_per_fte', 'managed_contracts_rev', 'vended_services_cost', 'managed_contracts_cost', 'labor_charge_hourly', 'labor_band']\n",
      "MEXATA\n"
     ]
    },
    {
     "name": "stderr",
     "output_type": "stream",
     "text": [
      "16:37:51 - cmdstanpy - INFO - Chain [1] start processing\n",
      "16:37:52 - cmdstanpy - INFO - Chain [1] done processing\n",
      "16:37:52 - cmdstanpy - INFO - Chain [1] start processing\n",
      "16:37:52 - cmdstanpy - INFO - Chain [1] done processing\n",
      "16:37:52 - cmdstanpy - INFO - Chain [1] start processing\n",
      "16:37:52 - cmdstanpy - INFO - Chain [1] done processing\n",
      "16:37:53 - cmdstanpy - INFO - Chain [1] start processing\n",
      "16:37:53 - cmdstanpy - INFO - Chain [1] done processing\n",
      "16:37:53 - cmdstanpy - INFO - Chain [1] start processing\n",
      "16:37:53 - cmdstanpy - INFO - Chain [1] done processing\n",
      "16:37:53 - cmdstanpy - INFO - Chain [1] start processing\n",
      "16:37:53 - cmdstanpy - INFO - Chain [1] done processing\n",
      "16:37:54 - cmdstanpy - INFO - Chain [1] start processing\n",
      "16:37:54 - cmdstanpy - INFO - Chain [1] done processing\n",
      "16:37:54 - cmdstanpy - INFO - Chain [1] start processing\n",
      "16:37:54 - cmdstanpy - INFO - Chain [1] done processing\n",
      "16:37:54 - cmdstanpy - INFO - Chain [1] start processing\n",
      "16:37:55 - cmdstanpy - INFO - Chain [1] done processing\n",
      "16:37:55 - cmdstanpy - INFO - Chain [1] start processing\n",
      "16:37:55 - cmdstanpy - INFO - Chain [1] done processing\n",
      "16:37:55 - cmdstanpy - INFO - Chain [1] start processing\n",
      "16:37:55 - cmdstanpy - INFO - Chain [1] done processing\n",
      "16:37:56 - cmdstanpy - INFO - Chain [1] start processing\n"
     ]
    },
    {
     "name": "stdout",
     "output_type": "stream",
     "text": [
      "Prophet: ['inhouse_labor_ratio', 'vended_services_cost', 'labor_band', 'managed_contracts_cost']\n",
      "Random forest (Select from model)['profit_per_fte', 'managed_contracts_rev', 'managed_contracts_cost', 'gross_profit_margin']\n",
      "Random forest (feature importance function): ['profit_per_fte', 'labor_charge_hourly', 'labor_cost', 'vended_services_cost', 'inhouse_labor_ratio']\n",
      "Decision Tree (Select from model): ['labor_band', 'managed_contracts_rev']\n",
      "XG Boost (Select from model):['profit_per_fte', 'labor_band']\n",
      "XG Boost (Get booster function): ['labor_charge_hourly', 'profit_per_fte', 'managed_contracts_rev', 'labor_band', 'vended_services_cost', 'labor_cost', 'consult_contracts_rev']\n"
     ]
    },
    {
     "name": "stderr",
     "output_type": "stream",
     "text": [
      "16:37:56 - cmdstanpy - INFO - Chain [1] done processing\n",
      "16:37:56 - cmdstanpy - INFO - Chain [1] start processing\n",
      "16:37:56 - cmdstanpy - INFO - Chain [1] done processing\n",
      "16:37:57 - cmdstanpy - INFO - Chain [1] start processing\n",
      "16:38:00 - cmdstanpy - INFO - Chain [1] done processing\n",
      "16:38:00 - cmdstanpy - INFO - Chain [1] start processing\n",
      "16:38:00 - cmdstanpy - INFO - Chain [1] done processing\n",
      "16:38:00 - cmdstanpy - INFO - Chain [1] start processing\n",
      "16:38:00 - cmdstanpy - INFO - Chain [1] done processing\n",
      "16:38:01 - cmdstanpy - INFO - Chain [1] start processing\n",
      "16:38:04 - cmdstanpy - INFO - Chain [1] done processing\n"
     ]
    },
    {
     "name": "stdout",
     "output_type": "stream",
     "text": [
      "NZBNZBK\n"
     ]
    },
    {
     "name": "stderr",
     "output_type": "stream",
     "text": [
      "16:38:04 - cmdstanpy - INFO - Chain [1] start processing\n",
      "16:38:04 - cmdstanpy - INFO - Chain [1] done processing\n",
      "16:38:05 - cmdstanpy - INFO - Chain [1] start processing\n",
      "16:38:05 - cmdstanpy - INFO - Chain [1] done processing\n",
      "16:38:05 - cmdstanpy - INFO - Chain [1] start processing\n",
      "16:38:05 - cmdstanpy - INFO - Chain [1] done processing\n",
      "16:38:05 - cmdstanpy - INFO - Chain [1] start processing\n",
      "16:38:06 - cmdstanpy - INFO - Chain [1] done processing\n",
      "16:38:06 - cmdstanpy - INFO - Chain [1] start processing\n",
      "16:38:06 - cmdstanpy - INFO - Chain [1] done processing\n",
      "16:38:06 - cmdstanpy - INFO - Chain [1] start processing\n",
      "16:38:06 - cmdstanpy - INFO - Chain [1] done processing\n",
      "16:38:07 - cmdstanpy - INFO - Chain [1] start processing\n",
      "16:38:07 - cmdstanpy - INFO - Chain [1] done processing\n",
      "16:38:07 - cmdstanpy - INFO - Chain [1] start processing\n",
      "16:38:07 - cmdstanpy - INFO - Chain [1] done processing\n",
      "16:38:07 - cmdstanpy - INFO - Chain [1] start processing\n",
      "16:38:08 - cmdstanpy - INFO - Chain [1] done processing\n",
      "16:38:08 - cmdstanpy - INFO - Chain [1] start processing\n",
      "16:38:08 - cmdstanpy - INFO - Chain [1] done processing\n",
      "16:38:08 - cmdstanpy - INFO - Chain [1] start processing\n",
      "16:38:08 - cmdstanpy - INFO - Chain [1] done processing\n",
      "16:38:09 - cmdstanpy - INFO - Chain [1] start processing\n"
     ]
    },
    {
     "name": "stdout",
     "output_type": "stream",
     "text": [
      "Prophet: ['vended_services_cost', 'labor_cost', 'consult_contracts_rev', 'managed_contracts_cost']\n",
      "Random forest (Select from model)['labor_charge_hourly', 'labor_cost', 'labor_band', 'consult_contracts_rev']\n",
      "Random forest (feature importance function): ['profit_per_fte', 'labor_charge_hourly', 'labor_cost', 'vended_services_cost', 'inhouse_labor_ratio']\n",
      "Decision Tree (Select from model): ['consult_contracts_rev']\n",
      "XG Boost (Select from model):['vended_services_cost', 'labor_band']\n",
      "XG Boost (Get booster function): ['consult_contracts_rev', 'profit_per_fte', 'labor_charge_hourly', 'managed_contracts_cost', 'labor_cost', 'vended_services_cost', 'labor_band', 'managed_contracts_rev']\n"
     ]
    },
    {
     "name": "stderr",
     "output_type": "stream",
     "text": [
      "16:38:09 - cmdstanpy - INFO - Chain [1] done processing\n",
      "16:38:09 - cmdstanpy - INFO - Chain [1] start processing\n",
      "16:38:09 - cmdstanpy - INFO - Chain [1] done processing\n",
      "16:38:10 - cmdstanpy - INFO - Chain [1] start processing\n",
      "16:38:10 - cmdstanpy - INFO - Chain [1] done processing\n",
      "16:38:10 - cmdstanpy - INFO - Chain [1] start processing\n",
      "16:38:10 - cmdstanpy - INFO - Chain [1] done processing\n",
      "16:38:11 - cmdstanpy - INFO - Chain [1] start processing\n",
      "16:38:11 - cmdstanpy - INFO - Chain [1] done processing\n",
      "16:38:11 - cmdstanpy - INFO - Chain [1] start processing\n",
      "16:38:11 - cmdstanpy - INFO - Chain [1] done processing\n",
      "16:38:11 - cmdstanpy - INFO - Chain [1] start processing\n"
     ]
    },
    {
     "name": "stdout",
     "output_type": "stream",
     "text": [
      "OVERSEAS_CHI\n"
     ]
    },
    {
     "name": "stderr",
     "output_type": "stream",
     "text": [
      "16:38:12 - cmdstanpy - INFO - Chain [1] done processing\n",
      "16:38:12 - cmdstanpy - INFO - Chain [1] start processing\n",
      "16:38:12 - cmdstanpy - INFO - Chain [1] done processing\n",
      "16:38:12 - cmdstanpy - INFO - Chain [1] start processing\n",
      "16:38:12 - cmdstanpy - INFO - Chain [1] done processing\n",
      "16:38:13 - cmdstanpy - INFO - Chain [1] start processing\n",
      "16:38:13 - cmdstanpy - INFO - Chain [1] done processing\n",
      "16:38:14 - cmdstanpy - INFO - Chain [1] start processing\n",
      "16:38:14 - cmdstanpy - INFO - Chain [1] done processing\n",
      "16:38:14 - cmdstanpy - INFO - Chain [1] start processing\n",
      "16:38:18 - cmdstanpy - INFO - Chain [1] done processing\n",
      "16:38:19 - cmdstanpy - INFO - Chain [1] start processing\n"
     ]
    },
    {
     "name": "stdout",
     "output_type": "stream",
     "text": [
      "Prophet: ['managed_contracts_rev', 'managed_contracts_cost', 'labor_cost', 'inhouse_labor_ratio']\n",
      "Random forest (Select from model)['profit_per_fte', 'managed_contracts_cost', 'gross_profit_margin']\n",
      "Random forest (feature importance function): ['profit_per_fte', 'labor_charge_hourly', 'labor_cost', 'vended_services_cost', 'inhouse_labor_ratio']\n",
      "Decision Tree (Select from model): ['managed_contracts_rev', 'managed_contracts_cost']\n",
      "XG Boost (Select from model):['labor_charge_hourly', 'managed_contracts_cost']\n",
      "XG Boost (Get booster function): ['profit_per_fte', 'managed_contracts_cost', 'labor_charge_hourly', 'managed_contracts_rev', 'labor_cost']\n"
     ]
    },
    {
     "name": "stderr",
     "output_type": "stream",
     "text": [
      "16:38:19 - cmdstanpy - INFO - Chain [1] done processing\n",
      "16:38:19 - cmdstanpy - INFO - Chain [1] start processing\n",
      "16:38:19 - cmdstanpy - INFO - Chain [1] done processing\n",
      "16:38:20 - cmdstanpy - INFO - Chain [1] start processing\n",
      "16:38:20 - cmdstanpy - INFO - Chain [1] done processing\n",
      "16:38:20 - cmdstanpy - INFO - Chain [1] start processing\n",
      "16:38:20 - cmdstanpy - INFO - Chain [1] done processing\n",
      "16:38:20 - cmdstanpy - INFO - Chain [1] start processing\n",
      "16:38:20 - cmdstanpy - INFO - Chain [1] done processing\n",
      "16:38:21 - cmdstanpy - INFO - Chain [1] start processing\n",
      "16:38:23 - cmdstanpy - INFO - Chain [1] done processing\n"
     ]
    },
    {
     "name": "stdout",
     "output_type": "stream",
     "text": [
      "PERBCP\n"
     ]
    },
    {
     "name": "stderr",
     "output_type": "stream",
     "text": [
      "16:38:24 - cmdstanpy - INFO - Chain [1] start processing\n",
      "16:38:24 - cmdstanpy - INFO - Chain [1] done processing\n",
      "16:38:24 - cmdstanpy - INFO - Chain [1] start processing\n",
      "16:38:24 - cmdstanpy - INFO - Chain [1] done processing\n",
      "16:38:24 - cmdstanpy - INFO - Chain [1] start processing\n",
      "16:38:25 - cmdstanpy - INFO - Chain [1] done processing\n",
      "16:38:25 - cmdstanpy - INFO - Chain [1] start processing\n",
      "16:38:25 - cmdstanpy - INFO - Chain [1] done processing\n",
      "16:38:25 - cmdstanpy - INFO - Chain [1] start processing\n",
      "16:38:25 - cmdstanpy - INFO - Chain [1] done processing\n",
      "16:38:25 - cmdstanpy - INFO - Chain [1] start processing\n",
      "16:38:26 - cmdstanpy - INFO - Chain [1] done processing\n",
      "16:38:26 - cmdstanpy - INFO - Chain [1] start processing\n",
      "16:38:26 - cmdstanpy - INFO - Chain [1] done processing\n",
      "16:38:26 - cmdstanpy - INFO - Chain [1] start processing\n",
      "16:38:26 - cmdstanpy - INFO - Chain [1] done processing\n",
      "16:38:27 - cmdstanpy - INFO - Chain [1] start processing\n",
      "16:38:27 - cmdstanpy - INFO - Chain [1] done processing\n",
      "16:38:27 - cmdstanpy - INFO - Chain [1] start processing\n",
      "16:38:27 - cmdstanpy - INFO - Chain [1] done processing\n",
      "16:38:27 - cmdstanpy - INFO - Chain [1] start processing\n",
      "16:38:28 - cmdstanpy - INFO - Chain [1] done processing\n",
      "16:38:28 - cmdstanpy - INFO - Chain [1] start processing\n"
     ]
    },
    {
     "name": "stdout",
     "output_type": "stream",
     "text": [
      "Prophet: ['consult_contracts_rev', 'vended_services_cost', 'inhouse_labor_ratio', 'labor_cost']\n",
      "Random forest (Select from model)['labor_charge_hourly', 'vended_services_cost', 'inhouse_labor_ratio', 'labor_band', 'managed_contracts_rev']\n",
      "Random forest (feature importance function): ['profit_per_fte', 'labor_charge_hourly', 'labor_cost', 'vended_services_cost', 'inhouse_labor_ratio']\n",
      "Decision Tree (Select from model): ['labor_charge_hourly', 'labor_band']\n",
      "XG Boost (Select from model):['inhouse_labor_ratio', 'labor_band', 'consult_contracts_cost']\n",
      "XG Boost (Get booster function): ['profit_per_fte', 'labor_charge_hourly', 'managed_contracts_rev', 'labor_cost', 'labor_band', 'consult_contracts_rev', 'consult_contracts_cost', 'managed_contracts_cost', 'vended_services_cost', 'inhouse_labor_ratio']\n"
     ]
    },
    {
     "name": "stderr",
     "output_type": "stream",
     "text": [
      "16:38:28 - cmdstanpy - INFO - Chain [1] done processing\n",
      "16:38:28 - cmdstanpy - INFO - Chain [1] start processing\n",
      "16:38:29 - cmdstanpy - INFO - Chain [1] done processing\n",
      "16:38:29 - cmdstanpy - INFO - Chain [1] start processing\n",
      "16:38:29 - cmdstanpy - INFO - Chain [1] done processing\n",
      "16:38:29 - cmdstanpy - INFO - Chain [1] start processing\n",
      "16:38:29 - cmdstanpy - INFO - Chain [1] done processing\n",
      "16:38:30 - cmdstanpy - INFO - Chain [1] start processing\n",
      "16:38:30 - cmdstanpy - INFO - Chain [1] done processing\n",
      "16:38:30 - cmdstanpy - INFO - Chain [1] start processing\n",
      "16:38:30 - cmdstanpy - INFO - Chain [1] done processing\n",
      "16:38:30 - cmdstanpy - INFO - Chain [1] start processing\n"
     ]
    },
    {
     "name": "stdout",
     "output_type": "stream",
     "text": [
      "PERMULTIND2M\n"
     ]
    },
    {
     "name": "stderr",
     "output_type": "stream",
     "text": [
      "16:38:31 - cmdstanpy - INFO - Chain [1] done processing\n",
      "16:38:31 - cmdstanpy - INFO - Chain [1] start processing\n",
      "16:38:31 - cmdstanpy - INFO - Chain [1] done processing\n",
      "16:38:31 - cmdstanpy - INFO - Chain [1] start processing\n",
      "16:38:31 - cmdstanpy - INFO - Chain [1] done processing\n",
      "16:38:32 - cmdstanpy - INFO - Chain [1] start processing\n",
      "16:38:32 - cmdstanpy - INFO - Chain [1] done processing\n",
      "16:38:32 - cmdstanpy - INFO - Chain [1] start processing\n",
      "16:38:32 - cmdstanpy - INFO - Chain [1] done processing\n",
      "16:38:32 - cmdstanpy - INFO - Chain [1] start processing\n",
      "16:38:32 - cmdstanpy - INFO - Chain [1] done processing\n",
      "16:38:33 - cmdstanpy - INFO - Chain [1] start processing\n",
      "16:38:33 - cmdstanpy - INFO - Chain [1] done processing\n",
      "16:38:33 - cmdstanpy - INFO - Chain [1] start processing\n",
      "16:38:33 - cmdstanpy - INFO - Chain [1] done processing\n",
      "16:38:33 - cmdstanpy - INFO - Chain [1] start processing\n",
      "16:38:33 - cmdstanpy - INFO - Chain [1] done processing\n",
      "16:38:34 - cmdstanpy - INFO - Chain [1] start processing\n",
      "16:38:34 - cmdstanpy - INFO - Chain [1] done processing\n",
      "16:38:34 - cmdstanpy - INFO - Chain [1] start processing\n"
     ]
    },
    {
     "name": "stdout",
     "output_type": "stream",
     "text": [
      "Prophet: ['consult_contracts_rev', 'managed_contracts_rev', 'managed_contracts_cost', 'vended_services_cost']\n",
      "Random forest (Select from model)['managed_contracts_rev']\n",
      "Random forest (feature importance function): ['profit_per_fte', 'labor_charge_hourly', 'labor_cost', 'vended_services_cost', 'inhouse_labor_ratio']\n",
      "Decision Tree (Select from model): ['labor_charge_hourly', 'vended_services_cost', 'managed_contracts_rev']\n",
      "XG Boost (Select from model):['vended_services_cost', 'managed_contracts_rev']\n",
      "XG Boost (Get booster function): ['managed_contracts_rev', 'profit_per_fte', 'labor_charge_hourly', 'managed_contracts_cost', 'labor_cost', 'vended_services_cost', 'consult_contracts_rev', 'inhouse_labor_ratio']\n",
      "PTMBCP\n"
     ]
    },
    {
     "name": "stderr",
     "output_type": "stream",
     "text": [
      "16:38:35 - cmdstanpy - INFO - Chain [1] done processing\n",
      "16:38:35 - cmdstanpy - INFO - Chain [1] start processing\n",
      "16:38:35 - cmdstanpy - INFO - Chain [1] done processing\n",
      "16:38:35 - cmdstanpy - INFO - Chain [1] start processing\n",
      "16:38:35 - cmdstanpy - INFO - Chain [1] done processing\n",
      "16:38:36 - cmdstanpy - INFO - Chain [1] start processing\n",
      "16:38:36 - cmdstanpy - INFO - Chain [1] done processing\n",
      "16:38:36 - cmdstanpy - INFO - Chain [1] start processing\n",
      "16:38:36 - cmdstanpy - INFO - Chain [1] done processing\n",
      "16:38:36 - cmdstanpy - INFO - Chain [1] start processing\n",
      "16:38:36 - cmdstanpy - INFO - Chain [1] done processing\n",
      "16:38:37 - cmdstanpy - INFO - Chain [1] start processing\n",
      "16:38:37 - cmdstanpy - INFO - Chain [1] done processing\n",
      "16:38:37 - cmdstanpy - INFO - Chain [1] start processing\n",
      "16:38:37 - cmdstanpy - INFO - Chain [1] done processing\n",
      "16:38:37 - cmdstanpy - INFO - Chain [1] start processing\n",
      "16:38:38 - cmdstanpy - INFO - Chain [1] done processing\n",
      "16:38:38 - cmdstanpy - INFO - Chain [1] start processing\n",
      "16:38:38 - cmdstanpy - INFO - Chain [1] done processing\n",
      "16:38:38 - cmdstanpy - INFO - Chain [1] start processing\n",
      "16:38:42 - cmdstanpy - INFO - Chain [1] done processing\n"
     ]
    },
    {
     "name": "stdout",
     "output_type": "stream",
     "text": [
      "Prophet: ['managed_contracts_rev', 'labor_cost', 'managed_contracts_cost', 'labor_charge_hourly']\n",
      "Random forest (Select from model)['labor_charge_hourly', 'inhouse_labor_ratio', 'labor_band', 'managed_contracts_cost']\n",
      "Random forest (feature importance function): ['profit_per_fte', 'labor_charge_hourly', 'labor_cost', 'vended_services_cost', 'inhouse_labor_ratio']\n",
      "Decision Tree (Select from model): ['labor_charge_hourly', 'vended_services_cost']\n",
      "XG Boost (Select from model):['managed_contracts_cost']\n",
      "XG Boost (Get booster function): ['labor_charge_hourly', 'profit_per_fte', 'vended_services_cost', 'labor_cost', 'gross_profit_margin', 'consult_contracts_rev', 'labor_band', 'managed_contracts_cost']\n"
     ]
    },
    {
     "name": "stderr",
     "output_type": "stream",
     "text": [
      "16:38:43 - cmdstanpy - INFO - Chain [1] start processing\n",
      "16:38:43 - cmdstanpy - INFO - Chain [1] done processing\n",
      "16:38:43 - cmdstanpy - INFO - Chain [1] start processing\n",
      "16:38:43 - cmdstanpy - INFO - Chain [1] done processing\n",
      "16:38:43 - cmdstanpy - INFO - Chain [1] start processing\n",
      "16:38:43 - cmdstanpy - INFO - Chain [1] done processing\n",
      "16:38:44 - cmdstanpy - INFO - Chain [1] start processing\n",
      "16:38:44 - cmdstanpy - INFO - Chain [1] done processing\n",
      "16:38:44 - cmdstanpy - INFO - Chain [1] start processing\n",
      "16:38:44 - cmdstanpy - INFO - Chain [1] done processing\n",
      "16:38:44 - cmdstanpy - INFO - Chain [1] start processing\n",
      "16:38:47 - cmdstanpy - INFO - Chain [1] done processing\n"
     ]
    },
    {
     "name": "stdout",
     "output_type": "stream",
     "text": [
      "SECU_CORP_CS\n"
     ]
    },
    {
     "name": "stderr",
     "output_type": "stream",
     "text": [
      "16:38:47 - cmdstanpy - INFO - Chain [1] start processing\n",
      "16:38:47 - cmdstanpy - INFO - Chain [1] done processing\n",
      "16:38:47 - cmdstanpy - INFO - Chain [1] start processing\n",
      "16:38:47 - cmdstanpy - INFO - Chain [1] done processing\n",
      "16:38:48 - cmdstanpy - INFO - Chain [1] start processing\n",
      "16:38:48 - cmdstanpy - INFO - Chain [1] done processing\n",
      "16:38:48 - cmdstanpy - INFO - Chain [1] start processing\n",
      "16:38:48 - cmdstanpy - INFO - Chain [1] done processing\n",
      "16:38:48 - cmdstanpy - INFO - Chain [1] start processing\n",
      "16:38:48 - cmdstanpy - INFO - Chain [1] done processing\n",
      "16:38:49 - cmdstanpy - INFO - Chain [1] start processing\n",
      "16:38:49 - cmdstanpy - INFO - Chain [1] done processing\n",
      "16:38:49 - cmdstanpy - INFO - Chain [1] start processing\n",
      "16:38:49 - cmdstanpy - INFO - Chain [1] done processing\n",
      "16:38:50 - cmdstanpy - INFO - Chain [1] start processing\n",
      "16:38:50 - cmdstanpy - INFO - Chain [1] done processing\n",
      "16:38:50 - cmdstanpy - INFO - Chain [1] start processing\n",
      "16:38:51 - cmdstanpy - INFO - Chain [1] done processing\n",
      "16:38:51 - cmdstanpy - INFO - Chain [1] start processing\n"
     ]
    },
    {
     "name": "stdout",
     "output_type": "stream",
     "text": [
      "Prophet: ['consult_contracts_rev', 'consult_contracts_cost', 'vended_services_cost', 'labor_band']\n",
      "Random forest (Select from model)['consult_contracts_rev', 'gross_profit_margin']\n",
      "Random forest (feature importance function): ['profit_per_fte', 'labor_charge_hourly', 'labor_cost', 'vended_services_cost', 'inhouse_labor_ratio']\n",
      "Decision Tree (Select from model): ['consult_contracts_rev']\n",
      "XG Boost (Select from model):['labor_charge_hourly', 'consult_contracts_rev']\n",
      "XG Boost (Get booster function): ['profit_per_fte', 'consult_contracts_rev', 'labor_charge_hourly', 'vended_services_cost', 'labor_cost', 'consult_contracts_cost']\n"
     ]
    },
    {
     "name": "stderr",
     "output_type": "stream",
     "text": [
      "16:38:51 - cmdstanpy - INFO - Chain [1] done processing\n",
      "16:38:51 - cmdstanpy - INFO - Chain [1] start processing\n",
      "16:38:52 - cmdstanpy - INFO - Chain [1] done processing\n",
      "16:38:52 - cmdstanpy - INFO - Chain [1] start processing\n",
      "16:38:52 - cmdstanpy - INFO - Chain [1] done processing\n",
      "16:38:52 - cmdstanpy - INFO - Chain [1] start processing\n",
      "16:38:52 - cmdstanpy - INFO - Chain [1] done processing\n",
      "16:38:53 - cmdstanpy - INFO - Chain [1] start processing\n",
      "16:38:53 - cmdstanpy - INFO - Chain [1] done processing\n",
      "16:38:53 - cmdstanpy - INFO - Chain [1] start processing\n",
      "16:38:56 - cmdstanpy - INFO - Chain [1] done processing\n",
      "16:38:56 - cmdstanpy - INFO - Chain [1] start processing\n"
     ]
    },
    {
     "name": "stdout",
     "output_type": "stream",
     "text": [
      "SGCREDBUR\n"
     ]
    },
    {
     "name": "stderr",
     "output_type": "stream",
     "text": [
      "16:38:56 - cmdstanpy - INFO - Chain [1] done processing\n",
      "16:38:57 - cmdstanpy - INFO - Chain [1] start processing\n",
      "16:38:57 - cmdstanpy - INFO - Chain [1] done processing\n",
      "16:38:57 - cmdstanpy - INFO - Chain [1] start processing\n",
      "16:38:57 - cmdstanpy - INFO - Chain [1] done processing\n",
      "16:38:58 - cmdstanpy - INFO - Chain [1] start processing\n",
      "16:38:58 - cmdstanpy - INFO - Chain [1] done processing\n",
      "16:38:58 - cmdstanpy - INFO - Chain [1] start processing\n",
      "16:38:58 - cmdstanpy - INFO - Chain [1] done processing\n",
      "16:38:59 - cmdstanpy - INFO - Chain [1] start processing\n",
      "16:38:59 - cmdstanpy - INFO - Chain [1] done processing\n",
      "16:38:59 - cmdstanpy - INFO - Chain [1] start processing\n",
      "16:38:59 - cmdstanpy - INFO - Chain [1] done processing\n",
      "16:38:59 - cmdstanpy - INFO - Chain [1] start processing\n",
      "16:39:00 - cmdstanpy - INFO - Chain [1] done processing\n",
      "16:39:00 - cmdstanpy - INFO - Chain [1] start processing\n",
      "16:39:00 - cmdstanpy - INFO - Chain [1] done processing\n",
      "16:39:00 - cmdstanpy - INFO - Chain [1] start processing\n"
     ]
    },
    {
     "name": "stdout",
     "output_type": "stream",
     "text": [
      "Prophet: ['consult_contracts_cost', 'consult_contracts_rev', 'vended_services_cost', 'managed_contracts_cost']\n",
      "Random forest (Select from model)['labor_cost', 'inhouse_labor_ratio', 'consult_contracts_rev', 'consult_contracts_cost']\n",
      "Random forest (feature importance function): ['profit_per_fte', 'labor_charge_hourly', 'labor_cost', 'vended_services_cost', 'inhouse_labor_ratio']\n",
      "Decision Tree (Select from model): ['consult_contracts_cost']\n",
      "XG Boost (Select from model):['inhouse_labor_ratio']\n",
      "XG Boost (Get booster function): ['labor_cost', 'managed_contracts_cost', 'consult_contracts_rev', 'inhouse_labor_ratio', 'vended_services_cost', 'managed_contracts_rev']\n"
     ]
    },
    {
     "name": "stderr",
     "output_type": "stream",
     "text": [
      "16:39:00 - cmdstanpy - INFO - Chain [1] done processing\n",
      "16:39:01 - cmdstanpy - INFO - Chain [1] start processing\n",
      "16:39:01 - cmdstanpy - INFO - Chain [1] done processing\n",
      "16:39:01 - cmdstanpy - INFO - Chain [1] start processing\n",
      "16:39:01 - cmdstanpy - INFO - Chain [1] done processing\n",
      "16:39:01 - cmdstanpy - INFO - Chain [1] start processing\n",
      "16:39:02 - cmdstanpy - INFO - Chain [1] done processing\n",
      "16:39:02 - cmdstanpy - INFO - Chain [1] start processing\n",
      "16:39:02 - cmdstanpy - INFO - Chain [1] done processing\n",
      "16:39:02 - cmdstanpy - INFO - Chain [1] start processing\n",
      "16:39:05 - cmdstanpy - INFO - Chain [1] done processing\n",
      "16:39:06 - cmdstanpy - INFO - Chain [1] start processing\n"
     ]
    },
    {
     "name": "stdout",
     "output_type": "stream",
     "text": [
      "SIMMON_FIRS\n"
     ]
    },
    {
     "name": "stderr",
     "output_type": "stream",
     "text": [
      "16:39:06 - cmdstanpy - INFO - Chain [1] done processing\n",
      "16:39:06 - cmdstanpy - INFO - Chain [1] start processing\n",
      "16:39:06 - cmdstanpy - INFO - Chain [1] done processing\n",
      "16:39:06 - cmdstanpy - INFO - Chain [1] start processing\n",
      "16:39:06 - cmdstanpy - INFO - Chain [1] done processing\n",
      "16:39:07 - cmdstanpy - INFO - Chain [1] start processing\n",
      "16:39:07 - cmdstanpy - INFO - Chain [1] done processing\n",
      "16:39:07 - cmdstanpy - INFO - Chain [1] start processing\n",
      "16:39:07 - cmdstanpy - INFO - Chain [1] done processing\n",
      "16:39:07 - cmdstanpy - INFO - Chain [1] start processing\n",
      "16:39:08 - cmdstanpy - INFO - Chain [1] done processing\n",
      "16:39:08 - cmdstanpy - INFO - Chain [1] start processing\n",
      "16:39:08 - cmdstanpy - INFO - Chain [1] done processing\n",
      "16:39:08 - cmdstanpy - INFO - Chain [1] start processing\n",
      "16:39:08 - cmdstanpy - INFO - Chain [1] done processing\n",
      "16:39:09 - cmdstanpy - INFO - Chain [1] start processing\n",
      "16:39:09 - cmdstanpy - INFO - Chain [1] done processing\n",
      "16:39:09 - cmdstanpy - INFO - Chain [1] start processing\n",
      "16:39:09 - cmdstanpy - INFO - Chain [1] done processing\n",
      "16:39:09 - cmdstanpy - INFO - Chain [1] start processing\n",
      "16:39:10 - cmdstanpy - INFO - Chain [1] done processing\n",
      "16:39:10 - cmdstanpy - INFO - Chain [1] start processing\n"
     ]
    },
    {
     "name": "stdout",
     "output_type": "stream",
     "text": [
      "Prophet: ['consult_contracts_rev', 'consult_contracts_cost', 'vended_services_cost', 'managed_contracts_rev']\n",
      "Random forest (Select from model)['labor_charge_hourly', 'vended_services_cost', 'inhouse_labor_ratio', 'managed_contracts_rev', 'gross_profit_margin']\n",
      "Random forest (feature importance function): ['profit_per_fte', 'labor_charge_hourly', 'labor_cost', 'vended_services_cost', 'inhouse_labor_ratio']\n",
      "Decision Tree (Select from model): ['labor_charge_hourly', 'managed_contracts_cost', 'gross_profit_margin']\n",
      "XG Boost (Select from model):['labor_charge_hourly', 'gross_profit_margin']\n",
      "XG Boost (Get booster function): ['profit_per_fte', 'vended_services_cost', 'gross_profit_margin', 'labor_charge_hourly', 'managed_contracts_rev', 'labor_cost', 'labor_band']\n"
     ]
    },
    {
     "name": "stderr",
     "output_type": "stream",
     "text": [
      "16:39:10 - cmdstanpy - INFO - Chain [1] done processing\n",
      "16:39:10 - cmdstanpy - INFO - Chain [1] start processing\n",
      "16:39:10 - cmdstanpy - INFO - Chain [1] done processing\n",
      "16:39:11 - cmdstanpy - INFO - Chain [1] start processing\n",
      "16:39:11 - cmdstanpy - INFO - Chain [1] done processing\n",
      "16:39:11 - cmdstanpy - INFO - Chain [1] start processing\n",
      "16:39:11 - cmdstanpy - INFO - Chain [1] done processing\n",
      "16:39:11 - cmdstanpy - INFO - Chain [1] start processing\n",
      "16:39:12 - cmdstanpy - INFO - Chain [1] done processing\n",
      "16:39:12 - cmdstanpy - INFO - Chain [1] start processing\n",
      "16:39:13 - cmdstanpy - INFO - Chain [1] done processing\n"
     ]
    },
    {
     "name": "stdout",
     "output_type": "stream",
     "text": [
      "SWLLOYDS\n"
     ]
    },
    {
     "name": "stderr",
     "output_type": "stream",
     "text": [
      "16:39:13 - cmdstanpy - INFO - Chain [1] start processing\n",
      "16:39:13 - cmdstanpy - INFO - Chain [1] done processing\n",
      "16:39:13 - cmdstanpy - INFO - Chain [1] start processing\n",
      "16:39:13 - cmdstanpy - INFO - Chain [1] done processing\n",
      "16:39:14 - cmdstanpy - INFO - Chain [1] start processing\n",
      "16:39:14 - cmdstanpy - INFO - Chain [1] done processing\n",
      "16:39:14 - cmdstanpy - INFO - Chain [1] start processing\n",
      "16:39:14 - cmdstanpy - INFO - Chain [1] done processing\n",
      "16:39:14 - cmdstanpy - INFO - Chain [1] start processing\n",
      "16:39:14 - cmdstanpy - INFO - Chain [1] done processing\n",
      "16:39:15 - cmdstanpy - INFO - Chain [1] start processing\n",
      "16:39:15 - cmdstanpy - INFO - Chain [1] done processing\n",
      "16:39:15 - cmdstanpy - INFO - Chain [1] start processing\n",
      "16:39:16 - cmdstanpy - INFO - Chain [1] done processing\n",
      "16:39:16 - cmdstanpy - INFO - Chain [1] start processing\n",
      "16:39:16 - cmdstanpy - INFO - Chain [1] done processing\n",
      "16:39:16 - cmdstanpy - INFO - Chain [1] start processing\n",
      "16:39:19 - cmdstanpy - INFO - Chain [1] done processing\n"
     ]
    },
    {
     "name": "stdout",
     "output_type": "stream",
     "text": [
      "Prophet: ['consult_contracts_cost', 'managed_contracts_cost', 'labor_cost', 'managed_contracts_rev']\n",
      "Random forest (Select from model)['profit_per_fte', 'labor_charge_hourly', 'labor_band', 'managed_contracts_cost', 'consult_contracts_cost', 'gross_profit_margin']\n",
      "Random forest (feature importance function): ['profit_per_fte', 'labor_charge_hourly', 'labor_cost', 'vended_services_cost', 'inhouse_labor_ratio']\n",
      "Decision Tree (Select from model): ['labor_band', 'consult_contracts_cost']\n",
      "XG Boost (Select from model):['inhouse_labor_ratio', 'labor_band']\n",
      "XG Boost (Get booster function): ['profit_per_fte', 'vended_services_cost', 'consult_contracts_cost', 'labor_band', 'inhouse_labor_ratio', 'labor_cost', 'labor_charge_hourly', 'managed_contracts_cost']\n"
     ]
    },
    {
     "name": "stderr",
     "output_type": "stream",
     "text": [
      "16:39:19 - cmdstanpy - INFO - Chain [1] start processing\n",
      "16:39:22 - cmdstanpy - INFO - Chain [1] done processing\n",
      "16:39:23 - cmdstanpy - INFO - Chain [1] start processing\n",
      "16:39:26 - cmdstanpy - INFO - Chain [1] done processing\n",
      "16:39:26 - cmdstanpy - INFO - Chain [1] start processing\n",
      "16:39:26 - cmdstanpy - INFO - Chain [1] done processing\n",
      "16:39:26 - cmdstanpy - INFO - Chain [1] start processing\n",
      "16:39:26 - cmdstanpy - INFO - Chain [1] done processing\n",
      "16:39:26 - cmdstanpy - INFO - Chain [1] start processing\n",
      "16:39:27 - cmdstanpy - INFO - Chain [1] done processing\n",
      "16:39:27 - cmdstanpy - INFO - Chain [1] start processing\n",
      "16:39:27 - cmdstanpy - INFO - Chain [1] done processing\n"
     ]
    },
    {
     "name": "stdout",
     "output_type": "stream",
     "text": [
      "UKDAIWA\n"
     ]
    },
    {
     "name": "stderr",
     "output_type": "stream",
     "text": [
      "16:39:27 - cmdstanpy - INFO - Chain [1] start processing\n",
      "16:39:28 - cmdstanpy - INFO - Chain [1] done processing\n",
      "16:39:28 - cmdstanpy - INFO - Chain [1] start processing\n",
      "16:39:28 - cmdstanpy - INFO - Chain [1] done processing\n",
      "16:39:28 - cmdstanpy - INFO - Chain [1] start processing\n",
      "16:39:29 - cmdstanpy - INFO - Chain [1] done processing\n",
      "16:39:30 - cmdstanpy - INFO - Chain [1] start processing\n",
      "16:39:30 - cmdstanpy - INFO - Chain [1] done processing\n",
      "16:39:30 - cmdstanpy - INFO - Chain [1] start processing\n",
      "16:39:30 - cmdstanpy - INFO - Chain [1] done processing\n",
      "16:39:31 - cmdstanpy - INFO - Chain [1] start processing\n",
      "16:39:33 - cmdstanpy - INFO - Chain [1] done processing\n"
     ]
    },
    {
     "ename": "ValueError",
     "evalue": "Input X contains NaN.\nRandomForestRegressor does not accept missing values encoded as NaN natively. For supervised learning, you might want to consider sklearn.ensemble.HistGradientBoostingClassifier and Regressor which accept missing values encoded as NaNs natively. Alternatively, it is possible to preprocess the data, for instance by using an imputer transformer in a pipeline or drop samples with missing values. See https://scikit-learn.org/stable/modules/impute.html You can find a list of all estimators that handle NaN values at the following page: https://scikit-learn.org/stable/modules/impute.html#estimators-that-handle-nan-values",
     "output_type": "error",
     "traceback": [
      "\u001b[1;31m---------------------------------------------------------------------------\u001b[0m",
      "\u001b[1;31mValueError\u001b[0m                                Traceback (most recent call last)",
      "Cell \u001b[1;32mIn[17], line 2\u001b[0m\n\u001b[0;32m      1\u001b[0m all_metric_df \u001b[38;5;241m=\u001b[39m pd\u001b[38;5;241m.\u001b[39mDataFrame(columns \u001b[38;5;241m=\u001b[39m [\u001b[38;5;124m'\u001b[39m\u001b[38;5;124mAccount\u001b[39m\u001b[38;5;124m'\u001b[39m , \u001b[38;5;124m'\u001b[39m\u001b[38;5;124mFeature_select_model\u001b[39m\u001b[38;5;124m'\u001b[39m , \u001b[38;5;124m'\u001b[39m\u001b[38;5;124mlist_of_regressors\u001b[39m\u001b[38;5;124m'\u001b[39m,\u001b[38;5;124m'\u001b[39m\u001b[38;5;124mMAE1\u001b[39m\u001b[38;5;124m'\u001b[39m,\u001b[38;5;124m'\u001b[39m\u001b[38;5;124mMAPE1\u001b[39m\u001b[38;5;124m'\u001b[39m,\u001b[38;5;124m'\u001b[39m\u001b[38;5;124mMAE2\u001b[39m\u001b[38;5;124m'\u001b[39m,\u001b[38;5;124m'\u001b[39m\u001b[38;5;124mMAPE2\u001b[39m\u001b[38;5;124m'\u001b[39m,\u001b[38;5;124m'\u001b[39m\u001b[38;5;124mMAE3\u001b[39m\u001b[38;5;124m'\u001b[39m,\u001b[38;5;124m'\u001b[39m\u001b[38;5;124mMAPE3\u001b[39m\u001b[38;5;124m'\u001b[39m,\u001b[38;5;124m'\u001b[39m\u001b[38;5;124mMAE4\u001b[39m\u001b[38;5;124m'\u001b[39m,\u001b[38;5;124m'\u001b[39m\u001b[38;5;124mMAPE4\u001b[39m\u001b[38;5;124m'\u001b[39m])\n\u001b[1;32m----> 2\u001b[0m \u001b[43mcompare_diff_models\u001b[49m\u001b[43m(\u001b[49m\u001b[43mdf2\u001b[49m\u001b[43m,\u001b[49m\u001b[43mfinal_list\u001b[49m\u001b[43m,\u001b[49m\u001b[43mregressor_list\u001b[49m\u001b[43m)\u001b[49m\n",
      "Cell \u001b[1;32mIn[16], line 63\u001b[0m, in \u001b[0;36mcompare_diff_models\u001b[1;34m(df_func, acc_list, regressor_list)\u001b[0m\n\u001b[0;32m     58\u001b[0m \u001b[38;5;66;03m#print(X)\u001b[39;00m\n\u001b[0;32m     59\u001b[0m \u001b[38;5;66;03m#print(X_train)\u001b[39;00m\n\u001b[0;32m     60\u001b[0m \n\u001b[0;32m     61\u001b[0m \u001b[38;5;66;03m#Random forest regressor\u001b[39;00m\n\u001b[0;32m     62\u001b[0m rf_model \u001b[38;5;241m=\u001b[39m RandomForestRegressor(n_estimators\u001b[38;5;241m=\u001b[39m\u001b[38;5;241m100\u001b[39m)\n\u001b[1;32m---> 63\u001b[0m \u001b[43mrf_model\u001b[49m\u001b[38;5;241;43m.\u001b[39;49m\u001b[43mfit\u001b[49m\u001b[43m(\u001b[49m\u001b[43mX_train\u001b[49m\u001b[43m,\u001b[49m\u001b[43m \u001b[49m\u001b[43my_train\u001b[49m\u001b[43m)\u001b[49m\n\u001b[0;32m     64\u001b[0m sfm_rfr \u001b[38;5;241m=\u001b[39m SelectFromModel(rf_model)\n\u001b[0;32m     65\u001b[0m sfm_rfr\u001b[38;5;241m.\u001b[39mfit(X_train, y_train)\n",
      "File \u001b[1;32m~\\AppData\\Local\\Packages\\PythonSoftwareFoundation.Python.3.9_qbz5n2kfra8p0\\LocalCache\\local-packages\\Python39\\site-packages\\sklearn\\ensemble\\_forest.py:345\u001b[0m, in \u001b[0;36mBaseForest.fit\u001b[1;34m(self, X, y, sample_weight)\u001b[0m\n\u001b[0;32m    343\u001b[0m \u001b[38;5;28;01mif\u001b[39;00m issparse(y):\n\u001b[0;32m    344\u001b[0m     \u001b[38;5;28;01mraise\u001b[39;00m \u001b[38;5;167;01mValueError\u001b[39;00m(\u001b[38;5;124m\"\u001b[39m\u001b[38;5;124msparse multilabel-indicator for y is not supported.\u001b[39m\u001b[38;5;124m\"\u001b[39m)\n\u001b[1;32m--> 345\u001b[0m X, y \u001b[38;5;241m=\u001b[39m \u001b[38;5;28;43mself\u001b[39;49m\u001b[38;5;241;43m.\u001b[39;49m\u001b[43m_validate_data\u001b[49m\u001b[43m(\u001b[49m\n\u001b[0;32m    346\u001b[0m \u001b[43m    \u001b[49m\u001b[43mX\u001b[49m\u001b[43m,\u001b[49m\u001b[43m \u001b[49m\u001b[43my\u001b[49m\u001b[43m,\u001b[49m\u001b[43m \u001b[49m\u001b[43mmulti_output\u001b[49m\u001b[38;5;241;43m=\u001b[39;49m\u001b[38;5;28;43;01mTrue\u001b[39;49;00m\u001b[43m,\u001b[49m\u001b[43m \u001b[49m\u001b[43maccept_sparse\u001b[49m\u001b[38;5;241;43m=\u001b[39;49m\u001b[38;5;124;43m\"\u001b[39;49m\u001b[38;5;124;43mcsc\u001b[39;49m\u001b[38;5;124;43m\"\u001b[39;49m\u001b[43m,\u001b[49m\u001b[43m \u001b[49m\u001b[43mdtype\u001b[49m\u001b[38;5;241;43m=\u001b[39;49m\u001b[43mDTYPE\u001b[49m\n\u001b[0;32m    347\u001b[0m \u001b[43m\u001b[49m\u001b[43m)\u001b[49m\n\u001b[0;32m    348\u001b[0m \u001b[38;5;28;01mif\u001b[39;00m sample_weight \u001b[38;5;129;01mis\u001b[39;00m \u001b[38;5;129;01mnot\u001b[39;00m \u001b[38;5;28;01mNone\u001b[39;00m:\n\u001b[0;32m    349\u001b[0m     sample_weight \u001b[38;5;241m=\u001b[39m _check_sample_weight(sample_weight, X)\n",
      "File \u001b[1;32m~\\AppData\\Local\\Packages\\PythonSoftwareFoundation.Python.3.9_qbz5n2kfra8p0\\LocalCache\\local-packages\\Python39\\site-packages\\sklearn\\base.py:584\u001b[0m, in \u001b[0;36mBaseEstimator._validate_data\u001b[1;34m(self, X, y, reset, validate_separately, **check_params)\u001b[0m\n\u001b[0;32m    582\u001b[0m         y \u001b[38;5;241m=\u001b[39m check_array(y, input_name\u001b[38;5;241m=\u001b[39m\u001b[38;5;124m\"\u001b[39m\u001b[38;5;124my\u001b[39m\u001b[38;5;124m\"\u001b[39m, \u001b[38;5;241m*\u001b[39m\u001b[38;5;241m*\u001b[39mcheck_y_params)\n\u001b[0;32m    583\u001b[0m     \u001b[38;5;28;01melse\u001b[39;00m:\n\u001b[1;32m--> 584\u001b[0m         X, y \u001b[38;5;241m=\u001b[39m check_X_y(X, y, \u001b[38;5;241m*\u001b[39m\u001b[38;5;241m*\u001b[39mcheck_params)\n\u001b[0;32m    585\u001b[0m     out \u001b[38;5;241m=\u001b[39m X, y\n\u001b[0;32m    587\u001b[0m \u001b[38;5;28;01mif\u001b[39;00m \u001b[38;5;129;01mnot\u001b[39;00m no_val_X \u001b[38;5;129;01mand\u001b[39;00m check_params\u001b[38;5;241m.\u001b[39mget(\u001b[38;5;124m\"\u001b[39m\u001b[38;5;124mensure_2d\u001b[39m\u001b[38;5;124m\"\u001b[39m, \u001b[38;5;28;01mTrue\u001b[39;00m):\n",
      "File \u001b[1;32m~\\AppData\\Local\\Packages\\PythonSoftwareFoundation.Python.3.9_qbz5n2kfra8p0\\LocalCache\\local-packages\\Python39\\site-packages\\sklearn\\utils\\validation.py:1106\u001b[0m, in \u001b[0;36mcheck_X_y\u001b[1;34m(X, y, accept_sparse, accept_large_sparse, dtype, order, copy, force_all_finite, ensure_2d, allow_nd, multi_output, ensure_min_samples, ensure_min_features, y_numeric, estimator)\u001b[0m\n\u001b[0;32m   1101\u001b[0m         estimator_name \u001b[38;5;241m=\u001b[39m _check_estimator_name(estimator)\n\u001b[0;32m   1102\u001b[0m     \u001b[38;5;28;01mraise\u001b[39;00m \u001b[38;5;167;01mValueError\u001b[39;00m(\n\u001b[0;32m   1103\u001b[0m         \u001b[38;5;124mf\u001b[39m\u001b[38;5;124m\"\u001b[39m\u001b[38;5;132;01m{\u001b[39;00mestimator_name\u001b[38;5;132;01m}\u001b[39;00m\u001b[38;5;124m requires y to be passed, but the target y is None\u001b[39m\u001b[38;5;124m\"\u001b[39m\n\u001b[0;32m   1104\u001b[0m     )\n\u001b[1;32m-> 1106\u001b[0m X \u001b[38;5;241m=\u001b[39m \u001b[43mcheck_array\u001b[49m\u001b[43m(\u001b[49m\n\u001b[0;32m   1107\u001b[0m \u001b[43m    \u001b[49m\u001b[43mX\u001b[49m\u001b[43m,\u001b[49m\n\u001b[0;32m   1108\u001b[0m \u001b[43m    \u001b[49m\u001b[43maccept_sparse\u001b[49m\u001b[38;5;241;43m=\u001b[39;49m\u001b[43maccept_sparse\u001b[49m\u001b[43m,\u001b[49m\n\u001b[0;32m   1109\u001b[0m \u001b[43m    \u001b[49m\u001b[43maccept_large_sparse\u001b[49m\u001b[38;5;241;43m=\u001b[39;49m\u001b[43maccept_large_sparse\u001b[49m\u001b[43m,\u001b[49m\n\u001b[0;32m   1110\u001b[0m \u001b[43m    \u001b[49m\u001b[43mdtype\u001b[49m\u001b[38;5;241;43m=\u001b[39;49m\u001b[43mdtype\u001b[49m\u001b[43m,\u001b[49m\n\u001b[0;32m   1111\u001b[0m \u001b[43m    \u001b[49m\u001b[43morder\u001b[49m\u001b[38;5;241;43m=\u001b[39;49m\u001b[43morder\u001b[49m\u001b[43m,\u001b[49m\n\u001b[0;32m   1112\u001b[0m \u001b[43m    \u001b[49m\u001b[43mcopy\u001b[49m\u001b[38;5;241;43m=\u001b[39;49m\u001b[43mcopy\u001b[49m\u001b[43m,\u001b[49m\n\u001b[0;32m   1113\u001b[0m \u001b[43m    \u001b[49m\u001b[43mforce_all_finite\u001b[49m\u001b[38;5;241;43m=\u001b[39;49m\u001b[43mforce_all_finite\u001b[49m\u001b[43m,\u001b[49m\n\u001b[0;32m   1114\u001b[0m \u001b[43m    \u001b[49m\u001b[43mensure_2d\u001b[49m\u001b[38;5;241;43m=\u001b[39;49m\u001b[43mensure_2d\u001b[49m\u001b[43m,\u001b[49m\n\u001b[0;32m   1115\u001b[0m \u001b[43m    \u001b[49m\u001b[43mallow_nd\u001b[49m\u001b[38;5;241;43m=\u001b[39;49m\u001b[43mallow_nd\u001b[49m\u001b[43m,\u001b[49m\n\u001b[0;32m   1116\u001b[0m \u001b[43m    \u001b[49m\u001b[43mensure_min_samples\u001b[49m\u001b[38;5;241;43m=\u001b[39;49m\u001b[43mensure_min_samples\u001b[49m\u001b[43m,\u001b[49m\n\u001b[0;32m   1117\u001b[0m \u001b[43m    \u001b[49m\u001b[43mensure_min_features\u001b[49m\u001b[38;5;241;43m=\u001b[39;49m\u001b[43mensure_min_features\u001b[49m\u001b[43m,\u001b[49m\n\u001b[0;32m   1118\u001b[0m \u001b[43m    \u001b[49m\u001b[43mestimator\u001b[49m\u001b[38;5;241;43m=\u001b[39;49m\u001b[43mestimator\u001b[49m\u001b[43m,\u001b[49m\n\u001b[0;32m   1119\u001b[0m \u001b[43m    \u001b[49m\u001b[43minput_name\u001b[49m\u001b[38;5;241;43m=\u001b[39;49m\u001b[38;5;124;43m\"\u001b[39;49m\u001b[38;5;124;43mX\u001b[39;49m\u001b[38;5;124;43m\"\u001b[39;49m\u001b[43m,\u001b[49m\n\u001b[0;32m   1120\u001b[0m \u001b[43m\u001b[49m\u001b[43m)\u001b[49m\n\u001b[0;32m   1122\u001b[0m y \u001b[38;5;241m=\u001b[39m _check_y(y, multi_output\u001b[38;5;241m=\u001b[39mmulti_output, y_numeric\u001b[38;5;241m=\u001b[39my_numeric, estimator\u001b[38;5;241m=\u001b[39mestimator)\n\u001b[0;32m   1124\u001b[0m check_consistent_length(X, y)\n",
      "File \u001b[1;32m~\\AppData\\Local\\Packages\\PythonSoftwareFoundation.Python.3.9_qbz5n2kfra8p0\\LocalCache\\local-packages\\Python39\\site-packages\\sklearn\\utils\\validation.py:921\u001b[0m, in \u001b[0;36mcheck_array\u001b[1;34m(array, accept_sparse, accept_large_sparse, dtype, order, copy, force_all_finite, ensure_2d, allow_nd, ensure_min_samples, ensure_min_features, estimator, input_name)\u001b[0m\n\u001b[0;32m    915\u001b[0m         \u001b[38;5;28;01mraise\u001b[39;00m \u001b[38;5;167;01mValueError\u001b[39;00m(\n\u001b[0;32m    916\u001b[0m             \u001b[38;5;124m\"\u001b[39m\u001b[38;5;124mFound array with dim \u001b[39m\u001b[38;5;132;01m%d\u001b[39;00m\u001b[38;5;124m. \u001b[39m\u001b[38;5;132;01m%s\u001b[39;00m\u001b[38;5;124m expected <= 2.\u001b[39m\u001b[38;5;124m\"\u001b[39m\n\u001b[0;32m    917\u001b[0m             \u001b[38;5;241m%\u001b[39m (array\u001b[38;5;241m.\u001b[39mndim, estimator_name)\n\u001b[0;32m    918\u001b[0m         )\n\u001b[0;32m    920\u001b[0m     \u001b[38;5;28;01mif\u001b[39;00m force_all_finite:\n\u001b[1;32m--> 921\u001b[0m         \u001b[43m_assert_all_finite\u001b[49m\u001b[43m(\u001b[49m\n\u001b[0;32m    922\u001b[0m \u001b[43m            \u001b[49m\u001b[43marray\u001b[49m\u001b[43m,\u001b[49m\n\u001b[0;32m    923\u001b[0m \u001b[43m            \u001b[49m\u001b[43minput_name\u001b[49m\u001b[38;5;241;43m=\u001b[39;49m\u001b[43minput_name\u001b[49m\u001b[43m,\u001b[49m\n\u001b[0;32m    924\u001b[0m \u001b[43m            \u001b[49m\u001b[43mestimator_name\u001b[49m\u001b[38;5;241;43m=\u001b[39;49m\u001b[43mestimator_name\u001b[49m\u001b[43m,\u001b[49m\n\u001b[0;32m    925\u001b[0m \u001b[43m            \u001b[49m\u001b[43mallow_nan\u001b[49m\u001b[38;5;241;43m=\u001b[39;49m\u001b[43mforce_all_finite\u001b[49m\u001b[43m \u001b[49m\u001b[38;5;241;43m==\u001b[39;49m\u001b[43m \u001b[49m\u001b[38;5;124;43m\"\u001b[39;49m\u001b[38;5;124;43mallow-nan\u001b[39;49m\u001b[38;5;124;43m\"\u001b[39;49m\u001b[43m,\u001b[49m\n\u001b[0;32m    926\u001b[0m \u001b[43m        \u001b[49m\u001b[43m)\u001b[49m\n\u001b[0;32m    928\u001b[0m \u001b[38;5;28;01mif\u001b[39;00m ensure_min_samples \u001b[38;5;241m>\u001b[39m \u001b[38;5;241m0\u001b[39m:\n\u001b[0;32m    929\u001b[0m     n_samples \u001b[38;5;241m=\u001b[39m _num_samples(array)\n",
      "File \u001b[1;32m~\\AppData\\Local\\Packages\\PythonSoftwareFoundation.Python.3.9_qbz5n2kfra8p0\\LocalCache\\local-packages\\Python39\\site-packages\\sklearn\\utils\\validation.py:161\u001b[0m, in \u001b[0;36m_assert_all_finite\u001b[1;34m(X, allow_nan, msg_dtype, estimator_name, input_name)\u001b[0m\n\u001b[0;32m    144\u001b[0m \u001b[38;5;28;01mif\u001b[39;00m estimator_name \u001b[38;5;129;01mand\u001b[39;00m input_name \u001b[38;5;241m==\u001b[39m \u001b[38;5;124m\"\u001b[39m\u001b[38;5;124mX\u001b[39m\u001b[38;5;124m\"\u001b[39m \u001b[38;5;129;01mand\u001b[39;00m has_nan_error:\n\u001b[0;32m    145\u001b[0m     \u001b[38;5;66;03m# Improve the error message on how to handle missing values in\u001b[39;00m\n\u001b[0;32m    146\u001b[0m     \u001b[38;5;66;03m# scikit-learn.\u001b[39;00m\n\u001b[0;32m    147\u001b[0m     msg_err \u001b[38;5;241m+\u001b[39m\u001b[38;5;241m=\u001b[39m (\n\u001b[0;32m    148\u001b[0m         \u001b[38;5;124mf\u001b[39m\u001b[38;5;124m\"\u001b[39m\u001b[38;5;130;01m\\n\u001b[39;00m\u001b[38;5;132;01m{\u001b[39;00mestimator_name\u001b[38;5;132;01m}\u001b[39;00m\u001b[38;5;124m does not accept missing values\u001b[39m\u001b[38;5;124m\"\u001b[39m\n\u001b[0;32m    149\u001b[0m         \u001b[38;5;124m\"\u001b[39m\u001b[38;5;124m encoded as NaN natively. For supervised learning, you might want\u001b[39m\u001b[38;5;124m\"\u001b[39m\n\u001b[1;32m   (...)\u001b[0m\n\u001b[0;32m    159\u001b[0m         \u001b[38;5;124m\"\u001b[39m\u001b[38;5;124m#estimators-that-handle-nan-values\u001b[39m\u001b[38;5;124m\"\u001b[39m\n\u001b[0;32m    160\u001b[0m     )\n\u001b[1;32m--> 161\u001b[0m \u001b[38;5;28;01mraise\u001b[39;00m \u001b[38;5;167;01mValueError\u001b[39;00m(msg_err)\n",
      "\u001b[1;31mValueError\u001b[0m: Input X contains NaN.\nRandomForestRegressor does not accept missing values encoded as NaN natively. For supervised learning, you might want to consider sklearn.ensemble.HistGradientBoostingClassifier and Regressor which accept missing values encoded as NaNs natively. Alternatively, it is possible to preprocess the data, for instance by using an imputer transformer in a pipeline or drop samples with missing values. See https://scikit-learn.org/stable/modules/impute.html You can find a list of all estimators that handle NaN values at the following page: https://scikit-learn.org/stable/modules/impute.html#estimators-that-handle-nan-values"
     ]
    }
   ],
   "source": [
    "all_metric_df = pd.DataFrame(columns = ['Account' , 'Feature_select_model' , 'list_of_regressors','MAE1','MAPE1','MAE2','MAPE2','MAE3','MAPE3','MAE4','MAPE4'])\n",
    "compare_diff_models(df2,final_list,regressor_list)"
   ]
  }
 ],
 "metadata": {
  "kernelspec": {
   "display_name": "Python 3",
   "language": "python",
   "name": "python3"
  },
  "language_info": {
   "codemirror_mode": {
    "name": "ipython",
    "version": 3
   },
   "file_extension": ".py",
   "mimetype": "text/x-python",
   "name": "python",
   "nbconvert_exporter": "python",
   "pygments_lexer": "ipython3",
   "version": "3.9.13"
  }
 },
 "nbformat": 4,
 "nbformat_minor": 2
}
